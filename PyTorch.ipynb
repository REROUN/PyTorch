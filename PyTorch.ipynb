{
 "cells": [
  {
   "cell_type": "code",
   "execution_count": 2,
   "id": "febbd99b",
   "metadata": {},
   "outputs": [
    {
     "data": {
      "text/plain": [
       "'2.6.0+cu118'"
      ]
     },
     "execution_count": 2,
     "metadata": {},
     "output_type": "execute_result"
    }
   ],
   "source": [
    "import torch\n",
    "\n",
    "torch.__version__"
   ]
  },
  {
   "cell_type": "markdown",
   "id": "953c20bd",
   "metadata": {},
   "source": [
    "## 텐서 초기화와 데이터 타입"
   ]
  },
  {
   "cell_type": "markdown",
   "id": "05a47383",
   "metadata": {},
   "source": [
    "초기화 되지 않은 텐서"
   ]
  },
  {
   "cell_type": "code",
   "execution_count": 3,
   "id": "131092bc",
   "metadata": {},
   "outputs": [
    {
     "name": "stdout",
     "output_type": "stream",
     "text": [
      "tensor([[1.7602e+13, 1.8511e-42],\n",
      "        [0.0000e+00, 0.0000e+00],\n",
      "        [0.0000e+00, 0.0000e+00],\n",
      "        [0.0000e+00, 0.0000e+00]])\n"
     ]
    }
   ],
   "source": [
    "x = torch.empty(4, 2) # 4 by 2 empty tensor create\n",
    "print(x)"
   ]
  },
  {
   "cell_type": "markdown",
   "id": "a78dc4b2",
   "metadata": {},
   "source": [
    "무작위로 초기화된 텐서"
   ]
  },
  {
   "cell_type": "code",
   "execution_count": 4,
   "id": "d74c849b",
   "metadata": {},
   "outputs": [
    {
     "name": "stdout",
     "output_type": "stream",
     "text": [
      "tensor([[0.4968, 0.1567],\n",
      "        [0.1024, 0.0588],\n",
      "        [0.4225, 0.4379],\n",
      "        [0.9340, 0.4058]])\n"
     ]
    }
   ],
   "source": [
    "x = torch.rand(4, 2)\n",
    "print(x)"
   ]
  },
  {
   "cell_type": "markdown",
   "id": "e7737681",
   "metadata": {},
   "source": [
    "Data type(dtype)이 long이고, 0으로 채워진 텐서"
   ]
  },
  {
   "cell_type": "code",
   "execution_count": 5,
   "id": "f5d08e7d",
   "metadata": {},
   "outputs": [
    {
     "name": "stdout",
     "output_type": "stream",
     "text": [
      "tensor([[0, 0],\n",
      "        [0, 0],\n",
      "        [0, 0],\n",
      "        [0, 0]])\n"
     ]
    }
   ],
   "source": [
    "x = torch.zeros(4, 2, dtype=torch.long)\n",
    "print(x)"
   ]
  },
  {
   "cell_type": "markdown",
   "id": "8a98d4ae",
   "metadata": {},
   "source": [
    "사용자가 입력한 값으로 텐서 초기화"
   ]
  },
  {
   "cell_type": "code",
   "execution_count": 6,
   "id": "9f02d47e",
   "metadata": {},
   "outputs": [
    {
     "name": "stdout",
     "output_type": "stream",
     "text": [
      "tensor([3.0000, 2.3000])\n"
     ]
    }
   ],
   "source": [
    "x = torch.tensor([3, 2.3])\n",
    "print(x)"
   ]
  },
  {
   "cell_type": "markdown",
   "id": "56568f80",
   "metadata": {},
   "source": [
    "2 x 4 크기, double 타입, 1로 채워진 텐서"
   ]
  },
  {
   "cell_type": "code",
   "execution_count": 7,
   "id": "78cf27f0",
   "metadata": {},
   "outputs": [
    {
     "name": "stdout",
     "output_type": "stream",
     "text": [
      "tensor([[1., 1., 1., 1.],\n",
      "        [1., 1., 1., 1.]], dtype=torch.float64)\n"
     ]
    }
   ],
   "source": [
    "x = x.new_ones(2, 4, dtype=torch.double)\n",
    "print(x)"
   ]
  },
  {
   "cell_type": "markdown",
   "id": "d526c785",
   "metadata": {},
   "source": [
    "x와 같은 크기, float 타입, 무작위로 채워진 텐서"
   ]
  },
  {
   "cell_type": "code",
   "execution_count": 8,
   "id": "a9bef826",
   "metadata": {},
   "outputs": [
    {
     "name": "stdout",
     "output_type": "stream",
     "text": [
      "tensor([[ 2.7090,  0.6753, -0.0930,  0.1931],\n",
      "        [-1.4231,  0.0708, -0.5090, -0.3048]])\n"
     ]
    }
   ],
   "source": [
    "x = torch.randn_like(x, dtype=torch.float)\n",
    "print(x)"
   ]
  },
  {
   "cell_type": "markdown",
   "id": "d65b322f",
   "metadata": {},
   "source": [
    "텐서의 크기 계산"
   ]
  },
  {
   "cell_type": "code",
   "execution_count": 9,
   "id": "60f58c26",
   "metadata": {},
   "outputs": [
    {
     "name": "stdout",
     "output_type": "stream",
     "text": [
      "torch.Size([2, 4])\n"
     ]
    }
   ],
   "source": [
    "print(x.size())"
   ]
  },
  {
   "cell_type": "markdown",
   "id": "06a8e51f",
   "metadata": {},
   "source": [
    "## 데이터 타입"
   ]
  },
  {
   "cell_type": "code",
   "execution_count": 10,
   "id": "0131bcfc",
   "metadata": {},
   "outputs": [
    {
     "name": "stdout",
     "output_type": "stream",
     "text": [
      "tensor([1., 2., 3.])\n",
      "torch.float32\n"
     ]
    }
   ],
   "source": [
    "ft = torch.FloatTensor([1, 2, 3])\n",
    "print(ft)\n",
    "print(ft.dtype)"
   ]
  },
  {
   "cell_type": "code",
   "execution_count": 11,
   "id": "a2f3501c",
   "metadata": {},
   "outputs": [
    {
     "name": "stdout",
     "output_type": "stream",
     "text": [
      "tensor([1, 2, 3], dtype=torch.int16)\n",
      "tensor([1, 2, 3], dtype=torch.int32)\n",
      "tensor([1, 2, 3])\n"
     ]
    }
   ],
   "source": [
    "print(ft.short())\n",
    "print(ft.int())\n",
    "print(ft.long())"
   ]
  },
  {
   "cell_type": "code",
   "execution_count": 12,
   "id": "5e3e9d78",
   "metadata": {},
   "outputs": [
    {
     "name": "stdout",
     "output_type": "stream",
     "text": [
      "tensor([1, 2, 3], dtype=torch.int32)\n",
      "torch.int32\n"
     ]
    }
   ],
   "source": [
    "it = torch.IntTensor([1, 2, 3])\n",
    "print(it)\n",
    "print(it.dtype)"
   ]
  },
  {
   "cell_type": "code",
   "execution_count": 13,
   "id": "f4860d29",
   "metadata": {},
   "outputs": [
    {
     "name": "stdout",
     "output_type": "stream",
     "text": [
      "tensor([1., 2., 3.])\n",
      "tensor([1., 2., 3.], dtype=torch.float64)\n",
      "tensor([1., 2., 3.], dtype=torch.float16)\n"
     ]
    }
   ],
   "source": [
    "print(it.float())\n",
    "print(it.double())\n",
    "print(it.half())"
   ]
  },
  {
   "cell_type": "markdown",
   "id": "db9beac2",
   "metadata": {},
   "source": [
    "## CUDA Tensors"
   ]
  },
  {
   "cell_type": "code",
   "execution_count": 14,
   "id": "57734197",
   "metadata": {},
   "outputs": [
    {
     "name": "stdout",
     "output_type": "stream",
     "text": [
      "tensor([1.6468])\n",
      "1.646826148033142\n",
      "torch.float32\n"
     ]
    }
   ],
   "source": [
    "x = torch.randn(1)\n",
    "print(x)\n",
    "print(x.item())\n",
    "print(x.dtype)"
   ]
  },
  {
   "cell_type": "code",
   "execution_count": 15,
   "id": "f1c9e746",
   "metadata": {},
   "outputs": [
    {
     "name": "stdout",
     "output_type": "stream",
     "text": [
      "cuda\n",
      "tensor([1.], device='cuda:0')\n",
      "tensor([1.6468], device='cuda:0')\n",
      "tensor([2.6468], device='cuda:0')\n",
      "tensor([2.6468], dtype=torch.float64)\n"
     ]
    }
   ],
   "source": [
    "device = torch.device('cuda' if torch.cuda.is_available() else 'cpu') # torch.device() 는 'cuda'를 넣으며 GPU, 'cpu'를 넣으면 CPU가 됨\n",
    "print(device)\n",
    "y = torch.ones_like(x, device=device)\n",
    "print(y)\n",
    "x = x.to(device)\n",
    "print(x)\n",
    "z = x + y\n",
    "print(z)\n",
    "print(z.to('cpu', torch.double))"
   ]
  },
  {
   "cell_type": "markdown",
   "id": "18840ca1-b627-4d21-b0b2-6ea3f9af4fa7",
   "metadata": {},
   "source": [
    "## 다차원 텐서 표현"
   ]
  },
  {
   "cell_type": "markdown",
   "id": "111205c5-75ef-4b78-b3ea-54a987324a6c",
   "metadata": {},
   "source": [
    "### 0D Tensor(Scalar)"
   ]
  },
  {
   "cell_type": "code",
   "execution_count": 16,
   "id": "9844e2c1-822d-4ac7-a6e1-54563de1cffc",
   "metadata": {},
   "outputs": [
    {
     "name": "stdout",
     "output_type": "stream",
     "text": [
      "0\n",
      "torch.Size([])\n",
      "tensor(0)\n"
     ]
    }
   ],
   "source": [
    "t0 = torch.tensor(0)\n",
    "print(t0.ndim)\n",
    "print(t0.shape)\n",
    "print(t0)"
   ]
  },
  {
   "cell_type": "markdown",
   "id": "1139fcfa-7ccb-42a5-ac7c-7ca19f45a918",
   "metadata": {},
   "source": [
    "### 1D Tensor(Vector)"
   ]
  },
  {
   "cell_type": "code",
   "execution_count": 17,
   "id": "71545835-7003-474a-8dc5-e94638ed57f5",
   "metadata": {},
   "outputs": [
    {
     "name": "stdout",
     "output_type": "stream",
     "text": [
      "1\n",
      "torch.Size([3])\n",
      "tensor([1, 2, 3])\n"
     ]
    }
   ],
   "source": [
    "t1 = torch.tensor([1, 2, 3])\n",
    "print(t1.ndim)\n",
    "print(t1.shape)\n",
    "print(t1)"
   ]
  },
  {
   "cell_type": "markdown",
   "id": "073191d3-c2d5-4485-99e7-47a416758b0f",
   "metadata": {},
   "source": [
    "### 2D Tensor(Matrix)"
   ]
  },
  {
   "cell_type": "code",
   "execution_count": 18,
   "id": "daca5aef-8989-4502-93ec-e1de26e1f506",
   "metadata": {},
   "outputs": [
    {
     "name": "stdout",
     "output_type": "stream",
     "text": [
      "2\n",
      "torch.Size([3, 3])\n",
      "tensor([[1, 2, 3],\n",
      "        [4, 5, 6],\n",
      "        [7, 8, 9]])\n"
     ]
    }
   ],
   "source": [
    "t2 = torch.tensor([[1, 2, 3],\n",
    "                   [4, 5, 6],\n",
    "                   [7, 8, 9]])\n",
    "print(t2.ndim)\n",
    "print(t2.shape)\n",
    "print(t2)"
   ]
  },
  {
   "cell_type": "markdown",
   "id": "850a7479-ff52-44f1-92ae-1b048766fc4e",
   "metadata": {},
   "source": [
    "### 3D Tensor"
   ]
  },
  {
   "cell_type": "code",
   "execution_count": 19,
   "id": "203d68e4-9fb4-4375-ad07-8e58c572ef2b",
   "metadata": {},
   "outputs": [
    {
     "name": "stdout",
     "output_type": "stream",
     "text": [
      "3\n",
      "torch.Size([3, 3, 3])\n",
      "tensor([[[1, 2, 3],\n",
      "         [4, 5, 6],\n",
      "         [7, 8, 9]],\n",
      "\n",
      "        [[1, 2, 3],\n",
      "         [4, 5, 6],\n",
      "         [7, 8, 9]],\n",
      "\n",
      "        [[1, 2, 3],\n",
      "         [4, 5, 6],\n",
      "         [7, 8, 9]]])\n"
     ]
    }
   ],
   "source": [
    "t3 = torch.tensor([[[1, 2, 3],\n",
    "                   [4, 5, 6],\n",
    "                   [7, 8, 9]],\n",
    "                  [[1, 2, 3],\n",
    "                   [4, 5, 6],\n",
    "                   [7, 8, 9]],\n",
    "                  [[1, 2, 3],\n",
    "                   [4, 5, 6],\n",
    "                   [7, 8, 9]]])\n",
    "print(t3.ndim)\n",
    "print(t3.shape)\n",
    "print(t3)"
   ]
  },
  {
   "cell_type": "markdown",
   "id": "5d22d0cc-6e3e-4e71-ba41-e284854f6fd3",
   "metadata": {},
   "source": [
    "## 텐서의 연산(Operations)"
   ]
  },
  {
   "cell_type": "markdown",
   "id": "3386c432-921f-4d4a-acb9-0438ef7aa4a4",
   "metadata": {},
   "source": [
    "* `abs` : 절댓값\n",
    "* `ceil` : 올림 (양수 : 소수부 날리고 정수부에 +1, 음수 : 소수부만 날림)\n",
    "* `floor` : 내림 (양수 : 소수부만 날림, 음수 : 소수부 날리고 정수부에 +1)\n",
    "* `clamp` : (tensor, 최소, 최대) 최소와 최대 범위까지만 표현"
   ]
  },
  {
   "cell_type": "code",
   "execution_count": 20,
   "id": "ab7d9bc1-51ea-42ab-af2d-a014688be1c5",
   "metadata": {},
   "outputs": [
    {
     "name": "stdout",
     "output_type": "stream",
     "text": [
      "tensor([[-0.0452, -0.7554]])\n",
      "tensor([[0.0452, 0.7554]])\n",
      "tensor([[-0., -0.]])\n",
      "tensor([[-1., -1.]])\n",
      "tensor([[-0.0452, -0.5000]])\n"
     ]
    }
   ],
   "source": [
    "import math\n",
    "\n",
    "a = torch.rand(1, 2) * 2 - 1\n",
    "print(a)\n",
    "print(torch.abs(a))\n",
    "print(torch.ceil(a))\n",
    "print(torch.floor(a))\n",
    "print(torch.clamp(a, -0.5, 0.5))"
   ]
  },
  {
   "cell_type": "markdown",
   "id": "44d9c2f9-ebc9-4494-bd42-e139b8edbff9",
   "metadata": {},
   "source": [
    "* `min` : 최소\n",
    "* `max` : 최대\n",
    "* `mean` : 평균\n",
    "* `std` : 표준편차\n",
    "* `prod` : 곱\n",
    "* `unique` : 유일값"
   ]
  },
  {
   "cell_type": "code",
   "execution_count": 21,
   "id": "26264216-bc58-48d9-80bc-ff2723efc795",
   "metadata": {},
   "outputs": [
    {
     "name": "stdout",
     "output_type": "stream",
     "text": [
      "tensor([[-0.0452, -0.7554]])\n",
      "tensor(-0.7554)\n",
      "tensor(-0.0452)\n",
      "tensor(-0.4003)\n",
      "tensor(0.5022)\n",
      "tensor(0.0342)\n",
      "tensor([1, 2, 3])\n"
     ]
    }
   ],
   "source": [
    "print(a)\n",
    "print(torch.min(a))\n",
    "print(torch.max(a))\n",
    "print(torch.mean(a))\n",
    "print(torch.std(a))\n",
    "print(torch.prod(a))\n",
    "print(torch.unique(torch.tensor([1, 2, 3, 1, 2, 2])))"
   ]
  },
  {
   "cell_type": "markdown",
   "id": "82414bc7-95fc-4130-915a-43507e37fdba",
   "metadata": {},
   "source": [
    "`max`와 `min`은 `dim` 인자를 줄 경우 `argmax` 와 `argmin`도 함께 리턴  \n",
    "     - `argmax` : 최대 값을 가진 인덱스    <br>  - `argmin` : 최소 값을 가진 인덱스"
   ]
  },
  {
   "cell_type": "code",
   "execution_count": 22,
   "id": "241d9ec7-834f-4674-8b1f-b99893e9facd",
   "metadata": {},
   "outputs": [
    {
     "name": "stdout",
     "output_type": "stream",
     "text": [
      "tensor([[0.9137, 0.7200],\n",
      "        [0.4099, 0.0593]])\n",
      "torch.return_types.max(\n",
      "values=tensor([0.9137, 0.7200]),\n",
      "indices=tensor([0, 0]))\n",
      "torch.return_types.max(\n",
      "values=tensor([0.9137, 0.4099]),\n",
      "indices=tensor([0, 0]))\n"
     ]
    }
   ],
   "source": [
    "x = torch.rand(2, 2)\n",
    "print(x)\n",
    "print(x.max(dim=0))\n",
    "print(x.max(dim=1))"
   ]
  },
  {
   "cell_type": "code",
   "execution_count": 23,
   "id": "15505ee2-be1d-4e7c-9908-4dea88c7202a",
   "metadata": {},
   "outputs": [
    {
     "name": "stdout",
     "output_type": "stream",
     "text": [
      "tensor([[0.9137, 0.7200],\n",
      "        [0.4099, 0.0593]])\n",
      "torch.return_types.min(\n",
      "values=tensor([0.4099, 0.0593]),\n",
      "indices=tensor([1, 1]))\n",
      "torch.return_types.min(\n",
      "values=tensor([0.7200, 0.0593]),\n",
      "indices=tensor([1, 1]))\n"
     ]
    }
   ],
   "source": [
    "print(x)\n",
    "print(x.min(dim=0))\n",
    "print(x.min(dim=1))"
   ]
  },
  {
   "cell_type": "markdown",
   "id": "f9771a3a-c362-4001-bd9e-1bdd6dcb6656",
   "metadata": {},
   "source": [
    "* `torch.add` : 덧셈"
   ]
  },
  {
   "cell_type": "code",
   "execution_count": 24,
   "id": "fce8f96d-10ba-45d2-919c-ac188fde73b5",
   "metadata": {},
   "outputs": [
    {
     "name": "stdout",
     "output_type": "stream",
     "text": [
      "tensor([[0.1513, 0.9909],\n",
      "        [0.0869, 0.5943]])\n",
      "tensor([[0.9222, 0.6159],\n",
      "        [0.4395, 0.6925]])\n"
     ]
    }
   ],
   "source": [
    "x = torch.rand(2, 2)\n",
    "print(x)\n",
    "y = torch.rand(2, 2)\n",
    "print(y)"
   ]
  },
  {
   "cell_type": "code",
   "execution_count": 25,
   "id": "4294e3ca-2e97-40bc-b486-128aebb8e9f8",
   "metadata": {},
   "outputs": [
    {
     "name": "stdout",
     "output_type": "stream",
     "text": [
      "tensor([[1.0735, 1.6067],\n",
      "        [0.5264, 1.2869]])\n",
      "tensor([[1.0735, 1.6067],\n",
      "        [0.5264, 1.2869]])\n"
     ]
    }
   ],
   "source": [
    "print(x + y)\n",
    "print(torch.add(x, y))"
   ]
  },
  {
   "cell_type": "code",
   "execution_count": 26,
   "id": "6005a5cc-7c2a-488d-8e0f-88a1fccf7fce",
   "metadata": {},
   "outputs": [
    {
     "name": "stdout",
     "output_type": "stream",
     "text": [
      "tensor([[1.0735, 1.6067],\n",
      "        [0.5264, 1.2869]])\n"
     ]
    },
    {
     "name": "stderr",
     "output_type": "stream",
     "text": [
      "C:\\Users\\LEEKEUN\\AppData\\Local\\Temp\\ipykernel_9856\\196767226.py:2: UserWarning: An output with one or more elements was resized since it had shape [2, 4], which does not match the required output shape [2, 2]. This behavior is deprecated, and in a future PyTorch release outputs will not be resized unless they have zero elements. You can explicitly reuse an out tensor t by resizing it, inplace, to zero elements with t.resize_(0). (Triggered internally at C:\\actions-runner\\_work\\pytorch\\pytorch\\pytorch\\aten\\src\\ATen\\native\\Resize.cpp:37.)\n",
      "  torch.add(x, y, out=result) # out 인자는 result에 결과 값을 넣어주라는 의미\n"
     ]
    }
   ],
   "source": [
    "result = torch.empty(2, 4)\n",
    "torch.add(x, y, out=result) # out 인자는 result에 결과 값을 넣어주라는 의미\n",
    "print(result)"
   ]
  },
  {
   "cell_type": "markdown",
   "id": "9f59d4a2-d582-4c8c-babc-0ec5f02f99d1",
   "metadata": {},
   "source": [
    "* in-place 방식으로 텐서의 값을 변경하는 연산 뒤에는 _(under bar)가 붙음"
   ]
  },
  {
   "cell_type": "code",
   "execution_count": 27,
   "id": "96af84d2-a8fe-4158-a15f-1afb6d45fced",
   "metadata": {},
   "outputs": [
    {
     "name": "stdout",
     "output_type": "stream",
     "text": [
      "tensor([[0.1513, 0.9909],\n",
      "        [0.0869, 0.5943]])\n",
      "tensor([[0.9222, 0.6159],\n",
      "        [0.4395, 0.6925]])\n",
      "tensor([[1.0735, 1.6067],\n",
      "        [0.5264, 1.2869]])\n"
     ]
    }
   ],
   "source": [
    "print(x)\n",
    "print(y)\n",
    "y.add_(x) # x 와 y 를 더한 후 그 값을 y 에 넣어줘\n",
    "print(y)"
   ]
  },
  {
   "cell_type": "markdown",
   "id": "d7fe2b9f-3c48-4bc8-9c3a-44c3ec16379f",
   "metadata": {},
   "source": [
    "* `torch.sub` : 뺄셈"
   ]
  },
  {
   "cell_type": "code",
   "execution_count": 28,
   "id": "867ac949-6691-4f52-a81a-c4007bd73f8d",
   "metadata": {},
   "outputs": [
    {
     "name": "stdout",
     "output_type": "stream",
     "text": [
      "tensor([[0.1513, 0.9909],\n",
      "        [0.0869, 0.5943]])\n",
      "tensor([[1.0735, 1.6067],\n",
      "        [0.5264, 1.2869]])\n",
      "tensor([[-0.9222, -0.6159],\n",
      "        [-0.4395, -0.6925]])\n",
      "tensor([[-0.9222, -0.6159],\n",
      "        [-0.4395, -0.6925]])\n",
      "tensor([[-0.9222, -0.6159],\n",
      "        [-0.4395, -0.6925]])\n"
     ]
    }
   ],
   "source": [
    "print(x)\n",
    "print(y)\n",
    "print(x - y)\n",
    "print(torch.sub(x, y))\n",
    "print(x.sub_(y))"
   ]
  },
  {
   "cell_type": "markdown",
   "id": "ef895d7f-0b7e-495e-97cc-048ebf8c6f2d",
   "metadata": {},
   "source": [
    "* `torch.mul` : 곱셈"
   ]
  },
  {
   "cell_type": "code",
   "execution_count": 29,
   "id": "2cb57a00-be76-4d91-8af3-1ecf0135b2b7",
   "metadata": {},
   "outputs": [
    {
     "name": "stdout",
     "output_type": "stream",
     "text": [
      "tensor([[-0.9222, -0.6159],\n",
      "        [-0.4395, -0.6925]])\n",
      "tensor([[1.0735, 1.6067],\n",
      "        [0.5264, 1.2869]])\n",
      "tensor([[-0.9900, -0.9895],\n",
      "        [-0.2313, -0.8912]])\n",
      "tensor([[-0.9900, -0.9895],\n",
      "        [-0.2313, -0.8912]])\n",
      "tensor([[-0.9900, -0.9895],\n",
      "        [-0.2313, -0.8912]])\n"
     ]
    }
   ],
   "source": [
    "print(x)\n",
    "print(y)\n",
    "print(x * y)\n",
    "print(torch.mul(x, y))\n",
    "print(x.mul_(y))"
   ]
  },
  {
   "cell_type": "markdown",
   "id": "590e8fac-f8fe-4087-a6c4-8ab9a7b9ff0e",
   "metadata": {},
   "source": [
    "* `torch.div` : 나눗셈"
   ]
  },
  {
   "cell_type": "code",
   "execution_count": 30,
   "id": "7ab5ad76-2db0-40f6-b9f2-77c73fb4e101",
   "metadata": {},
   "outputs": [
    {
     "name": "stdout",
     "output_type": "stream",
     "text": [
      "tensor([[-0.9900, -0.9895],\n",
      "        [-0.2313, -0.8912]])\n",
      "tensor([[1.0735, 1.6067],\n",
      "        [0.5264, 1.2869]])\n",
      "tensor([[-0.9222, -0.6159],\n",
      "        [-0.4395, -0.6925]])\n",
      "tensor([[-0.9222, -0.6159],\n",
      "        [-0.4395, -0.6925]])\n",
      "tensor([[-0.9222, -0.6159],\n",
      "        [-0.4395, -0.6925]])\n"
     ]
    }
   ],
   "source": [
    "print(x)\n",
    "print(y)\n",
    "print(x / y)\n",
    "print(torch.div(x, y))\n",
    "print(x.div_(y))"
   ]
  },
  {
   "cell_type": "markdown",
   "id": "0a397aee-152f-44bf-8c86-cc6a4ce68f19",
   "metadata": {},
   "source": [
    "* `torch.mm` : 내적(dot product), 즉 행렬의 곱"
   ]
  },
  {
   "cell_type": "code",
   "execution_count": 31,
   "id": "f2129918-6cfe-4f1a-a466-c92ee92361e9",
   "metadata": {},
   "outputs": [
    {
     "name": "stdout",
     "output_type": "stream",
     "text": [
      "tensor([[-0.9222, -0.6159],\n",
      "        [-0.4395, -0.6925]])\n",
      "tensor([[1.0735, 1.6067],\n",
      "        [0.5264, 1.2869]])\n",
      "tensor([[-1.3142, -2.2743],\n",
      "        [-0.8363, -1.5973]])\n",
      "tensor([[-1.3142, -2.2743],\n",
      "        [-0.8363, -1.5973]])\n",
      "torch.return_types.svd(\n",
      "U=tensor([[-0.8245, -0.5658],\n",
      "        [-0.5658,  0.8245]]),\n",
      "S=tensor([3.1854, 0.0619]),\n",
      "V=tensor([[ 0.4887,  0.8724],\n",
      "        [ 0.8724, -0.4887]]))\n"
     ]
    }
   ],
   "source": [
    "print(x)\n",
    "print(y)\n",
    "print(torch.matmul(x, y))\n",
    "z = torch.mm(x, y)\n",
    "print(z)\n",
    "print(torch.svd(z)) # Singular Value Decomposition : 행렬을 특정한 구조로 분해하는 방식"
   ]
  },
  {
   "cell_type": "markdown",
   "id": "c5c2d354-2fc9-4621-a2a1-84d280448b36",
   "metadata": {},
   "source": [
    "## 텐서의 조작(Manipulations)"
   ]
  },
  {
   "cell_type": "markdown",
   "id": "89697972-c6aa-40dd-95bc-0461891b1f2f",
   "metadata": {},
   "source": [
    "인덱싱(Indexing) : NumPy처럼 인덱싱 형태로 사용 가능"
   ]
  },
  {
   "cell_type": "code",
   "execution_count": 32,
   "id": "bc38b151-1f15-4295-b252-f5d9413f65c9",
   "metadata": {},
   "outputs": [
    {
     "name": "stdout",
     "output_type": "stream",
     "text": [
      "tensor([[1., 2.],\n",
      "        [3., 4.]])\n",
      "tensor(1.)\n",
      "tensor(2.)\n",
      "tensor(3.)\n",
      "tensor(4.)\n",
      "tensor([1., 3.])\n",
      "tensor([2., 4.])\n",
      "tensor([1., 2.])\n",
      "tensor([3., 4.])\n"
     ]
    }
   ],
   "source": [
    "x = torch.Tensor([[1, 2],\n",
    "                  [3, 4]])\n",
    "print(x)\n",
    "\n",
    "print(x[0, 0])\n",
    "print(x[0, 1])\n",
    "print(x[1, 0])\n",
    "print(x[1, 1])\n",
    "\n",
    "print(x[:, 0])\n",
    "print(x[:, 1])\n",
    "\n",
    "print(x[0, :])\n",
    "print(x[1, :])"
   ]
  },
  {
   "cell_type": "markdown",
   "id": "16482716-29f4-4894-b8f7-c117602fc907",
   "metadata": {},
   "source": [
    "* `view` : 텐서의 크기(size)나 모양(shape)을 변경  \n",
    "   *- 기본적으로 변경 전과 후에 텐서 안의 원소 개수가 유지되어야 함\n",
    "  <br>* - -1로 설정되면 계산을 통해 해당 크기 값을 유"
   ]
  },
  {
   "cell_type": "code",
   "execution_count": 33,
   "id": "c3a81103-1090-4f5e-863b-35232443573e",
   "metadata": {},
   "outputs": [
    {
     "name": "stdout",
     "output_type": "stream",
     "text": [
      "tensor([[-0.8281, -0.9354,  1.3436,  0.1680,  0.3589],\n",
      "        [ 0.2112, -1.3847,  1.3251,  0.7561, -0.9144],\n",
      "        [ 0.4404, -0.5936,  1.1327,  0.7223, -0.3090],\n",
      "        [-0.8327, -0.5651, -0.3610, -1.3026, -0.4379]])\n",
      "tensor([-0.8281, -0.9354,  1.3436,  0.1680,  0.3589,  0.2112, -1.3847,  1.3251,\n",
      "         0.7561, -0.9144,  0.4404, -0.5936,  1.1327,  0.7223, -0.3090, -0.8327,\n",
      "        -0.5651, -0.3610, -1.3026, -0.4379])\n",
      "tensor([[-0.8281, -0.9354,  1.3436,  0.1680],\n",
      "        [ 0.3589,  0.2112, -1.3847,  1.3251],\n",
      "        [ 0.7561, -0.9144,  0.4404, -0.5936],\n",
      "        [ 1.1327,  0.7223, -0.3090, -0.8327],\n",
      "        [-0.5651, -0.3610, -1.3026, -0.4379]])\n"
     ]
    }
   ],
   "source": [
    "x = torch.randn(4, 5)\n",
    "print(x)\n",
    "y = x.view(20)\n",
    "print(y)\n",
    "z = x.view(5, -1)\n",
    "print(z)"
   ]
  },
  {
   "cell_type": "markdown",
   "id": "513da6a3-f603-4d7f-8349-a0284e5c5961",
   "metadata": {},
   "source": [
    "* `item` : 텐서에 값이 단 하나라도 존재하면 숫자값을 얻을 수 있음\n",
    "* 단 스칼라 값 하나만 존재해야 `item()` 사용 가능"
   ]
  },
  {
   "cell_type": "code",
   "execution_count": 34,
   "id": "99bbdf54-d6f2-4dfa-bdd0-4c1b26365d28",
   "metadata": {},
   "outputs": [
    {
     "name": "stdout",
     "output_type": "stream",
     "text": [
      "tensor([0.7007])\n",
      "0.7006994485855103\n",
      "torch.float32\n"
     ]
    }
   ],
   "source": [
    "x = torch.randn(1)\n",
    "print(x)\n",
    "print(x.item())\n",
    "print(x.dtype)"
   ]
  },
  {
   "cell_type": "code",
   "execution_count": 35,
   "id": "caa1abac-edbf-4296-87c6-2e5a219b1401",
   "metadata": {},
   "outputs": [
    {
     "name": "stdout",
     "output_type": "stream",
     "text": [
      "tensor([0.6473, 1.8073])\n",
      "torch.float32\n"
     ]
    }
   ],
   "source": [
    "x = torch.randn(2)\n",
    "print(x)\n",
    "# print(x.item()) # 값 하나만 가져올 수 있음\n",
    "print(x.dtype)"
   ]
  },
  {
   "cell_type": "markdown",
   "id": "e40a9c6e-00d8-4955-bcf0-55754df9b03d",
   "metadata": {},
   "source": [
    "* `squeeze` : 차원을 축소(제거)"
   ]
  },
  {
   "cell_type": "code",
   "execution_count": 36,
   "id": "7be6a6b3-eab1-43a1-9d97-604f80ed45cd",
   "metadata": {},
   "outputs": [
    {
     "name": "stdout",
     "output_type": "stream",
     "text": [
      "tensor([[[0.4074, 0.2706, 0.7541],\n",
      "         [0.6551, 0.1332, 0.3822],\n",
      "         [0.3833, 0.2099, 0.3829]]])\n",
      "torch.Size([1, 3, 3])\n"
     ]
    }
   ],
   "source": [
    "tensor = torch.rand(1, 3, 3)\n",
    "print(tensor)\n",
    "print(tensor.shape)"
   ]
  },
  {
   "cell_type": "code",
   "execution_count": 37,
   "id": "d23505ac-106e-4fb9-81d5-7c39fbfeb6d7",
   "metadata": {},
   "outputs": [
    {
     "name": "stdout",
     "output_type": "stream",
     "text": [
      "tensor([[0.4074, 0.2706, 0.7541],\n",
      "        [0.6551, 0.1332, 0.3822],\n",
      "        [0.3833, 0.2099, 0.3829]])\n",
      "torch.Size([3, 3])\n"
     ]
    }
   ],
   "source": [
    "t = tensor.squeeze()\n",
    "print(t)\n",
    "print(t.shape)"
   ]
  },
  {
   "cell_type": "markdown",
   "id": "6ba31abc-db7d-4743-ac2e-deee6449c24c",
   "metadata": {},
   "source": [
    "* `unsqueeze` : 차원을 증가(생성)"
   ]
  },
  {
   "cell_type": "code",
   "execution_count": 38,
   "id": "40c10013-a34d-4642-b5dc-96678134d4ac",
   "metadata": {},
   "outputs": [
    {
     "name": "stdout",
     "output_type": "stream",
     "text": [
      "tensor([[0.9935, 0.5217, 0.3933],\n",
      "        [0.9427, 0.3292, 0.6121],\n",
      "        [0.0946, 0.0185, 0.7270]])\n",
      "torch.Size([3, 3])\n"
     ]
    }
   ],
   "source": [
    "t = torch.rand(3, 3)\n",
    "print(t)\n",
    "print(t.shape)"
   ]
  },
  {
   "cell_type": "code",
   "execution_count": 39,
   "id": "abaf3665-034b-468e-914e-df3917ffdd3a",
   "metadata": {},
   "outputs": [
    {
     "name": "stdout",
     "output_type": "stream",
     "text": [
      "tensor([[[0.9935, 0.5217, 0.3933],\n",
      "         [0.9427, 0.3292, 0.6121],\n",
      "         [0.0946, 0.0185, 0.7270]]])\n",
      "torch.Size([1, 3, 3])\n"
     ]
    }
   ],
   "source": [
    "tensor = t.unsqueeze(dim=0)\n",
    "print(tensor)\n",
    "print(tensor.shape)"
   ]
  },
  {
   "cell_type": "code",
   "execution_count": 40,
   "id": "d3165848-2c8f-4b95-bf62-6da7650b2ebb",
   "metadata": {},
   "outputs": [
    {
     "name": "stdout",
     "output_type": "stream",
     "text": [
      "tensor([[[0.9935],\n",
      "         [0.5217],\n",
      "         [0.3933]],\n",
      "\n",
      "        [[0.9427],\n",
      "         [0.3292],\n",
      "         [0.6121]],\n",
      "\n",
      "        [[0.0946],\n",
      "         [0.0185],\n",
      "         [0.7270]]])\n",
      "torch.Size([3, 3, 1])\n"
     ]
    }
   ],
   "source": [
    "tensor = t.unsqueeze(dim=2)\n",
    "print(tensor)\n",
    "print(tensor.shape)"
   ]
  },
  {
   "cell_type": "markdown",
   "id": "df77fe8c-c025-4563-ba81-9195fec3e9bd",
   "metadata": {},
   "source": [
    "* `stack` : 텐서간 결합"
   ]
  },
  {
   "cell_type": "code",
   "execution_count": 41,
   "id": "d6bde6eb-fee3-4506-b478-9f4e3cbe1c4f",
   "metadata": {},
   "outputs": [
    {
     "name": "stdout",
     "output_type": "stream",
     "text": [
      "tensor([1., 4.])\n",
      "tensor([2., 5.])\n",
      "tensor([3., 6.])\n",
      "tensor([[1., 4.],\n",
      "        [2., 5.],\n",
      "        [3., 6.]])\n"
     ]
    }
   ],
   "source": [
    "x = torch.FloatTensor([1, 4])\n",
    "print(x)\n",
    "y = torch.FloatTensor([2, 5])\n",
    "print(y)\n",
    "z = torch.FloatTensor([3, 6])\n",
    "print(z)\n",
    "\n",
    "print(torch.stack([x, y, z]))"
   ]
  },
  {
   "cell_type": "markdown",
   "id": "bda560f9-623c-447d-b5e3-ea3903eda0c0",
   "metadata": {},
   "source": [
    "* `cat` : 텐서를 결합하는 메소드(concatenate)\n",
    "    * 넘파이의 stack과 유사하지만, 쌓을 dim이 존재해야함\n",
    "    * 해당 차원을 늘려준 후 결합"
   ]
  },
  {
   "cell_type": "code",
   "execution_count": 42,
   "id": "2f7d5ce0-3274-4b29-b63e-6f8c31ce31a7",
   "metadata": {},
   "outputs": [
    {
     "name": "stdout",
     "output_type": "stream",
     "text": [
      "tensor([[[ 1.5407, -0.7083, -0.3045],\n",
      "         [ 0.7139, -0.9251,  0.5471],\n",
      "         [ 1.1314, -0.6149, -0.6741]]])\n",
      "tensor([[[ 0.3085, -1.4137,  0.4995],\n",
      "         [ 1.2626, -0.0055, -0.3352],\n",
      "         [ 2.3873, -0.9880, -2.9645]]])\n",
      "tensor([[[ 1.5407, -0.7083, -0.3045],\n",
      "         [ 0.7139, -0.9251,  0.5471],\n",
      "         [ 1.1314, -0.6149, -0.6741]],\n",
      "\n",
      "        [[ 0.3085, -1.4137,  0.4995],\n",
      "         [ 1.2626, -0.0055, -0.3352],\n",
      "         [ 2.3873, -0.9880, -2.9645]]])\n",
      "torch.Size([2, 3, 3])\n"
     ]
    }
   ],
   "source": [
    "a = torch.randn(1, 3, 3)\n",
    "print(a)\n",
    "b = torch.randn(1, 3, 3)\n",
    "print(b)\n",
    "c = torch.cat((a, b), dim=0)\n",
    "print(c)\n",
    "print(c.size())"
   ]
  },
  {
   "cell_type": "code",
   "execution_count": 43,
   "id": "8adead5f-cf35-42f7-9ffc-9084f19f1aa6",
   "metadata": {},
   "outputs": [
    {
     "name": "stdout",
     "output_type": "stream",
     "text": [
      "tensor([[[ 1.5407, -0.7083, -0.3045],\n",
      "         [ 0.7139, -0.9251,  0.5471],\n",
      "         [ 1.1314, -0.6149, -0.6741],\n",
      "         [ 0.3085, -1.4137,  0.4995],\n",
      "         [ 1.2626, -0.0055, -0.3352],\n",
      "         [ 2.3873, -0.9880, -2.9645]]])\n",
      "torch.Size([1, 6, 3])\n"
     ]
    }
   ],
   "source": [
    "c = torch.cat((a, b), dim=1)\n",
    "print(c)\n",
    "print(c.size())"
   ]
  },
  {
   "cell_type": "code",
   "execution_count": 44,
   "id": "e2d84c21-0539-4e88-98ad-d8c566dacfb0",
   "metadata": {},
   "outputs": [
    {
     "name": "stdout",
     "output_type": "stream",
     "text": [
      "tensor([[[ 1.5407, -0.7083, -0.3045,  0.3085, -1.4137,  0.4995],\n",
      "         [ 0.7139, -0.9251,  0.5471,  1.2626, -0.0055, -0.3352],\n",
      "         [ 1.1314, -0.6149, -0.6741,  2.3873, -0.9880, -2.9645]]])\n",
      "torch.Size([1, 3, 6])\n"
     ]
    }
   ],
   "source": [
    "c = torch.cat((a, b), dim=2)\n",
    "print(c)\n",
    "print(c.size())"
   ]
  },
  {
   "cell_type": "markdown",
   "id": "2c9943a3-4f89-45c3-aaca-1eef7419e620",
   "metadata": {},
   "source": [
    "* `chunk` : 텐서를 여러 개로 나눌 때 사용 (몇 개로 나눌 것인가?)"
   ]
  },
  {
   "cell_type": "code",
   "execution_count": 45,
   "id": "731f92ef-7ef5-44f7-99cd-5bc438bdfca5",
   "metadata": {},
   "outputs": [
    {
     "name": "stdout",
     "output_type": "stream",
     "text": [
      "tensor([[0.2831, 0.2479, 0.3012, 0.7250, 0.9487, 0.9061],\n",
      "        [0.7402, 0.5088, 0.5069, 0.5723, 0.8124, 0.8268],\n",
      "        [0.1670, 0.8638, 0.0624, 0.5136, 0.0202, 0.1193]])\n",
      "tensor([[0.2831, 0.2479],\n",
      "        [0.7402, 0.5088],\n",
      "        [0.1670, 0.8638]])\n",
      "tensor([[0.3012, 0.7250],\n",
      "        [0.5069, 0.5723],\n",
      "        [0.0624, 0.5136]])\n",
      "tensor([[0.9487, 0.9061],\n",
      "        [0.8124, 0.8268],\n",
      "        [0.0202, 0.1193]])\n"
     ]
    }
   ],
   "source": [
    "tensor = torch.rand(3, 6)\n",
    "print(tensor)\n",
    "t1, t2, t3 = torch.chunk(tensor, 3, dim=1)\n",
    "print(t1)\n",
    "print(t2)\n",
    "print(t3)"
   ]
  },
  {
   "cell_type": "markdown",
   "id": "c9935aa0-119c-4475-92d7-dea23415ed3b",
   "metadata": {},
   "source": [
    "* `split` : `chunk`와 동일한 기능이지만 조금 다름 (텐서의 크기는 몇인가?)"
   ]
  },
  {
   "cell_type": "code",
   "execution_count": 46,
   "id": "903b483e-82e1-4966-9dde-a07eb96108a7",
   "metadata": {},
   "outputs": [
    {
     "name": "stdout",
     "output_type": "stream",
     "text": [
      "tensor([[0.6049, 0.8255, 0.6029, 0.7049, 0.9250, 0.5128],\n",
      "        [0.8944, 0.9973, 0.5860, 0.9648, 0.7428, 0.9470],\n",
      "        [0.2903, 0.0430, 0.9024, 0.1778, 0.1176, 0.0610]])\n",
      "tensor([[0.6049, 0.8255, 0.6029],\n",
      "        [0.8944, 0.9973, 0.5860],\n",
      "        [0.2903, 0.0430, 0.9024]])\n",
      "tensor([[0.7049, 0.9250, 0.5128],\n",
      "        [0.9648, 0.7428, 0.9470],\n",
      "        [0.1778, 0.1176, 0.0610]])\n"
     ]
    }
   ],
   "source": [
    "tensor = torch.rand(3, 6)\n",
    "t1, t2 = torch.split(tensor, 3, dim=1)\n",
    "\n",
    "print(tensor)\n",
    "print(t1)\n",
    "print(t2)"
   ]
  },
  {
   "cell_type": "markdown",
   "id": "b43c98dc-e2b7-4a34-89c6-fece7e9ecf14",
   "metadata": {},
   "source": [
    "- torch ↔ numpy\n",
    "    - Torch Tensor(텐서)를 NumPy array(배열)로 변환 가능\n",
    "        - `numpy()`\n",
    "        - `from_numpy()`\n",
    "- Tensor가 CPU상에 있다면 NumPy 배열은 메모리 공간을 공유하므로 하나가 변하면, 다른 하나도 변"
   ]
  },
  {
   "cell_type": "code",
   "execution_count": 47,
   "id": "ae854706-deb7-4d9e-a9b9-f96285ead724",
   "metadata": {},
   "outputs": [
    {
     "name": "stdout",
     "output_type": "stream",
     "text": [
      "tensor([1., 1., 1., 1., 1., 1., 1.])\n"
     ]
    }
   ],
   "source": [
    "a = torch.ones(7)\n",
    "print(a)"
   ]
  },
  {
   "cell_type": "code",
   "execution_count": 48,
   "id": "b54a3d81-9cb7-4081-bf17-3f7dcd83d977",
   "metadata": {},
   "outputs": [
    {
     "name": "stdout",
     "output_type": "stream",
     "text": [
      "[1. 1. 1. 1. 1. 1. 1.]\n"
     ]
    }
   ],
   "source": [
    "b = a.numpy()\n",
    "print(b)"
   ]
  },
  {
   "cell_type": "code",
   "execution_count": 49,
   "id": "8aa21fb6-2d70-4902-927d-76c981f92acf",
   "metadata": {},
   "outputs": [
    {
     "name": "stdout",
     "output_type": "stream",
     "text": [
      "tensor([2., 2., 2., 2., 2., 2., 2.])\n",
      "[2. 2. 2. 2. 2. 2. 2.]\n"
     ]
    }
   ],
   "source": [
    "a.add_(1)\n",
    "print(a)\n",
    "print(b)"
   ]
  },
  {
   "cell_type": "code",
   "execution_count": 50,
   "id": "33b479af-c667-4c46-bde9-56ea695bc4f2",
   "metadata": {},
   "outputs": [
    {
     "name": "stdout",
     "output_type": "stream",
     "text": [
      "[2. 2. 2. 2. 2. 2. 2.]\n",
      "tensor([2., 2., 2., 2., 2., 2., 2.], dtype=torch.float64)\n"
     ]
    }
   ],
   "source": [
    "import numpy as np\n",
    "\n",
    "a = np.ones(7)\n",
    "b = torch.from_numpy(a)\n",
    "np.add(a, 1, out=a)\n",
    "print(a)\n",
    "print(b)"
   ]
  },
  {
   "cell_type": "markdown",
   "id": "1333c03d-6474-415b-9c4c-09a93ab27978",
   "metadata": {},
   "source": [
    "## Autograd(자동미분)\n",
    "\n",
    "- `torch.autograd` 패키지는 Tensor의 모든 연산에 대해 **자동 미분** 제공\n",
    "- 이는 코드를 어떻게 작성하여 실행하느냐에 따라 역전파가 정의된다는 뜻\n",
    "- `backprop` 를  위해 미분 값을 자동으로 계산\n",
    "\n",
    "`reqires_grad` 속성을 `True` 로 설정하면, 해당 텐서에서 이루어지는 모든 연산들을 추적하기 시작\n",
    "\n",
    "기록을 추적하는 것을 중단하게 하려면, `.detach()` 를 호출하여 연산 기록으로부터 분리"
   ]
  },
  {
   "cell_type": "code",
   "execution_count": 51,
   "id": "fa05af42-c529-4930-8bd5-fa43aece664a",
   "metadata": {},
   "outputs": [
    {
     "name": "stdout",
     "output_type": "stream",
     "text": [
      "tensor([[ 2.6966, -1.0690, -0.7151],\n",
      "        [ 1.7836, -0.3165,  0.8977],\n",
      "        [-4.2621,  6.5226,  3.1208]])\n",
      "False\n"
     ]
    }
   ],
   "source": [
    "a = torch.randn(3, 3)\n",
    "a = a * 3\n",
    "print(a)\n",
    "print(a.requires_grad)"
   ]
  },
  {
   "cell_type": "markdown",
   "id": "b919ed24-23a0-4b7d-8f82-d387089f001f",
   "metadata": {},
   "source": [
    "`requires_grad_(…)` 는 기존 텐서의 `requires_grad` 값을 바꿔치기(`in-place`)하여 변경\n",
    "\n",
    "`grad_fn` : 미분값을 계산한 함수에 대한 정보 저장 (어떤 함수에 대해서 backprop 했는지)"
   ]
  },
  {
   "cell_type": "code",
   "execution_count": 52,
   "id": "50b05190-b35e-4c6e-a304-f83f87dec88b",
   "metadata": {},
   "outputs": [
    {
     "name": "stdout",
     "output_type": "stream",
     "text": [
      "True\n",
      "tensor(83.4627, grad_fn=<SumBackward0>)\n",
      "<SumBackward0 object at 0x0000025C8499B490>\n"
     ]
    }
   ],
   "source": [
    "a.requires_grad_(True)\n",
    "print(a.requires_grad)\n",
    "\n",
    "b = (a * a).sum() # grad_fn=<SumBackward0> : 덧셈을 하였다는 기\n",
    "print(b)\n",
    "print(b.grad_fn)"
   ]
  },
  {
   "cell_type": "markdown",
   "id": "5ef23f05-e382-4f6b-b6f4-56a5a535f2f3",
   "metadata": {},
   "source": [
    "## 기울기(Gradient)"
   ]
  },
  {
   "cell_type": "code",
   "execution_count": 53,
   "id": "6b4c1ca6-7e5e-4fb6-a036-2214cbfd4c7c",
   "metadata": {},
   "outputs": [
    {
     "name": "stdout",
     "output_type": "stream",
     "text": [
      "tensor([[1., 1., 1.],\n",
      "        [1., 1., 1.],\n",
      "        [1., 1., 1.]], requires_grad=True)\n"
     ]
    }
   ],
   "source": [
    "x = torch.ones(3, 3, requires_grad=True)\n",
    "print(x)"
   ]
  },
  {
   "cell_type": "code",
   "execution_count": 54,
   "id": "9a66322e-a119-4c1c-a0da-5d0342ef4d9d",
   "metadata": {},
   "outputs": [
    {
     "name": "stdout",
     "output_type": "stream",
     "text": [
      "tensor([[6., 6., 6.],\n",
      "        [6., 6., 6.],\n",
      "        [6., 6., 6.]], grad_fn=<AddBackward0>)\n"
     ]
    }
   ],
   "source": [
    "y = x + 5\n",
    "print(y)"
   ]
  },
  {
   "cell_type": "code",
   "execution_count": 55,
   "id": "84574b40-9b43-453e-8f8d-558acaf0a33f",
   "metadata": {},
   "outputs": [
    {
     "name": "stdout",
     "output_type": "stream",
     "text": [
      "tensor([[36., 36., 36.],\n",
      "        [36., 36., 36.],\n",
      "        [36., 36., 36.]], grad_fn=<MulBackward0>) tensor(36., grad_fn=<MeanBackward0>)\n"
     ]
    }
   ],
   "source": [
    "z = y * y\n",
    "out = z.mean()\n",
    "print(z, out)"
   ]
  },
  {
   "cell_type": "markdown",
   "id": "e1d0cc07-1790-474c-8d2d-cfdfdce38ee4",
   "metadata": {},
   "source": [
    "계산이 완료된 후, `.backward()` 를 호출하면 자동으로 역전파 계산이 가능하고, `.grad` 속성에 누적"
   ]
  },
  {
   "cell_type": "code",
   "execution_count": 56,
   "id": "af94c0ca-12cb-4947-990f-44a424351399",
   "metadata": {},
   "outputs": [
    {
     "name": "stdout",
     "output_type": "stream",
     "text": [
      "tensor(36., grad_fn=<MeanBackward0>)\n"
     ]
    }
   ],
   "source": [
    "print(out)\n",
    "out.backward()"
   ]
  },
  {
   "cell_type": "markdown",
   "id": "d3b2a900-e383-46ea-81c5-ab2ecc1f8edd",
   "metadata": {},
   "source": [
    "`grad` : **data**가 거쳐온 **layer**에 대한 미분값 저장"
   ]
  },
  {
   "cell_type": "code",
   "execution_count": 57,
   "id": "24c40bac-366a-4c4b-88d2-80560f31808a",
   "metadata": {},
   "outputs": [
    {
     "name": "stdout",
     "output_type": "stream",
     "text": [
      "tensor([[1., 1., 1.],\n",
      "        [1., 1., 1.],\n",
      "        [1., 1., 1.]], requires_grad=True)\n",
      "tensor([[1.3333, 1.3333, 1.3333],\n",
      "        [1.3333, 1.3333, 1.3333],\n",
      "        [1.3333, 1.3333, 1.3333]])\n"
     ]
    }
   ],
   "source": [
    "print(x)\n",
    "print(x.grad)"
   ]
  },
  {
   "cell_type": "code",
   "execution_count": 58,
   "id": "fd82003a-1c6e-4f23-b447-a22fb79fcdff",
   "metadata": {},
   "outputs": [
    {
     "name": "stdout",
     "output_type": "stream",
     "text": [
      "tensor([-55.3235, 875.4483, 686.1036], grad_fn=<MulBackward0>)\n"
     ]
    }
   ],
   "source": [
    "x = torch.randn(3, requires_grad=True)\n",
    "\n",
    "y = x * 2\n",
    "while y.data.norm() < 1000:\n",
    "    y = y * 2\n",
    "\n",
    "print(y)"
   ]
  },
  {
   "cell_type": "code",
   "execution_count": 59,
   "id": "97fdea8d-f7dd-4416-bada-136b0ebe896f",
   "metadata": {},
   "outputs": [
    {
     "name": "stdout",
     "output_type": "stream",
     "text": [
      "tensor([5.1200e+01, 5.1200e+02, 5.1200e-02])\n"
     ]
    }
   ],
   "source": [
    "v = torch.tensor([0.1, 1.0, 0.0001], dtype=torch.float)\n",
    "y.backward(v)\n",
    "\n",
    "print(x.grad)"
   ]
  },
  {
   "cell_type": "markdown",
   "id": "a04b3edd-5c17-41f7-b913-4289373ca4ba",
   "metadata": {},
   "source": [
    "`with torch.no_grad()` 를 사용하여 기울기의 업데이트를 하지 않음\n",
    "\n",
    "기록을 추적하는 것을 방지하기 위해 코드 블럭을 `with torch.no_grad()` 로 감싸면 기울기 계산은 필요 없지만, `requires_grad=True` 로 설정되어 학습 가능한 매개변수를 갖는 모델을 평가(evaluate)할 때 유"
   ]
  },
  {
   "cell_type": "code",
   "execution_count": 60,
   "id": "1ee02dc9-798d-4fb8-b8dc-27f3bae4bda0",
   "metadata": {},
   "outputs": [
    {
     "name": "stdout",
     "output_type": "stream",
     "text": [
      "True\n",
      "True\n",
      "False\n"
     ]
    }
   ],
   "source": [
    "print(x.requires_grad)\n",
    "print((x ** 2).requires_grad)\n",
    "\n",
    "with torch.no_grad():\n",
    "    print((x ** 2).requires_grad)"
   ]
  },
  {
   "cell_type": "markdown",
   "id": "de729a56-3bfc-4703-866c-126636f1c6e4",
   "metadata": {},
   "source": [
    "`detach()` : 내용물(content)은 같지만 `require_grad`가 다른 새로운 Tensor를 가져올 때"
   ]
  },
  {
   "cell_type": "code",
   "execution_count": 61,
   "id": "c4938f76-2d49-42e2-b2ef-a78f58f52169",
   "metadata": {},
   "outputs": [
    {
     "name": "stdout",
     "output_type": "stream",
     "text": [
      "True\n",
      "False\n",
      "tensor(True)\n"
     ]
    }
   ],
   "source": [
    "print(x.requires_grad)\n",
    "y = x.detach()\n",
    "print(y.requires_grad)\n",
    "print(x.eq(y).all())"
   ]
  },
  {
   "cell_type": "markdown",
   "id": "0dfc8da9-582f-431f-9c13-99e9196af909",
   "metadata": {},
   "source": [
    "## 자동 미분 흐름 예제\n",
    "\n",
    "- 계산 흐름 $a$ → $b$ → $c$ → $out$\n",
    "\n",
    " $\\frac{\\partial out}{\\partial a} = ?$\n",
    "\n",
    "- `backward()` 를 통해 $a$ ← $b$ ← $c$ ← $out$을 계산하면  $\\frac{\\partial out}{\\partial a}$값이 `a.grad` 에 채워"
   ]
  },
  {
   "cell_type": "code",
   "execution_count": 62,
   "id": "4ebbdae8-5dcf-4390-851a-cb55f2a0837b",
   "metadata": {},
   "outputs": [
    {
     "name": "stdout",
     "output_type": "stream",
     "text": [
      "tensor([[1., 1.],\n",
      "        [1., 1.]])\n"
     ]
    }
   ],
   "source": [
    "a = torch.ones(2, 2)\n",
    "print(a)"
   ]
  },
  {
   "cell_type": "code",
   "execution_count": 63,
   "id": "b91974fc-9490-4ad0-bf16-f29c50da8bac",
   "metadata": {},
   "outputs": [
    {
     "name": "stdout",
     "output_type": "stream",
     "text": [
      "tensor([[1., 1.],\n",
      "        [1., 1.]], requires_grad=True)\n"
     ]
    }
   ],
   "source": [
    "a = torch.ones(2, 2, requires_grad=True)\n",
    "print(a)"
   ]
  },
  {
   "cell_type": "code",
   "execution_count": 64,
   "id": "b7223d8c-658f-4869-b669-ced36239d313",
   "metadata": {},
   "outputs": [
    {
     "name": "stdout",
     "output_type": "stream",
     "text": [
      "tensor([[1., 1.],\n",
      "        [1., 1.]])\n",
      "None\n",
      "None\n"
     ]
    }
   ],
   "source": [
    "print(a.data)\n",
    "print(a.grad)\n",
    "print(a.grad_fn)"
   ]
  },
  {
   "cell_type": "markdown",
   "id": "de4e888d-552a-47c4-80cf-c3ad911b8c9e",
   "metadata": {},
   "source": [
    "$b$ = $a$ + 2"
   ]
  },
  {
   "cell_type": "code",
   "execution_count": 65,
   "id": "d18c5c08-38f2-49ad-aab3-f505751ee620",
   "metadata": {},
   "outputs": [
    {
     "name": "stdout",
     "output_type": "stream",
     "text": [
      "tensor([[3., 3.],\n",
      "        [3., 3.]], grad_fn=<AddBackward0>)\n"
     ]
    }
   ],
   "source": [
    "b = a + 2\n",
    "print(b)"
   ]
  },
  {
   "cell_type": "markdown",
   "id": "7262c985-fa13-47f2-9393-018c1153ec07",
   "metadata": {},
   "source": [
    "$c$ = $b^2$"
   ]
  },
  {
   "cell_type": "code",
   "execution_count": 66,
   "id": "f08e85b2-96b6-47c7-bb3b-35bce83f32cc",
   "metadata": {},
   "outputs": [
    {
     "name": "stdout",
     "output_type": "stream",
     "text": [
      "tensor([[9., 9.],\n",
      "        [9., 9.]], grad_fn=<PowBackward0>)\n"
     ]
    }
   ],
   "source": [
    "c = b ** 2\n",
    "print(c)"
   ]
  },
  {
   "cell_type": "code",
   "execution_count": 67,
   "id": "10fa784e-72be-4173-ac9e-634b178051b0",
   "metadata": {},
   "outputs": [
    {
     "name": "stdout",
     "output_type": "stream",
     "text": [
      "tensor(36., grad_fn=<SumBackward0>)\n"
     ]
    }
   ],
   "source": [
    "out = c.sum()\n",
    "print(out)"
   ]
  },
  {
   "cell_type": "code",
   "execution_count": 68,
   "id": "823606b6-8cd3-488f-ac13-ce631d23761d",
   "metadata": {},
   "outputs": [
    {
     "name": "stdout",
     "output_type": "stream",
     "text": [
      "tensor(36., grad_fn=<SumBackward0>)\n"
     ]
    }
   ],
   "source": [
    "print(out)\n",
    "out.backward()"
   ]
  },
  {
   "cell_type": "markdown",
   "id": "10c028dd-ac52-4195-983e-84bfa635498b",
   "metadata": {},
   "source": [
    "**a**의 `grad_fn`이 **None**인 이유는 직접적으로 계산한 부분이 없었기 때문"
   ]
  },
  {
   "cell_type": "code",
   "execution_count": 69,
   "id": "2a560b3f-ef79-4d40-8e85-0c99fde0daba",
   "metadata": {},
   "outputs": [
    {
     "name": "stdout",
     "output_type": "stream",
     "text": [
      "tensor([[1., 1.],\n",
      "        [1., 1.]])\n",
      "tensor([[6., 6.],\n",
      "        [6., 6.]])\n",
      "None\n"
     ]
    }
   ],
   "source": [
    "print(a.data)\n",
    "print(a.grad)\n",
    "print(a.grad_fn)"
   ]
  },
  {
   "cell_type": "code",
   "execution_count": 70,
   "id": "2bfe73f7-00c0-4208-8803-fdf48659d319",
   "metadata": {},
   "outputs": [
    {
     "name": "stdout",
     "output_type": "stream",
     "text": [
      "tensor([[3., 3.],\n",
      "        [3., 3.]])\n",
      "None\n",
      "<AddBackward0 object at 0x0000025C8498AAF0>\n"
     ]
    },
    {
     "name": "stderr",
     "output_type": "stream",
     "text": [
      "C:\\Users\\LEEKEUN\\AppData\\Local\\Temp\\ipykernel_9856\\2485455394.py:2: UserWarning: The .grad attribute of a Tensor that is not a leaf Tensor is being accessed. Its .grad attribute won't be populated during autograd.backward(). If you indeed want the .grad field to be populated for a non-leaf Tensor, use .retain_grad() on the non-leaf Tensor. If you access the non-leaf Tensor by mistake, make sure you access the leaf Tensor instead. See github.com/pytorch/pytorch/pull/30531 for more informations. (Triggered internally at C:\\actions-runner\\_work\\pytorch\\pytorch\\pytorch\\build\\aten\\src\\ATen/core/TensorBody.h:494.)\n",
      "  print(b.grad)\n"
     ]
    }
   ],
   "source": [
    "print(b.data)\n",
    "print(b.grad)\n",
    "print(b.grad_fn)"
   ]
  },
  {
   "cell_type": "code",
   "execution_count": 71,
   "id": "5654f664-3102-4b5a-9b58-d4e558bf0d2a",
   "metadata": {},
   "outputs": [
    {
     "name": "stdout",
     "output_type": "stream",
     "text": [
      "tensor([[9., 9.],\n",
      "        [9., 9.]])\n",
      "None\n",
      "<PowBackward0 object at 0x0000025C8498A2E0>\n"
     ]
    },
    {
     "name": "stderr",
     "output_type": "stream",
     "text": [
      "C:\\Users\\LEEKEUN\\AppData\\Local\\Temp\\ipykernel_9856\\3875808255.py:2: UserWarning: The .grad attribute of a Tensor that is not a leaf Tensor is being accessed. Its .grad attribute won't be populated during autograd.backward(). If you indeed want the .grad field to be populated for a non-leaf Tensor, use .retain_grad() on the non-leaf Tensor. If you access the non-leaf Tensor by mistake, make sure you access the leaf Tensor instead. See github.com/pytorch/pytorch/pull/30531 for more informations. (Triggered internally at C:\\actions-runner\\_work\\pytorch\\pytorch\\pytorch\\build\\aten\\src\\ATen/core/TensorBody.h:494.)\n",
      "  print(c.grad)\n"
     ]
    }
   ],
   "source": [
    "print(c.data)\n",
    "print(c.grad)\n",
    "print(c.grad_fn)"
   ]
  },
  {
   "cell_type": "code",
   "execution_count": 72,
   "id": "b9621ef8-01e3-49dd-a20f-e04e95be320c",
   "metadata": {},
   "outputs": [
    {
     "name": "stdout",
     "output_type": "stream",
     "text": [
      "tensor(36.)\n",
      "None\n",
      "<SumBackward0 object at 0x0000025C846893D0>\n"
     ]
    },
    {
     "name": "stderr",
     "output_type": "stream",
     "text": [
      "C:\\Users\\LEEKEUN\\AppData\\Local\\Temp\\ipykernel_9856\\578081240.py:2: UserWarning: The .grad attribute of a Tensor that is not a leaf Tensor is being accessed. Its .grad attribute won't be populated during autograd.backward(). If you indeed want the .grad field to be populated for a non-leaf Tensor, use .retain_grad() on the non-leaf Tensor. If you access the non-leaf Tensor by mistake, make sure you access the leaf Tensor instead. See github.com/pytorch/pytorch/pull/30531 for more informations. (Triggered internally at C:\\actions-runner\\_work\\pytorch\\pytorch\\pytorch\\build\\aten\\src\\ATen/core/TensorBody.h:494.)\n",
      "  print(out.grad)\n"
     ]
    }
   ],
   "source": [
    "print(out.data)\n",
    "print(out.grad)\n",
    "print(out.grad_fn)"
   ]
  },
  {
   "cell_type": "markdown",
   "id": "bdca5a22-1bec-40b0-848f-e9862f2eac4a",
   "metadata": {},
   "source": [
    "# 데이터 준비\n",
    "파이토치에서는 데이터 준비를 위해 `torch.utils.data`의 `Dataset`과 `DataLoader` 사용 가능  \n",
    "- `Dataset`에는 다양한 데이터셋이 존재 (MNIST, FashionMNIST, CIFAR10, ...)  \n",
    "  - Vision Dataset: https://pytorch.org/vision/stable/datasets.html  \n",
    "  - Text Dataset: https://pytorch.org/text/stable/datasets.html  \n",
    "  - Audio Dataset: https://pytorch.org/audio/stable/datasets.html  \n",
    "- `DataLoader`와 `Dataset`을 통해 `batch_size`, `train` 여부, `transform` 등을 인자로 넣어 데이터를 어떻게 load할 것인지 정해줄 수 있음"
   ]
  },
  {
   "cell_type": "code",
   "execution_count": 73,
   "id": "48e7b694-fd84-441f-8469-0d5cf8303fd0",
   "metadata": {},
   "outputs": [],
   "source": [
    "from torch.utils.data import Dataset, DataLoader"
   ]
  },
  {
   "cell_type": "markdown",
   "id": "57b792f8-7a88-44b6-b3cc-d4d98bece998",
   "metadata": {},
   "source": [
    "토치비전(torchvision)은 파이토치에서 제공하는 데이터셋들이 모여있는 패키지\n",
    "\n",
    "- `transforms`:전처리할 때 사용하는 메소드\n",
    "- `transforms`에서 제공하는 클래스 이외는 일반적으로 클래스를 따로 만들어 전처리 단계를 진행 진행"
   ]
  },
  {
   "cell_type": "code",
   "execution_count": 74,
   "id": "d6e37961-a83b-4754-8743-4e3bac9afe7b",
   "metadata": {},
   "outputs": [],
   "source": [
    "import torchvision.transforms as transforms\n",
    "from torchvision import datasets"
   ]
  },
  {
   "cell_type": "markdown",
   "id": "d65b0a9f-3766-4b06-84a2-c313cda8837f",
   "metadata": {},
   "source": [
    "`DataLoader`의 인자로 들어갈 `transform`을 미리 정의할 수 있고, `Compose`를 통해 리스트 안에 순서대로 전처리 진행\n",
    "\n",
    "`ToTensor`()를 하는 이유는 `torchvision`이 PIL Image 형태로만 입력을 받기 때문에 데이터 처리를 위해서 Tensor형으로 변환 필요"
   ]
  },
  {
   "cell_type": "code",
   "execution_count": 75,
   "id": "e212850e-72d1-41fc-8c44-2fb192dccd41",
   "metadata": {},
   "outputs": [],
   "source": [
    "mnist_transform = transforms.Compose([transforms.ToTensor(),\n",
    "                                      transforms.Normalize(mean=(0.5,), std=(1.0,))])"
   ]
  },
  {
   "cell_type": "code",
   "execution_count": 76,
   "id": "fec2cfb8-91bf-4a7e-9aec-26171039ec41",
   "metadata": {},
   "outputs": [],
   "source": [
    "trainset = datasets.MNIST(root='./Dataset',\n",
    "                          train=True, download=True,\n",
    "                          transform=mnist_transform)\n",
    "\n",
    "testset = datasets.MNIST(root='./Dataset',\n",
    "                          train=False, download=True,\n",
    "                          transform=mnist_transform)"
   ]
  },
  {
   "cell_type": "markdown",
   "id": "edbde671-3daa-4d82-98eb-004bd2cf58c9",
   "metadata": {},
   "source": [
    "`DataLoader`는 데이터 전체를 보관했다가 실제 모델 학습을 할 때 `batch_size` 크기만큼 데이터를 가져옴"
   ]
  },
  {
   "cell_type": "code",
   "execution_count": 77,
   "id": "823cd51f-45c4-466f-955c-3a7fc4674fd1",
   "metadata": {},
   "outputs": [],
   "source": [
    "train_loader = DataLoader(trainset, batch_size=8, shuffle=True, num_workers=2)\n",
    "test_loader = DataLoader(testset, batch_size=8, shuffle=False, num_workers=2)"
   ]
  },
  {
   "cell_type": "code",
   "execution_count": 78,
   "id": "865b494f-e2d0-45b6-bc06-5c135b88ac78",
   "metadata": {},
   "outputs": [
    {
     "name": "stdout",
     "output_type": "stream",
     "text": [
      "torch.Size([8, 1, 28, 28]) torch.Size([8])\n"
     ]
    }
   ],
   "source": [
    "dataiter = iter(train_loader)\n",
    "images, labels = next(dataiter)\n",
    "print(images.shape, labels.shape)"
   ]
  },
  {
   "cell_type": "code",
   "execution_count": 79,
   "id": "ab9fbe62-5044-46d5-8d7d-c5a0a504d30d",
   "metadata": {},
   "outputs": [
    {
     "data": {
      "text/plain": [
       "torch.Size([28, 28])"
      ]
     },
     "execution_count": 79,
     "metadata": {},
     "output_type": "execute_result"
    }
   ],
   "source": [
    "torch_image = torch.squeeze(images[0])\n",
    "torch_image.shape"
   ]
  },
  {
   "cell_type": "code",
   "execution_count": 80,
   "id": "73f5566c-ddc3-4745-b7c0-2156ee1a7b46",
   "metadata": {},
   "outputs": [
    {
     "data": {
      "image/png": "[encoded data removed]",
      "text/plain": [
       "<Figure size 1200x600 with 8 Axes>"
      ]
     },
     "metadata": {},
     "output_type": "display_data"
    }
   ],
   "source": [
    "import matplotlib.pyplot as plt\n",
    "\n",
    "figure = plt.figure(figsize=(12, 6))\n",
    "cols, rows = 4, 2\n",
    "for i in range(1, cols * rows + 1):\n",
    "    sample_idx = torch.randint(len(trainset), size=(1, )).item()\n",
    "    img, label = trainset[sample_idx]\n",
    "    figure.add_subplot(rows, cols, i)\n",
    "    plt.title(label)\n",
    "    plt.axis('off')\n",
    "    plt.imshow(img.squeeze(), cmap='gray')\n",
    "plt.show()"
   ]
  },
  {
   "cell_type": "markdown",
   "id": "806eac6c-7135-4bc3-b599-d81c02145158",
   "metadata": {},
   "source": [
    "## 신경망 구성\n",
    "\n",
    "- 레이어(layer): 신경망의 핵심 데이터 구조로 하나 이상의 텐서를 입력받아 하나 이상의 텐서를 출력\n",
    "- 모듈(module): 한 개 이상의(layer) 계층이 모여서 구성\n",
    "- 모델(model): 한 개 이상의 모듈이 모여서 구성\n"
   ]
  },
  {
   "cell_type": "markdown",
   "id": "51657302-392c-43fe-84db-35592056b64e",
   "metadata": {
    "jp-MarkdownHeadingCollapsed": true
   },
   "source": [
    "### `torch.nn` 패키지\n",
    "\n",
    "주로 가중치(weights), 편향(bias)값들이 내부에서 자동으로 생성되는 레이어들을 사용할 때 사용 (`weight`값들을 직접 선언 안함)\n",
    "\n",
    "https://pytorch.org/docs/stable/nn.html\n"
   ]
  },
  {
   "cell_type": "code",
   "execution_count": 81,
   "id": "5138f43b-7cbb-45e6-9642-3b17a75ddab1",
   "metadata": {},
   "outputs": [],
   "source": [
    "import torch.nn as nn"
   ]
  },
  {
   "cell_type": "markdown",
   "id": "0278673f-0380-4bc1-849d-fa2cfadcf192",
   "metadata": {},
   "source": [
    "`nn.Linear` 계층 예제"
   ]
  },
  {
   "cell_type": "code",
   "execution_count": 82,
   "id": "e09907fb-fa5e-4ff3-a78a-5be5d3504eb8",
   "metadata": {},
   "outputs": [
    {
     "name": "stdout",
     "output_type": "stream",
     "text": [
      "tensor([[-0.6866, -0.3212, -1.1449,  ...,  0.0481, -0.9991,  1.4153],\n",
      "        [ 0.0918,  0.2611, -1.1730,  ..., -0.2406, -0.2861,  1.1979],\n",
      "        [ 1.6580, -0.2570,  0.6750,  ..., -0.8820,  0.5638, -0.8009],\n",
      "        ...,\n",
      "        [ 1.3717,  0.3140, -0.0189,  ..., -2.3703,  0.8444, -1.1119],\n",
      "        [-0.5094,  0.4090, -0.9539,  ...,  1.1119, -0.8657,  0.8245],\n",
      "        [-0.4631,  1.5887, -0.5215,  ...,  0.2125,  1.9587,  0.3106]])\n",
      "Linear(in_features=20, out_features=30, bias=True)\n",
      "tensor([[ 0.0231, -0.5261,  0.7243,  ...,  0.4706, -0.4238, -0.6286],\n",
      "        [ 0.4517, -0.1986,  0.8389,  ..., -0.1288, -0.2153, -0.7112],\n",
      "        [-0.0940,  0.0035,  0.5595,  ..., -0.5129, -0.1605,  1.1824],\n",
      "        ...,\n",
      "        [-0.4023,  0.1190,  0.4139,  ..., -0.6093,  0.5685,  0.2157],\n",
      "        [ 0.6148,  0.2892, -0.7474,  ..., -0.1855, -0.1408, -0.4246],\n",
      "        [-1.0708, -0.0890,  0.9952,  ...,  0.0232, -0.5002,  0.0320]],\n",
      "       grad_fn=<AddmmBackward0>)\n",
      "torch.Size([128, 30])\n"
     ]
    }
   ],
   "source": [
    "input = torch.randn(128, 20)\n",
    "print(input)\n",
    "\n",
    "m = nn.Linear(20, 30)\n",
    "print(m)\n",
    "\n",
    "output = m(input)\n",
    "print(output)\n",
    "print(output.size())"
   ]
  },
  {
   "cell_type": "markdown",
   "id": "87286c70-b60b-4c3c-b4ae-abfe5c5e9db3",
   "metadata": {},
   "source": [
    "`nn.Conv2d` 계층 예시\n"
   ]
  },
  {
   "cell_type": "code",
   "execution_count": 83,
   "id": "4f2e32e2-1632-4296-9579-4b34c327ed0a",
   "metadata": {},
   "outputs": [
    {
     "name": "stdout",
     "output_type": "stream",
     "text": [
      "torch.Size([20, 16, 50, 100])\n"
     ]
    }
   ],
   "source": [
    "input = torch.randn(20, 16, 50, 100)\n",
    "print(input.size())"
   ]
  },
  {
   "cell_type": "code",
   "execution_count": 84,
   "id": "5e5be570-a2fd-4b01-a27c-7312a4a6d914",
   "metadata": {},
   "outputs": [
    {
     "name": "stdout",
     "output_type": "stream",
     "text": [
      "Conv2d(16, 33, kernel_size=(3, 5), stride=(2, 2), padding=(4, 2), dilation=(3, 1))\n"
     ]
    }
   ],
   "source": [
    "m = nn.Conv2d(16, 33, 3, stride=2)\n",
    "m = nn.Conv2d(16, 33, (3,5), stride=2, padding=(4, 2))\n",
    "m = nn.Conv2d(16, 33, (3,5), stride=2, padding=(4, 2), dilation=(3, 1))\n",
    "print(m)"
   ]
  },
  {
   "cell_type": "code",
   "execution_count": 85,
   "id": "ddb92683-636e-4784-9cde-0ee2dacd6453",
   "metadata": {},
   "outputs": [
    {
     "name": "stdout",
     "output_type": "stream",
     "text": [
      "torch.Size([20, 33, 26, 50])\n"
     ]
    }
   ],
   "source": [
    "output = m(input)\n",
    "print(output.size())"
   ]
  },
  {
   "cell_type": "markdown",
   "id": "d2106959-63d5-407c-9d22-3cef625bfd81",
   "metadata": {},
   "source": [
    "### 컨볼루션 레이어(Convolution Layers)\n",
    "\n",
    "`nn.Conv2d` 예제\n",
    "\n",
    "- `in_channels`: channel의 갯수\n",
    "- `out_channels`: 출력 채널의 갯수\n",
    "- `kernel_size`: 커널(필터) 사이즈"
   ]
  },
  {
   "cell_type": "code",
   "execution_count": 86,
   "id": "f020e0e7-9310-48a0-8aaf-3894a39a3815",
   "metadata": {},
   "outputs": [
    {
     "data": {
      "text/plain": [
       "Conv2d(1, 20, kernel_size=(5, 5), stride=(1, 1))"
      ]
     },
     "execution_count": 86,
     "metadata": {},
     "output_type": "execute_result"
    }
   ],
   "source": [
    "nn.Conv2d(in_channels=1, out_channels=20, kernel_size=5, stride=1)"
   ]
  },
  {
   "cell_type": "code",
   "execution_count": 87,
   "id": "2e864ebf-7056-4394-8a93-71f80a1b7735",
   "metadata": {},
   "outputs": [
    {
     "data": {
      "text/plain": [
       "Conv2d(1, 20, kernel_size=(5, 5), stride=(1, 1))"
      ]
     },
     "execution_count": 87,
     "metadata": {},
     "output_type": "execute_result"
    }
   ],
   "source": [
    "layer = nn.Conv2d(1, 20, 5, 1).to(torch.device('cpu'))\n",
    "layer"
   ]
  },
  {
   "cell_type": "markdown",
   "id": "bd280b81-dd94-44ee-8b55-61a2ed27c14b",
   "metadata": {},
   "source": [
    "`weight` 확인"
   ]
  },
  {
   "cell_type": "code",
   "execution_count": 88,
   "id": "5c320f49-2bce-42ff-bdd5-57fd2ab3b89d",
   "metadata": {},
   "outputs": [
    {
     "data": {
      "text/plain": [
       "torch.Size([20, 1, 5, 5])"
      ]
     },
     "execution_count": 88,
     "metadata": {},
     "output_type": "execute_result"
    }
   ],
   "source": [
    "weight = layer.weight\n",
    "weight.shape"
   ]
  },
  {
   "cell_type": "markdown",
   "id": "43452b58-f1bf-4fda-885b-9c7a18cf9ea3",
   "metadata": {},
   "source": [
    "`weight`는 `detach()`를 통해 꺼내줘야 `numpy()`변환이 가능"
   ]
  },
  {
   "cell_type": "code",
   "execution_count": 89,
   "id": "6ad42d49-add6-4f7e-a18b-cabf70e08dbc",
   "metadata": {},
   "outputs": [],
   "source": [
    "weight = weight.detach()"
   ]
  },
  {
   "cell_type": "code",
   "execution_count": 90,
   "id": "157419ef-ac0e-4b44-b0ed-4084b7843c83",
   "metadata": {},
   "outputs": [
    {
     "data": {
      "text/plain": [
       "(20, 1, 5, 5)"
      ]
     },
     "execution_count": 90,
     "metadata": {},
     "output_type": "execute_result"
    }
   ],
   "source": [
    "weight = weight.numpy()\n",
    "weight.shape"
   ]
  },
  {
   "cell_type": "code",
   "execution_count": 91,
   "id": "80a26323-439e-43b4-90e5-08d584c89d9d",
   "metadata": {},
   "outputs": [
    {
     "data": {
      "image/png": "[encoded data removed]",
      "text/plain": [
       "<Figure size 640x480 with 2 Axes>"
      ]
     },
     "metadata": {},
     "output_type": "display_data"
    }
   ],
   "source": [
    "plt.imshow(weight[0, 0, :, :], 'jet')\n",
    "plt.colorbar()\n",
    "plt.show()"
   ]
  },
  {
   "cell_type": "code",
   "execution_count": 92,
   "id": "95bf3ed4-ecf1-4ce8-8def-13cf986c84b6",
   "metadata": {},
   "outputs": [
    {
     "name": "stdout",
     "output_type": "stream",
     "text": [
      "torch.Size([8, 1, 28, 28])\n",
      "torch.Size([1, 28, 28])\n",
      "torch.Size([28, 28])\n"
     ]
    }
   ],
   "source": [
    "print(images.shape)\n",
    "print(images[0].size())\n",
    "\n",
    "input_image = torch.squeeze(images[0])\n",
    "print(input_image.size())"
   ]
  },
  {
   "cell_type": "code",
   "execution_count": 93,
   "id": "8885d0fd-702f-43f5-8eca-f1215dcf1a6e",
   "metadata": {},
   "outputs": [
    {
     "name": "stdout",
     "output_type": "stream",
     "text": [
      "torch.Size([1, 1, 28, 28])\n"
     ]
    },
    {
     "data": {
      "text/plain": [
       "(1, 20, 24, 24)"
      ]
     },
     "execution_count": 93,
     "metadata": {},
     "output_type": "execute_result"
    }
   ],
   "source": [
    "input_data = torch.unsqueeze(images[0], dim=0)\n",
    "print(input_data.size())\n",
    "\n",
    "output_data = layer(input_data)\n",
    "output = output_data.data\n",
    "output_arr = output.numpy()\n",
    "output_arr.shape"
   ]
  },
  {
   "cell_type": "code",
   "execution_count": 94,
   "id": "c5a4dcc1-ba96-4380-9940-03a4e75bc620",
   "metadata": {},
   "outputs": [
    {
     "data": {
      "image/png": "[encoded data removed]",
      "text/plain": [
       "<Figure size 1500x3000 with 3 Axes>"
      ]
     },
     "metadata": {},
     "output_type": "display_data"
    }
   ],
   "source": [
    "plt.figure(figsize=(15, 30))\n",
    "\n",
    "plt.subplot(131)\n",
    "plt.title(\"Input\")\n",
    "plt.imshow(input_image, 'gray')\n",
    "\n",
    "plt.subplot(132)\n",
    "plt.title(\"Weight\")\n",
    "plt.imshow(weight[0, 0, :, :], 'jet')\n",
    "\n",
    "plt.subplot(133)\n",
    "plt.title(\"Output\")\n",
    "plt.imshow(output_arr[0, 0, :, :], 'gray')\n",
    "plt.show()"
   ]
  },
  {
   "cell_type": "markdown",
   "id": "a111c156",
   "metadata": {},
   "source": [
    "### 풀링 레이어(Pooling layers)\n",
    "\n",
    "- `F.max_pool2d`\n",
    "  - `stride`\n",
    "  - `kernel_size`\n",
    "- `torch.nn.MaxPool2d` 도 많이 사용"
   ]
  },
  {
   "cell_type": "code",
   "execution_count": 95,
   "id": "f7132b14-26b6-478d-962d-780c6bd02622",
   "metadata": {},
   "outputs": [
    {
     "data": {
      "text/plain": [
       "torch.Size([1, 20, 12, 12])"
      ]
     },
     "execution_count": 95,
     "metadata": {},
     "output_type": "execute_result"
    }
   ],
   "source": [
    "import torch.nn.functional as F\n",
    "\n",
    "pool = F.max_pool2d(output, 2, 2)\n",
    "pool.shape"
   ]
  },
  {
   "cell_type": "markdown",
   "id": "d27ab78f",
   "metadata": {},
   "source": [
    "- MaxPool Layer는 weight가 없기 때문에 바로 `numpy()`변환 가능"
   ]
  },
  {
   "cell_type": "code",
   "execution_count": 96,
   "id": "336fca7c",
   "metadata": {},
   "outputs": [
    {
     "data": {
      "text/plain": [
       "(1, 20, 12, 12)"
      ]
     },
     "execution_count": 96,
     "metadata": {},
     "output_type": "execute_result"
    }
   ],
   "source": [
    "pool_arr = pool.numpy()\n",
    "pool_arr.shape"
   ]
  },
  {
   "cell_type": "code",
   "execution_count": 97,
   "id": "98fb7c9e",
   "metadata": {},
   "outputs": [
    {
     "data": {
      "text/plain": [
       "<matplotlib.image.AxesImage at 0x25cb6b7c280>"
      ]
     },
     "execution_count": 97,
     "metadata": {},
     "output_type": "execute_result"
    },
    {
     "data": {
      "image/png": "[encoded data removed]",
      "text/plain": [
       "<Figure size 1000x1500 with 2 Axes>"
      ]
     },
     "metadata": {},
     "output_type": "display_data"
    }
   ],
   "source": [
    "plt.figure(figsize=(10, 15))\n",
    "\n",
    "plt.subplot(121)\n",
    "plt.title(\"Input\")\n",
    "plt.imshow(input_image, 'gray')\n",
    "\n",
    "plt.subplot(122)\n",
    "plt.title(\"Output\")\n",
    "plt.imshow(pool_arr[0, 0, :, :], 'gray')"
   ]
  },
  {
   "cell_type": "markdown",
   "id": "8c897d37",
   "metadata": {},
   "source": [
    "### 선형 레이어(Linear layers)\n",
    "\n",
    "1d만 가능하므로 `.view()`를 통해 1d로 펼쳐줘야함"
   ]
  },
  {
   "cell_type": "code",
   "execution_count": 98,
   "id": "4e1932ee",
   "metadata": {},
   "outputs": [
    {
     "data": {
      "text/plain": [
       "torch.Size([1, 784])"
      ]
     },
     "execution_count": 98,
     "metadata": {},
     "output_type": "execute_result"
    }
   ],
   "source": [
    "flatten = input_image.view(1, 28 * 28)\n",
    "flatten.shape"
   ]
  },
  {
   "cell_type": "code",
   "execution_count": 99,
   "id": "512b230f",
   "metadata": {},
   "outputs": [
    {
     "data": {
      "text/plain": [
       "torch.Size([1, 10])"
      ]
     },
     "execution_count": 99,
     "metadata": {},
     "output_type": "execute_result"
    }
   ],
   "source": [
    "lin = nn.Linear(784, 10)(flatten)\n",
    "lin.shape"
   ]
  },
  {
   "cell_type": "code",
   "execution_count": 100,
   "id": "422d2e2c",
   "metadata": {},
   "outputs": [
    {
     "data": {
      "text/plain": [
       "tensor([[ 0.0159, -0.6958,  0.2795, -0.4403,  0.0082,  0.1697,  0.1807,  0.0507,\n",
       "         -0.0761,  0.2763]], grad_fn=<AddmmBackward0>)"
      ]
     },
     "execution_count": 100,
     "metadata": {},
     "output_type": "execute_result"
    }
   ],
   "source": [
    "lin"
   ]
  },
  {
   "cell_type": "code",
   "execution_count": 101,
   "id": "86fb26bb",
   "metadata": {},
   "outputs": [
    {
     "data": {
      "image/png": "[encoded data removed]",
      "text/plain": [
       "<Figure size 640x480 with 2 Axes>"
      ]
     },
     "metadata": {},
     "output_type": "display_data"
    }
   ],
   "source": [
    "plt.imshow(lin.detach().numpy(), 'jet')\n",
    "plt.colorbar()\n",
    "plt.show()"
   ]
  },
  {
   "cell_type": "markdown",
   "id": "15df7a97",
   "metadata": {},
   "source": [
    "### 비선형 활성화 (Non-linear Activations)\n",
    "\n",
    "`F.softmax`와 같은 활성화 함수 등"
   ]
  },
  {
   "cell_type": "code",
   "execution_count": 102,
   "id": "6699a75a",
   "metadata": {},
   "outputs": [
    {
     "data": {
      "text/plain": [
       "tensor([[0.0759, 0.1678, 0.1303, 0.0558, 0.0778, 0.0836, 0.1757, 0.0895, 0.0454,\n",
       "         0.0979]])"
      ]
     },
     "execution_count": 102,
     "metadata": {},
     "output_type": "execute_result"
    }
   ],
   "source": [
    "with torch.no_grad():\n",
    "    flatten = input_image.view(1, 28 * 28)\n",
    "    lin = nn.Linear(784, 10)(flatten)\n",
    "    softmax = F.softmax(lin, dim=1)\n",
    "softmax"
   ]
  },
  {
   "cell_type": "code",
   "execution_count": 103,
   "id": "915eeea0",
   "metadata": {},
   "outputs": [
    {
     "data": {
      "text/plain": [
       "np.float32(0.99999994)"
      ]
     },
     "execution_count": 103,
     "metadata": {},
     "output_type": "execute_result"
    }
   ],
   "source": [
    "np.sum(softmax.numpy())"
   ]
  },
  {
   "cell_type": "markdown",
   "id": "20626353",
   "metadata": {},
   "source": [
    "`F.relu`\n",
    "\n",
    "- ReLU 함수를 적용하는 레이어\n",
    "- `nn.ReLU`로도 사용 가능"
   ]
  },
  {
   "cell_type": "code",
   "execution_count": 104,
   "id": "b8d5a6ac",
   "metadata": {},
   "outputs": [
    {
     "data": {
      "text/plain": [
       "torch.Size([4, 3, 28, 28])"
      ]
     },
     "execution_count": 104,
     "metadata": {},
     "output_type": "execute_result"
    }
   ],
   "source": [
    "inputs = torch.randn(4, 3, 28, 28).to(device)\n",
    "inputs.shape"
   ]
  },
  {
   "cell_type": "code",
   "execution_count": 105,
   "id": "7d4be9f2",
   "metadata": {},
   "outputs": [
    {
     "data": {
      "text/plain": [
       "torch.Size([4, 20, 24, 24])"
      ]
     },
     "execution_count": 105,
     "metadata": {},
     "output_type": "execute_result"
    }
   ],
   "source": [
    "layer = nn.Conv2d(3, 20, 5, 1).to(device)\n",
    "output = F.relu(layer(inputs))\n",
    "output.shape"
   ]
  },
  {
   "cell_type": "markdown",
   "id": "93fc270c",
   "metadata": {},
   "source": [
    "## 모델 정의\n"
   ]
  },
  {
   "cell_type": "markdown",
   "id": "ce7f8e83",
   "metadata": {},
   "source": [
    "### `nn.Module` 상속 클래스 정의\n",
    "- `nn.Module`을 상속받는 클래스 정의\n",
    "- `__init__()`: 모델에서 사용될 모듈과 활성화 함수 등을 정의\n",
    "- `forward()`: 모델에서 실행되어야 하는 연산을 정의"
   ]
  },
  {
   "cell_type": "code",
   "execution_count": 106,
   "id": "38e918a3",
   "metadata": {},
   "outputs": [],
   "source": [
    "class Model(nn.Module):\n",
    "    def __init__(self, inputs):\n",
    "        super(Model, self).__init__()\n",
    "        self.layer = nn.Linear(inputs, 1)\n",
    "        self.activation = nn.Sigmoid()\n",
    "        \n",
    "    def forward(self, x):\n",
    "        x = self.layer(x)\n",
    "        x = slef.activation(x)\n",
    "        return x"
   ]
  },
  {
   "cell_type": "code",
   "execution_count": 107,
   "id": "a0bee940",
   "metadata": {},
   "outputs": [
    {
     "name": "stdout",
     "output_type": "stream",
     "text": [
      "[Linear(in_features=1, out_features=1, bias=True), Sigmoid()]\n",
      "[Model(\n",
      "  (layer): Linear(in_features=1, out_features=1, bias=True)\n",
      "  (activation): Sigmoid()\n",
      "), Linear(in_features=1, out_features=1, bias=True), Sigmoid()]\n"
     ]
    }
   ],
   "source": [
    "model = Model(1)\n",
    "print(list(model.children()))\n",
    "print(list(model.modules()))"
   ]
  },
  {
   "cell_type": "markdown",
   "id": "b0abebf9",
   "metadata": {},
   "source": [
    "### `nn.Sequential`을 이용한 신경망 정의\n",
    "- `nn.Sequential` 객체로 그 안에 각 모듈을 순차적으로 실행\n",
    "- `__init__()`에서 사용할 네트워크 모델들을 `nn.Sequential`로 정의 가능\n",
    "- `forward()`에서 실행되어야 할 계산을 가독성 높게 작성 가능"
   ]
  },
  {
   "cell_type": "code",
   "execution_count": 108,
   "id": "722582e1",
   "metadata": {},
   "outputs": [],
   "source": [
    "class Model(nn.Module):\n",
    "    def __init__(self):\n",
    "        super(Model, self).__init__()\n",
    "        self.layer1 = nn.Sequential(\n",
    "            nn.Conv2d(in_channels=3, out_channels=64, kernel_size=5),\n",
    "            nn.ReLU(inplace=True),\n",
    "            nn.MaxPool2d(2)\n",
    "        )\n",
    "        \n",
    "        self.layer2 = nn.Sequential(\n",
    "            nn.Conv2d(in_channels=64, out_channels=30, kernel_size=5),\n",
    "            nn.ReLU(inplace=True),\n",
    "            nn.MaxPool2d(2)\n",
    "        )\n",
    "        \n",
    "        self.layer3 = nn.Sequential(\n",
    "            nn.Linear(in_features=30*5*5, out_features=10, bias=True),\n",
    "            nn.ReLU(inplace=True)\n",
    "        )\n",
    "        \n",
    "    def forward(self, x):\n",
    "        x = self.layer1(x)\n",
    "        x = self.layer2(x)\n",
    "        x = x.view(x.shape[0], -1)\n",
    "        x = self.layer3(x)\n",
    "        return x"
   ]
  },
  {
   "cell_type": "code",
   "execution_count": 109,
   "id": "a9aaa503",
   "metadata": {},
   "outputs": [
    {
     "name": "stdout",
     "output_type": "stream",
     "text": [
      "[Sequential(\n",
      "  (0): Conv2d(3, 64, kernel_size=(5, 5), stride=(1, 1))\n",
      "  (1): ReLU(inplace=True)\n",
      "  (2): MaxPool2d(kernel_size=2, stride=2, padding=0, dilation=1, ceil_mode=False)\n",
      "), Sequential(\n",
      "  (0): Conv2d(64, 30, kernel_size=(5, 5), stride=(1, 1))\n",
      "  (1): ReLU(inplace=True)\n",
      "  (2): MaxPool2d(kernel_size=2, stride=2, padding=0, dilation=1, ceil_mode=False)\n",
      "), Sequential(\n",
      "  (0): Linear(in_features=750, out_features=10, bias=True)\n",
      "  (1): ReLU(inplace=True)\n",
      ")]\n",
      "[Model(\n",
      "  (layer1): Sequential(\n",
      "    (0): Conv2d(3, 64, kernel_size=(5, 5), stride=(1, 1))\n",
      "    (1): ReLU(inplace=True)\n",
      "    (2): MaxPool2d(kernel_size=2, stride=2, padding=0, dilation=1, ceil_mode=False)\n",
      "  )\n",
      "  (layer2): Sequential(\n",
      "    (0): Conv2d(64, 30, kernel_size=(5, 5), stride=(1, 1))\n",
      "    (1): ReLU(inplace=True)\n",
      "    (2): MaxPool2d(kernel_size=2, stride=2, padding=0, dilation=1, ceil_mode=False)\n",
      "  )\n",
      "  (layer3): Sequential(\n",
      "    (0): Linear(in_features=750, out_features=10, bias=True)\n",
      "    (1): ReLU(inplace=True)\n",
      "  )\n",
      "), Sequential(\n",
      "  (0): Conv2d(3, 64, kernel_size=(5, 5), stride=(1, 1))\n",
      "  (1): ReLU(inplace=True)\n",
      "  (2): MaxPool2d(kernel_size=2, stride=2, padding=0, dilation=1, ceil_mode=False)\n",
      "), Conv2d(3, 64, kernel_size=(5, 5), stride=(1, 1)), ReLU(inplace=True), MaxPool2d(kernel_size=2, stride=2, padding=0, dilation=1, ceil_mode=False), Sequential(\n",
      "  (0): Conv2d(64, 30, kernel_size=(5, 5), stride=(1, 1))\n",
      "  (1): ReLU(inplace=True)\n",
      "  (2): MaxPool2d(kernel_size=2, stride=2, padding=0, dilation=1, ceil_mode=False)\n",
      "), Conv2d(64, 30, kernel_size=(5, 5), stride=(1, 1)), ReLU(inplace=True), MaxPool2d(kernel_size=2, stride=2, padding=0, dilation=1, ceil_mode=False), Sequential(\n",
      "  (0): Linear(in_features=750, out_features=10, bias=True)\n",
      "  (1): ReLU(inplace=True)\n",
      "), Linear(in_features=750, out_features=10, bias=True), ReLU(inplace=True)]\n"
     ]
    }
   ],
   "source": [
    "model = Model()\n",
    "print(list(model.children()))\n",
    "print(list(model.modules()))"
   ]
  },
  {
   "cell_type": "markdown",
   "id": "5ced6e80",
   "metadata": {},
   "source": [
    "### 파이토치 사전학습 모델\n",
    "\n",
    "* https://pytorch.org/vision/stable/models.html"
   ]
  },
  {
   "cell_type": "markdown",
   "id": "3b4b518e",
   "metadata": {},
   "source": [
    "## 모델 파라미터\n"
   ]
  },
  {
   "cell_type": "markdown",
   "id": "e867accf",
   "metadata": {},
   "source": [
    "### 손실 함수(Loss function)\n",
    "\n",
    "* 예측 값과 실제 값 사이의 오차 측정\n",
    "* 학습이 진행되면서 해당 과정이 얼마나 잘 되고 있는지 나타내는 지표\n",
    "* 모델이 훈련되는 동안 최소화될 값으로 주어진 문제에 대한 성공 지표\n",
    "* 손실 함수에 따른 결과를 통해 학습 파라미터를 조정\n",
    "* 최적화 이론에서 최소화 하고자 하는 함수\n",
    "* 미분 가능한 함수 사용\n",
    "* 파이토치의 주요 손실 함수\n",
    "  - `torch.nn.BCELoss`: 이진 분류를 위해 사용\n",
    "  - `torch.nn.CrossEntropyLoss`: 다중 클래스 분류를 위해 사용\n",
    "  - `torch.nn.MSELoss`: 회귀 모델에서 사용"
   ]
  },
  {
   "cell_type": "code",
   "execution_count": 110,
   "id": "48d81aee",
   "metadata": {},
   "outputs": [],
   "source": [
    "criterion = nn.MSELoss()\n",
    "criterion = nn.CrossEntropyLoss()"
   ]
  },
  {
   "cell_type": "markdown",
   "id": "5ca4dad9",
   "metadata": {},
   "source": [
    "### 옵티마이저(Optimizer)\n",
    "\n",
    "* 손실 함수를 기반으로 모델이 어떻게 업데이트되어야 하는지 결정 (특정 종류의 확률적 경사 하강법 구현)\n",
    "* optimizer는 `step()`을 통해 전달받은 파라미터를 모델 업데이트\n",
    "* 모든 옵티마이저의 기본으로 `torch.optim.Optimizer(params, defaults)` 클래스 사용\n",
    "* `zero_grad()`를 이용해 옵티마이저에 사용된 파라미터들의 기울기를 0으로 설정\n",
    "* `torch.optim.lr_scheduler`를 이용해 에포크(epochs)에 따라 학습률(learning rate) 조절\n",
    "* 파이토치의 주요 옵티마이저: `optim.Adadelta`, `optim.Adagrad`, `optim.Adam`, `optim.RMSprop`, `optim.SGD`"
   ]
  },
  {
   "cell_type": "markdown",
   "id": "172fd2c1",
   "metadata": {},
   "source": [
    "### 학습률 스케줄러(Learning rate scheduler)\n",
    "\n",
    "* 학습시 특정 조건에 따라 학습률을 조정하여 최적화 진행\n",
    "* 일정 횟수 이상이 되면 학습률을 감소(decay)시키거나 전역 최소점(global minimum) 근처에 가면 학습률을 줄이는 등\n",
    "* 파이토치의 학습률 스케줄러 종류\n",
    "  - `optim.lr_scheduler.LambdaLR`: 람다(lambda) 함수를 이용해 그 결과를 학습률로 설정\n",
    "  - `optim.lr_scheduler.StepLR`: 단계(step)마다 학습률을 감마(gamma) 비율만큼 감소\n",
    "  - `optim.lr_scheduler.MultiStepLR`: `StepLR`과 비슷하지만 특정 단계가 아니라 지정된 에포크에만 감마 비율로 감소\n",
    "  - `optim.lr_scheduler.ExponentialLR`: 에포크마다 이전 학습률에 감마만큼 곱함\n",
    "  - `optim.lr_scheduler.CosineAnnealingLR`: 학습률을 코사인(cosine) 함수의 형태처럼 변화시켜 학습률일 커지기도 하고 작아지기도 함\n",
    "  - `optim.lr_scheduler.ReduceLROnPlateau`: 학습이 잘되는지 아닌지에 따라 동적으로 학습률 변화"
   ]
  },
  {
   "cell_type": "markdown",
   "id": "7234f2d7",
   "metadata": {},
   "source": [
    "### 지표(Metrics)\n",
    "\n",
    "* 모델의 학습과 테스트 단계를 모니터링"
   ]
  },
  {
   "cell_type": "code",
   "execution_count": 111,
   "id": "929a997a",
   "metadata": {},
   "outputs": [
    {
     "name": "stdout",
     "output_type": "stream",
     "text": [
      "Collecting torchmetrics\n",
      "  Downloading torchmetrics-1.7.1-py3-none-any.whl.metadata (21 kB)\n",
      "Requirement already satisfied: numpy>1.20.0 in c:\\users\\leekeun\\anaconda3\\envs\\study\\lib\\site-packages (from torchmetrics) (2.0.2)\n",
      "Requirement already satisfied: packaging>17.1 in c:\\users\\leekeun\\anaconda3\\envs\\study\\lib\\site-packages (from torchmetrics) (24.2)\n",
      "Requirement already satisfied: torch>=2.0.0 in c:\\users\\leekeun\\anaconda3\\envs\\study\\lib\\site-packages (from torchmetrics) (2.6.0+cu118)\n",
      "Collecting lightning-utilities>=0.8.0 (from torchmetrics)\n",
      "  Downloading lightning_utilities-0.14.3-py3-none-any.whl.metadata (5.6 kB)\n",
      "Requirement already satisfied: setuptools in c:\\users\\leekeun\\anaconda3\\envs\\study\\lib\\site-packages (from lightning-utilities>=0.8.0->torchmetrics) (75.8.0)\n",
      "Requirement already satisfied: typing_extensions in c:\\users\\leekeun\\anaconda3\\envs\\study\\lib\\site-packages (from lightning-utilities>=0.8.0->torchmetrics) (4.12.2)\n",
      "Requirement already satisfied: filelock in c:\\users\\leekeun\\anaconda3\\envs\\study\\lib\\site-packages (from torch>=2.0.0->torchmetrics) (3.13.1)\n",
      "Requirement already satisfied: networkx in c:\\users\\leekeun\\anaconda3\\envs\\study\\lib\\site-packages (from torch>=2.0.0->torchmetrics) (3.2.1)\n",
      "Requirement already satisfied: jinja2 in c:\\users\\leekeun\\anaconda3\\envs\\study\\lib\\site-packages (from torch>=2.0.0->torchmetrics) (3.1.4)\n",
      "Requirement already satisfied: fsspec in c:\\users\\leekeun\\anaconda3\\envs\\study\\lib\\site-packages (from torch>=2.0.0->torchmetrics) (2024.6.1)\n",
      "Requirement already satisfied: sympy==1.13.1 in c:\\users\\leekeun\\anaconda3\\envs\\study\\lib\\site-packages (from torch>=2.0.0->torchmetrics) (1.13.1)\n",
      "Requirement already satisfied: mpmath<1.4,>=1.1.0 in c:\\users\\leekeun\\anaconda3\\envs\\study\\lib\\site-packages (from sympy==1.13.1->torch>=2.0.0->torchmetrics) (1.3.0)\n",
      "Requirement already satisfied: MarkupSafe>=2.0 in c:\\users\\leekeun\\anaconda3\\envs\\study\\lib\\site-packages (from jinja2->torch>=2.0.0->torchmetrics) (3.0.2)\n",
      "Downloading torchmetrics-1.7.1-py3-none-any.whl (961 kB)\n",
      "   ---------------------------------------- 0.0/961.5 kB ? eta -:--:--\n",
      "   --------------------------------------- 961.5/961.5 kB 22.6 MB/s eta 0:00:00\n",
      "Downloading lightning_utilities-0.14.3-py3-none-any.whl (28 kB)\n",
      "Installing collected packages: lightning-utilities, torchmetrics\n",
      "Successfully installed lightning-utilities-0.14.3 torchmetrics-1.7.1\n"
     ]
    }
   ],
   "source": [
    "!pip install torchmetrics"
   ]
  },
  {
   "cell_type": "code",
   "execution_count": 112,
   "id": "d2ae40e3",
   "metadata": {},
   "outputs": [
    {
     "name": "stdout",
     "output_type": "stream",
     "text": [
      "tensor([[0.0731, 0.0787, 0.6424, 0.1197, 0.0861],\n",
      "        [0.1191, 0.1051, 0.5755, 0.0989, 0.1015],\n",
      "        [0.1038, 0.2895, 0.1311, 0.1270, 0.3486],\n",
      "        [0.0988, 0.3206, 0.4884, 0.0303, 0.0619],\n",
      "        [0.2516, 0.1473, 0.0245, 0.1499, 0.4268],\n",
      "        [0.1985, 0.3555, 0.2196, 0.1610, 0.0655],\n",
      "        [0.4679, 0.1572, 0.1483, 0.1700, 0.0567],\n",
      "        [0.3855, 0.0467, 0.1141, 0.3739, 0.0797],\n",
      "        [0.6371, 0.0244, 0.0568, 0.0223, 0.2593],\n",
      "        [0.2058, 0.2650, 0.2984, 0.1008, 0.1301]]) tensor([2, 0, 4, 0, 3, 3, 2, 3, 1, 2])\n",
      "tensor(0.3000)\n"
     ]
    }
   ],
   "source": [
    "import torchmetrics\n",
    "\n",
    "preds = torch.randn(10, 5).softmax(dim=-1)\n",
    "target = torch.randint(5, (10,))\n",
    "print(preds, target)\n",
    "\n",
    "acc = torchmetrics.functional.accuracy(preds, target, task=\"multiclass\", num_classes=5)\n",
    "print(acc)"
   ]
  },
  {
   "cell_type": "code",
   "execution_count": 113,
   "id": "763cabfe",
   "metadata": {},
   "outputs": [
    {
     "name": "stdout",
     "output_type": "stream",
     "text": [
      "tensor(0.3000)\n",
      "tensor(0.2000)\n",
      "tensor(0.3000)\n",
      "tensor(0.6000)\n",
      "tensor(0.2000)\n",
      "tensor(0.2000)\n",
      "tensor(0.4000)\n",
      "tensor(0.5000)\n",
      "tensor(0.3000)\n",
      "tensor(0.2000)\n",
      "tensor(0.3200)\n"
     ]
    }
   ],
   "source": [
    "metric = torchmetrics.Accuracy(task=\"multiclass\", num_classes=5)\n",
    "\n",
    "n_batches = 10\n",
    "for i in range(n_batches):\n",
    "    preds = torch.randn(10, 5).softmax(dim=-1)\n",
    "    target = torch.randint(5, (10,))\n",
    "\n",
    "    acc = metric(preds, target)\n",
    "    print(acc)\n",
    "    \n",
    "acc = metric.compute()\n",
    "print(acc)"
   ]
  },
  {
   "cell_type": "markdown",
   "id": "96493616",
   "metadata": {},
   "source": [
    "## 선형 회귀 모델(Linear Regression Model)"
   ]
  },
  {
   "cell_type": "markdown",
   "id": "e62c7d2f",
   "metadata": {},
   "source": [
    "### 데이터 생성"
   ]
  },
  {
   "cell_type": "code",
   "execution_count": 114,
   "id": "76bd0110",
   "metadata": {},
   "outputs": [
    {
     "data": {
      "image/png": "[encoded data removed]",
      "text/plain": [
       "<Figure size 640x480 with 1 Axes>"
      ]
     },
     "metadata": {},
     "output_type": "display_data"
    }
   ],
   "source": [
    "X = torch.randn(200, 1) * 10\n",
    "y = X + 3 * torch.randn(200, 1)\n",
    "# print(X)\n",
    "# print(y)\n",
    "plt.scatter(X.numpy(), y.numpy())\n",
    "plt.ylabel('y')\n",
    "plt.xlabel('x')\n",
    "plt.grid()\n",
    "plt.show()"
   ]
  },
  {
   "cell_type": "markdown",
   "id": "fab93534",
   "metadata": {},
   "source": [
    "### 모델 정의 및 파라미터"
   ]
  },
  {
   "cell_type": "code",
   "execution_count": 115,
   "id": "4e17a9c1",
   "metadata": {},
   "outputs": [],
   "source": [
    "class LinearRegressionModel(nn.Module):\n",
    "    def __init__(self):\n",
    "        super(LinearRegressionModel, self).__init__()\n",
    "        self.linear = nn.Linear(1, 1)\n",
    "        \n",
    "    def forward(self, x):\n",
    "        pred = self.linear(x)\n",
    "        return pred"
   ]
  },
  {
   "cell_type": "code",
   "execution_count": 116,
   "id": "2738b8df",
   "metadata": {},
   "outputs": [
    {
     "name": "stdout",
     "output_type": "stream",
     "text": [
      "LinearRegressionModel(\n",
      "  (linear): Linear(in_features=1, out_features=1, bias=True)\n",
      ")\n",
      "[Parameter containing:\n",
      "tensor([[-0.9789]], requires_grad=True), Parameter containing:\n",
      "tensor([0.6200], requires_grad=True)]\n"
     ]
    }
   ],
   "source": [
    "model = LinearRegressionModel()\n",
    "print(model)\n",
    "print(list(model.parameters()))"
   ]
  },
  {
   "cell_type": "code",
   "execution_count": 117,
   "id": "63817d9f",
   "metadata": {},
   "outputs": [
    {
     "data": {
      "image/png": "[encoded data removed]",
      "text/plain": [
       "<Figure size 640x480 with 1 Axes>"
      ]
     },
     "metadata": {},
     "output_type": "display_data"
    }
   ],
   "source": [
    "w, b = model.parameters()\n",
    "w1, b1 = w[0][0].item(), b[0].item()\n",
    "x1 = np.array([-30, 30])\n",
    "y1 = w1 * x1 + b1\n",
    "\n",
    "plt.plot(x1, y1, 'r')\n",
    "plt.scatter(X, y)\n",
    "plt.grid()\n",
    "plt.show()"
   ]
  },
  {
   "cell_type": "markdown",
   "id": "4a728605",
   "metadata": {},
   "source": [
    "### 손실 함수 및 옵티마이저"
   ]
  },
  {
   "cell_type": "code",
   "execution_count": 118,
   "id": "d3fddcd5",
   "metadata": {},
   "outputs": [],
   "source": [
    "import torch.optim as optim\n",
    "creterion = nn.MSELoss()\n",
    "optimizer = optim.SGD(model.parameters(), lr=0.001)"
   ]
  },
  {
   "cell_type": "markdown",
   "id": "f94fd282",
   "metadata": {},
   "source": [
    "### 모델 학습"
   ]
  },
  {
   "cell_type": "code",
   "execution_count": 119,
   "id": "ae11c2f7",
   "metadata": {},
   "outputs": [],
   "source": [
    "epochs = 100\n",
    "losses = []\n",
    "\n",
    "for epoch in range(epochs):\n",
    "    optimizer.zero_grad()\n",
    "    \n",
    "    y_pred = model(X)\n",
    "    loss = creterion(y_pred, y)\n",
    "    losses.append(loss.item())\n",
    "    loss.backward()\n",
    "    \n",
    "    optimizer.step()"
   ]
  },
  {
   "cell_type": "code",
   "execution_count": 120,
   "id": "8398b332",
   "metadata": {},
   "outputs": [
    {
     "data": {
      "image/png": "[encoded data removed]",
      "text/plain": [
       "<Figure size 640x480 with 1 Axes>"
      ]
     },
     "metadata": {},
     "output_type": "display_data"
    }
   ],
   "source": [
    "plt.plot(range(epochs), losses)\n",
    "plt.ylabel('Loss')\n",
    "plt.xlabel('Epoch')\n",
    "plt.show()"
   ]
  },
  {
   "cell_type": "code",
   "execution_count": 121,
   "id": "beef11a4",
   "metadata": {},
   "outputs": [
    {
     "data": {
      "image/png": "[encoded data removed]",
      "text/plain": [
       "<Figure size 640x480 with 1 Axes>"
      ]
     },
     "metadata": {},
     "output_type": "display_data"
    }
   ],
   "source": [
    "w1, b1 = w[0][0].item(), b[0].item()\n",
    "x1 = np.array([-30, 30])\n",
    "y1 = w1 * x1 + b1\n",
    "\n",
    "plt.plot(x1, y1, 'r')\n",
    "plt.scatter(X, y)\n",
    "plt.grid()\n",
    "plt.show()"
   ]
  },
  {
   "cell_type": "markdown",
   "id": "ba8fe108",
   "metadata": {},
   "source": [
    "## FashionMNIST 분류 모델"
   ]
  },
  {
   "cell_type": "markdown",
   "id": "d8aa9c21",
   "metadata": {},
   "source": [
    "GPU 설정"
   ]
  },
  {
   "cell_type": "code",
   "execution_count": 122,
   "id": "7ed4dca6",
   "metadata": {},
   "outputs": [
    {
     "data": {
      "text/plain": [
       "device(type='cuda')"
      ]
     },
     "execution_count": 122,
     "metadata": {},
     "output_type": "execute_result"
    }
   ],
   "source": [
    "device = torch.device('cuda' if torch.cuda.is_available() else 'cpu')\n",
    "device"
   ]
  },
  {
   "cell_type": "code",
   "execution_count": 123,
   "id": "61241b48",
   "metadata": {},
   "outputs": [],
   "source": [
    "transform = transforms.Compose([transforms.ToTensor(),\n",
    "                               transforms.Normalize((0.5, ), (0.5, ))])"
   ]
  },
  {
   "cell_type": "code",
   "execution_count": 124,
   "id": "15eea1a4",
   "metadata": {},
   "outputs": [],
   "source": [
    "trainset = datasets.FashionMNIST(root='./Dataset/',\n",
    "                                train=True, download=True,\n",
    "                                transform=transform)\n",
    "\n",
    "testset = datasets.FashionMNIST(root='./Dataset/',\n",
    "                                train=False, download=True,\n",
    "                                transform=transform)"
   ]
  },
  {
   "cell_type": "code",
   "execution_count": 125,
   "id": "6b23ec8d",
   "metadata": {},
   "outputs": [],
   "source": [
    "train_loader = DataLoader(trainset, batch_size=128, shuffle=True, num_workers=2)\n",
    "test_loader = DataLoader(testset, batch_size=128, shuffle=True, num_workers=2)"
   ]
  },
  {
   "cell_type": "code",
   "execution_count": 126,
   "id": "2b26e484",
   "metadata": {},
   "outputs": [
    {
     "data": {
      "text/plain": [
       "(torch.Size([128, 1, 28, 28]), torch.Size([128]))"
      ]
     },
     "execution_count": 126,
     "metadata": {},
     "output_type": "execute_result"
    }
   ],
   "source": [
    "images, labels = next(iter(train_loader))\n",
    "images.shape, labels.shape"
   ]
  },
  {
   "cell_type": "code",
   "execution_count": 127,
   "id": "37f7bbef",
   "metadata": {},
   "outputs": [
    {
     "data": {
      "image/png": "[encoded data removed]",
      "text/plain": [
       "<Figure size 1200x1200 with 16 Axes>"
      ]
     },
     "metadata": {},
     "output_type": "display_data"
    }
   ],
   "source": [
    "labels_map = {\n",
    "    0: 'T-Shirt',\n",
    "    1: 'Trouser',\n",
    "    2: 'Pullover',\n",
    "    3: 'Dress',\n",
    "    4: 'Coat',\n",
    "    5: 'Sandal',\n",
    "    6: 'Shirt',\n",
    "    7: 'Sneaker',\n",
    "    8: 'Bag',\n",
    "    9: 'Ankle Boot'\n",
    "}\n",
    "\n",
    "figure = plt.figure(figsize=(12, 12))\n",
    "cols, rows = 4, 4\n",
    "for i in range(1, cols * rows + 1):\n",
    "    image = images[i].squeeze()\n",
    "    label_idx = labels[i].item()\n",
    "    label = labels_map[label_idx]\n",
    "    \n",
    "    figure.add_subplot(rows, cols, i)\n",
    "    plt.title(label)\n",
    "    plt.axis('off')\n",
    "    plt.imshow(image, cmap='gray')\n",
    "plt.show()"
   ]
  },
  {
   "cell_type": "markdown",
   "id": "ed0c6fb9",
   "metadata": {},
   "source": [
    "### 모델 정의 및 파라미터"
   ]
  },
  {
   "cell_type": "code",
   "execution_count": 128,
   "id": "2097cc2a",
   "metadata": {},
   "outputs": [
    {
     "name": "stdout",
     "output_type": "stream",
     "text": [
      "NeuralNet(\n",
      "  (conv1): Conv2d(1, 6, kernel_size=(3, 3), stride=(1, 1))\n",
      "  (conv2): Conv2d(6, 16, kernel_size=(3, 3), stride=(1, 1))\n",
      "  (fc1): Linear(in_features=400, out_features=120, bias=True)\n",
      "  (fc2): Linear(in_features=120, out_features=84, bias=True)\n",
      "  (fc3): Linear(in_features=84, out_features=10, bias=True)\n",
      ")\n"
     ]
    }
   ],
   "source": [
    "class NeuralNet(nn.Module):\n",
    "    def __init__(self):\n",
    "        super(NeuralNet, self).__init__()\n",
    "        \n",
    "        self.conv1 = nn.Conv2d(1, 6, 3)\n",
    "        self.conv2 = nn.Conv2d(6, 16, 3)\n",
    "        self.fc1 = nn.Linear(16 * 5 * 5, 120)\n",
    "        self.fc2 = nn.Linear(120, 84)\n",
    "        self.fc3 = nn.Linear(84, 10)\n",
    "        \n",
    "    def forward(self, x):\n",
    "        x = F.max_pool2d(F.relu(self.conv1(x)), (2, 2))\n",
    "        x = F.max_pool2d(F.relu(self.conv2(x)), 2)\n",
    "        x = x.view(-1, self.num_flat_features(x))\n",
    "        x = F.relu(self.fc1(x))\n",
    "        x = F.relu(self.fc2(x))\n",
    "        x = self.fc3(x)\n",
    "        \n",
    "        return x\n",
    "    \n",
    "    def num_flat_features(self, x):\n",
    "        size = x.size()[1:]\n",
    "        num_features = 1\n",
    "        for s in size:\n",
    "            num_features *= s\n",
    "            \n",
    "        return num_features\n",
    "    \n",
    "net = NeuralNet()\n",
    "print(net)"
   ]
  },
  {
   "cell_type": "code",
   "execution_count": 129,
   "id": "ba690592",
   "metadata": {},
   "outputs": [
    {
     "name": "stdout",
     "output_type": "stream",
     "text": [
      "10\n",
      "torch.Size([6, 1, 3, 3])\n"
     ]
    }
   ],
   "source": [
    "params = list(net.parameters())\n",
    "print(len(params))\n",
    "print(params[0].size())"
   ]
  },
  {
   "cell_type": "code",
   "execution_count": 130,
   "id": "43c7081d",
   "metadata": {},
   "outputs": [
    {
     "name": "stdout",
     "output_type": "stream",
     "text": [
      "tensor([[-0.0610,  0.0123, -0.0537, -0.1243,  0.1219, -0.0215, -0.0339,  0.1262,\n",
      "          0.0181, -0.0714]], grad_fn=<AddmmBackward0>)\n"
     ]
    }
   ],
   "source": [
    "input = torch.randn(1, 1, 28, 28)\n",
    "out = net(input)\n",
    "print(out)"
   ]
  },
  {
   "cell_type": "markdown",
   "id": "d763df07",
   "metadata": {},
   "source": [
    "### 손실함수와 옵티마이저"
   ]
  },
  {
   "cell_type": "code",
   "execution_count": 131,
   "id": "107e81f3",
   "metadata": {},
   "outputs": [],
   "source": [
    "criterion = nn.CrossEntropyLoss()\n",
    "optimizer = optim.SGD(net.parameters(), lr=0.001, momentum=0.9)"
   ]
  },
  {
   "cell_type": "markdown",
   "id": "a27a9c4f",
   "metadata": {},
   "source": [
    "### 모델 학습"
   ]
  },
  {
   "cell_type": "markdown",
   "id": "97a8332b",
   "metadata": {},
   "source": [
    "배치수 확인"
   ]
  },
  {
   "cell_type": "code",
   "execution_count": 132,
   "id": "039f75ee",
   "metadata": {},
   "outputs": [
    {
     "name": "stdout",
     "output_type": "stream",
     "text": [
      "469\n"
     ]
    }
   ],
   "source": [
    "total_batch = len(train_loader)\n",
    "print(total_batch)"
   ]
  },
  {
   "cell_type": "code",
   "execution_count": 133,
   "id": "bf99965a",
   "metadata": {},
   "outputs": [
    {
     "name": "stdout",
     "output_type": "stream",
     "text": [
      "Epoch: 1, Iter: 100, Loss: 0.11518562650680542\n",
      "Epoch: 1, Iter: 200, Loss: 0.11502512013912201\n",
      "Epoch: 1, Iter: 300, Loss: 0.11477154803276061\n",
      "Epoch: 1, Iter: 400, Loss: 0.1144998710155487\n",
      "Epoch: 2, Iter: 100, Loss: 0.11382207810878754\n",
      "Epoch: 2, Iter: 200, Loss: 0.11282468342781067\n",
      "Epoch: 2, Iter: 300, Loss: 0.11066782486438752\n",
      "Epoch: 2, Iter: 400, Loss: 0.1038972772359848\n",
      "Epoch: 3, Iter: 100, Loss: 0.06726973223686218\n",
      "Epoch: 3, Iter: 200, Loss: 0.05474433889985084\n",
      "Epoch: 3, Iter: 300, Loss: 0.04761576694250107\n",
      "Epoch: 3, Iter: 400, Loss: 0.04292933788895607\n",
      "Epoch: 4, Iter: 100, Loss: 0.03839606609940529\n",
      "Epoch: 4, Iter: 200, Loss: 0.036669896990060805\n",
      "Epoch: 4, Iter: 300, Loss: 0.03482668909430504\n",
      "Epoch: 4, Iter: 400, Loss: 0.03376512008905411\n",
      "Epoch: 5, Iter: 100, Loss: 0.03239445693790913\n",
      "Epoch: 5, Iter: 200, Loss: 0.031831327930092815\n",
      "Epoch: 5, Iter: 300, Loss: 0.0310905784368515\n",
      "Epoch: 5, Iter: 400, Loss: 0.030438422456383705\n",
      "Epoch: 6, Iter: 100, Loss: 0.029525893986225127\n",
      "Epoch: 6, Iter: 200, Loss: 0.029139845475554465\n",
      "Epoch: 6, Iter: 300, Loss: 0.02859761355817318\n",
      "Epoch: 6, Iter: 400, Loss: 0.02877771344780922\n",
      "Epoch: 7, Iter: 100, Loss: 0.027818288251757622\n",
      "Epoch: 7, Iter: 200, Loss: 0.027662981510162353\n",
      "Epoch: 7, Iter: 300, Loss: 0.027116630047559737\n",
      "Epoch: 7, Iter: 400, Loss: 0.027233740374445915\n",
      "Epoch: 8, Iter: 100, Loss: 0.026203907072544098\n",
      "Epoch: 8, Iter: 200, Loss: 0.02641972291469574\n",
      "Epoch: 8, Iter: 300, Loss: 0.025717792063951493\n",
      "Epoch: 8, Iter: 400, Loss: 0.025657490000128746\n",
      "Epoch: 9, Iter: 100, Loss: 0.025600132077932356\n",
      "Epoch: 9, Iter: 200, Loss: 0.025752200677990913\n",
      "Epoch: 9, Iter: 300, Loss: 0.024880319729447365\n",
      "Epoch: 9, Iter: 400, Loss: 0.02488496083021164\n",
      "Epoch: 10, Iter: 100, Loss: 0.02517709967494011\n",
      "Epoch: 10, Iter: 200, Loss: 0.024492451161146164\n",
      "Epoch: 10, Iter: 300, Loss: 0.024095858931541442\n",
      "Epoch: 10, Iter: 400, Loss: 0.02434841598570347\n"
     ]
    }
   ],
   "source": [
    "for epoch in range(10):\n",
    "    \n",
    "    running_loss = 0.0\n",
    "    \n",
    "    for i, data in enumerate(train_loader, 0):\n",
    "        inputs, labels = data\n",
    "        optimizer.zero_grad()\n",
    "        \n",
    "        outputs = net(inputs)\n",
    "        loss = criterion(outputs, labels)\n",
    "        loss.backward()\n",
    "        optimizer.step()\n",
    "        \n",
    "        running_loss += loss.item()\n",
    "        \n",
    "        if i % 100 == 99:\n",
    "            print('Epoch: {}, Iter: {}, Loss: {}'.format(epoch+1, i+1, running_loss/2000))\n",
    "            running_loss = 0.0"
   ]
  },
  {
   "cell_type": "markdown",
   "id": "d2a55971",
   "metadata": {},
   "source": [
    "### 모델의 저장 및 로드\n",
    "\n",
    "- `torch.save`: `net.state_dict()`를 저장\n",
    "- `torch.load`: `load_state_dict`로 모델을 로드"
   ]
  },
  {
   "cell_type": "code",
   "execution_count": 134,
   "id": "6f00449d",
   "metadata": {},
   "outputs": [],
   "source": [
    "PATH = './fashion_mnist.pth'\n",
    "torch.save(net.state_dict(), PATH)"
   ]
  },
  {
   "cell_type": "code",
   "execution_count": 135,
   "id": "cbd5b9f4",
   "metadata": {},
   "outputs": [
    {
     "data": {
      "text/plain": [
       "<All keys matched successfully>"
      ]
     },
     "execution_count": 135,
     "metadata": {},
     "output_type": "execute_result"
    }
   ],
   "source": [
    "net = NeuralNet()\n",
    "net.load_state_dict(torch.load(PATH))"
   ]
  },
  {
   "cell_type": "code",
   "execution_count": 136,
   "id": "02fd5017",
   "metadata": {},
   "outputs": [
    {
     "data": {
      "text/plain": [
       "<bound method Module.parameters of NeuralNet(\n",
       "  (conv1): Conv2d(1, 6, kernel_size=(3, 3), stride=(1, 1))\n",
       "  (conv2): Conv2d(6, 16, kernel_size=(3, 3), stride=(1, 1))\n",
       "  (fc1): Linear(in_features=400, out_features=120, bias=True)\n",
       "  (fc2): Linear(in_features=120, out_features=84, bias=True)\n",
       "  (fc3): Linear(in_features=84, out_features=10, bias=True)\n",
       ")>"
      ]
     },
     "execution_count": 136,
     "metadata": {},
     "output_type": "execute_result"
    }
   ],
   "source": [
    "net.parameters"
   ]
  },
  {
   "cell_type": "markdown",
   "id": "eff8ddf8",
   "metadata": {},
   "source": [
    "### 모델 테스트"
   ]
  },
  {
   "cell_type": "code",
   "execution_count": 137,
   "id": "3dbfb92a",
   "metadata": {},
   "outputs": [],
   "source": [
    "def imshow(image):\n",
    "    image = image / 2 + 0.5\n",
    "    npimg = image.numpy()\n",
    "    \n",
    "    fig = plt.figure(figsize=(16, 8))\n",
    "    plt.imshow(np.transpose(npimg, (1, 2, 0)))\n",
    "    plt.show()"
   ]
  },
  {
   "cell_type": "code",
   "execution_count": 138,
   "id": "18a25150",
   "metadata": {},
   "outputs": [
    {
     "data": {
      "image/png": "[encoded data removed]",
      "text/plain": [
       "<Figure size 1600x800 with 1 Axes>"
      ]
     },
     "metadata": {},
     "output_type": "display_data"
    }
   ],
   "source": [
    "import torchvision\n",
    "\n",
    "dataiter = iter(test_loader)\n",
    "images, labels = next(dataiter)\n",
    "\n",
    "imshow(torchvision.utils.make_grid(images[:6]))"
   ]
  },
  {
   "cell_type": "code",
   "execution_count": 139,
   "id": "f2b2954c",
   "metadata": {},
   "outputs": [
    {
     "name": "stdout",
     "output_type": "stream",
     "text": [
      "tensor([8, 2, 9, 6, 0, 1, 3, 7, 3, 6, 6, 5, 4, 1, 3, 2, 3, 4, 1, 5, 8, 5, 9, 5,\n",
      "        5, 2, 7, 2, 4, 6, 5, 1, 2, 2, 5, 0, 2, 1, 5, 5, 4, 4, 2, 8, 9, 6, 2, 3,\n",
      "        6, 3, 1, 4, 7, 9, 0, 5, 8, 3, 7, 3, 3, 5, 7, 4, 8, 1, 6, 2, 1, 9, 7, 6,\n",
      "        0, 3, 9, 1, 5, 6, 9, 7, 8, 9, 8, 9, 2, 5, 8, 0, 1, 1, 3, 6, 3, 9, 9, 9,\n",
      "        9, 9, 7, 1, 3, 6, 7, 8, 1, 2, 0, 9, 4, 1, 3, 2, 4, 1, 7, 1, 0, 9, 5, 5,\n",
      "        7, 6, 2, 4, 7, 1, 6, 0])\n"
     ]
    }
   ],
   "source": [
    "outputs = net(images)\n",
    "\n",
    "_, predicted = torch.max(outputs, 1)\n",
    "print(predicted)"
   ]
  },
  {
   "cell_type": "code",
   "execution_count": 140,
   "id": "5d3bd6af",
   "metadata": {},
   "outputs": [
    {
     "name": "stdout",
     "output_type": "stream",
     "text": [
      "Bag, Pullover, Ankle Boot, Shirt, T-Shirt, Trouser, \n"
     ]
    }
   ],
   "source": [
    "print(''.join(f'{labels_map[int(predicted[j].numpy())]}, ' for j in range(6)))"
   ]
  },
  {
   "cell_type": "code",
   "execution_count": 141,
   "id": "76e3bac7",
   "metadata": {},
   "outputs": [
    {
     "name": "stdout",
     "output_type": "stream",
     "text": [
      "82.36\n"
     ]
    }
   ],
   "source": [
    "correct = 0\n",
    "total = 0\n",
    "\n",
    "with torch.no_grad():\n",
    "    for data in test_loader:\n",
    "        images, labels = data\n",
    "        outputs = net(images)\n",
    "        _, predicted = torch.max(outputs.data, 1)\n",
    "        total += labels.size(0)\n",
    "        correct += (predicted == labels).sum().item()\n",
    "        \n",
    "print(100 * correct / total)"
   ]
  }
 ],
 "metadata": {
  "kernelspec": {
   "display_name": "Study",
   "language": "python",
   "name": "python3"
  },
  "language_info": {
   "codemirror_mode": {
    "name": "ipython",
    "version": 3
   },
   "file_extension": ".py",
   "mimetype": "text/x-python",
   "name": "python",
   "nbconvert_exporter": "python",
   "pygments_lexer": "ipython3",
   "version": "3.9.21"
  }
 },
 "nbformat": 4,
 "nbformat_minor": 5
}
