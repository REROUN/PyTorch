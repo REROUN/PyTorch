{
 "cells": [
  {
   "cell_type": "markdown",
   "id": "ff49cd7d",
   "metadata": {},
   "source": [
    "# 신경망 생성\n",
    "\n",
    "- `torch.nn` 패키지 사용\n",
    "- `nn.Module`을 상속받고, 해당 모듈은 계층과 `output`을 반환하는 `forward`메소드를 포함\n",
    "- 파이토치에서 신경망생성을 위한 기본 틀\n",
    "```python\n",
    "1. class Net(nn.Module):\n",
    "\n",
    "    def __init__(self):\n",
    "        super(Net, self).__init__()\n",
    "\n",
    "2. class MyModel(nn.Module):\n",
    "\n",
    "    def __init__(self):\n",
    "        super(MyModel, self).__init__()\n",
    "```\n",
    "- `conv2d` 에이어를 쌓을 때, 필터의 갯수를 계산하고 `in_channels`에 넣어줘야함"
   ]
  },
  {
   "cell_type": "markdown",
   "id": "cb4c1559",
   "metadata": {},
   "source": [
    "### 신경망 정의"
   ]
  },
  {
   "cell_type": "code",
   "execution_count": 1,
   "id": "82dd6b58",
   "metadata": {},
   "outputs": [],
   "source": [
    "import torch\n",
    "import torch.nn as nn\n",
    "import torch.nn.functional as F"
   ]
  },
  {
   "cell_type": "code",
   "execution_count": 2,
   "id": "494e0899",
   "metadata": {},
   "outputs": [
    {
     "name": "stdout",
     "output_type": "stream",
     "text": [
      "Net(\n",
      "  (conv1): Conv2d(1, 6, kernel_size=(3, 3), stride=(1, 1))\n",
      "  (conv2): Conv2d(6, 16, kernel_size=(3, 3), stride=(1, 1))\n",
      "  (fc1): Linear(in_features=576, out_features=120, bias=True)\n",
      "  (fc2): Linear(in_features=120, out_features=84, bias=True)\n",
      "  (fc3): Linear(in_features=84, out_features=10, bias=True)\n",
      ")\n"
     ]
    }
   ],
   "source": [
    "class Net(nn.Module):\n",
    "    \n",
    "    def __init__(self):\n",
    "        super(Net, self).__init__()\n",
    "        \n",
    "        self.conv1 = nn.Conv2d(1, 6, 3)\n",
    "        self.conv2 = nn.Conv2d(6, 16, 3)\n",
    "        self.fc1 = nn.Linear(16 * 6 * 6, 120)\n",
    "        self.fc2 = nn.Linear(120, 84)\n",
    "        self.fc3 = nn.Linear(84, 10)\n",
    "        \n",
    "    def forward(self, x):\n",
    "        x = F.max_pool2d(F.relu(self.conv1(x)), (2, 2))\n",
    "        x = F.max_pool2d(F.relu(self.conv2(x)), 2)\n",
    "        x = x.view(-1, self.num_flat_features(x))\n",
    "        x = F.relu(self.fc1(x))\n",
    "        x = F.relu(self.fc2(x))\n",
    "        x = self.fc3(x)\n",
    "        return x\n",
    "    \n",
    "    def num_flat_features(self, x):\n",
    "        size = x.size()[1:]\n",
    "        num_features = 1\n",
    "        for s in size:\n",
    "            num_features *= s\n",
    "            \n",
    "        return num_features\n",
    "    \n",
    "net = Net()\n",
    "print(net)"
   ]
  },
  {
   "cell_type": "markdown",
   "id": "7302e810",
   "metadata": {},
   "source": [
    "### 선형회귀(Linear Regression) 모델 생성"
   ]
  },
  {
   "cell_type": "markdown",
   "id": "19640cff",
   "metadata": {},
   "source": [
    "##### modules import"
   ]
  },
  {
   "cell_type": "code",
   "execution_count": 28,
   "id": "392ad66b",
   "metadata": {},
   "outputs": [
    {
     "data": {
      "text/plain": [
       "['Solarize_Light2',\n",
       " '_classic_test_patch',\n",
       " '_mpl-gallery',\n",
       " '_mpl-gallery-nogrid',\n",
       " 'bmh',\n",
       " 'classic',\n",
       " 'dark_background',\n",
       " 'fast',\n",
       " 'fivethirtyeight',\n",
       " 'ggplot',\n",
       " 'grayscale',\n",
       " 'seaborn-v0_8',\n",
       " 'seaborn-v0_8-bright',\n",
       " 'seaborn-v0_8-colorblind',\n",
       " 'seaborn-v0_8-dark',\n",
       " 'seaborn-v0_8-dark-palette',\n",
       " 'seaborn-v0_8-darkgrid',\n",
       " 'seaborn-v0_8-deep',\n",
       " 'seaborn-v0_8-muted',\n",
       " 'seaborn-v0_8-notebook',\n",
       " 'seaborn-v0_8-paper',\n",
       " 'seaborn-v0_8-pastel',\n",
       " 'seaborn-v0_8-poster',\n",
       " 'seaborn-v0_8-talk',\n",
       " 'seaborn-v0_8-ticks',\n",
       " 'seaborn-v0_8-white',\n",
       " 'seaborn-v0_8-whitegrid',\n",
       " 'tableau-colorblind10']"
      ]
     },
     "execution_count": 28,
     "metadata": {},
     "output_type": "execute_result"
    }
   ],
   "source": [
    "import torch\n",
    "import torch.nn as nn\n",
    "import torch.optim as optim\n",
    "\n",
    "import numpy as np\n",
    "import matplotlib.pyplot as plt\n",
    "plt.style.use('seaborn-v0_8-white')\n",
    "plt.style.available"
   ]
  },
  {
   "cell_type": "markdown",
   "id": "ab9d68c6",
   "metadata": {},
   "source": [
    "##### 데이터 생성 및 회귀식 설정"
   ]
  },
  {
   "cell_type": "code",
   "execution_count": 29,
   "id": "27d08d0b",
   "metadata": {},
   "outputs": [
    {
     "data": {
      "image/png": "[encoded data removed]",
      "text/plain": [
       "<Figure size 1040x715 with 1 Axes>"
      ]
     },
     "metadata": {},
     "output_type": "display_data"
    }
   ],
   "source": [
    "X = torch.randn(100, 1) * 10\n",
    "y = X + 3 * torch.randn(100, 1)\n",
    "plt.plot(X.numpy(), y.numpy(), 'o')\n",
    "plt.ylabel('y')\n",
    "plt.xlabel('x')\n",
    "plt.grid()\n",
    "plt.show()"
   ]
  },
  {
   "cell_type": "markdown",
   "id": "bf93218a",
   "metadata": {},
   "source": [
    "##### 신경망 구성"
   ]
  },
  {
   "cell_type": "code",
   "execution_count": 5,
   "id": "ba1735e8",
   "metadata": {},
   "outputs": [],
   "source": [
    "class LinearRegressionModel(nn.Module):\n",
    "    \n",
    "    def __init__(self):\n",
    "        super(LinearRegressionModel, self).__init__()\n",
    "        self.linear = nn.Linear(1, 1)\n",
    "        \n",
    "    def forward(self, X):\n",
    "        pred = self.linear(X)\n",
    "        return pred"
   ]
  },
  {
   "cell_type": "markdown",
   "id": "20b3d36b",
   "metadata": {},
   "source": [
    "##### 모델 생성 및 파라미터 확인"
   ]
  },
  {
   "cell_type": "code",
   "execution_count": 6,
   "id": "55724adf",
   "metadata": {},
   "outputs": [
    {
     "name": "stdout",
     "output_type": "stream",
     "text": [
      "LinearRegressionModel(\n",
      "  (linear): Linear(in_features=1, out_features=1, bias=True)\n",
      ")\n"
     ]
    }
   ],
   "source": [
    "torch.manual_seed(111)\n",
    "\n",
    "model = LinearRegressionModel()\n",
    "print(model)"
   ]
  },
  {
   "cell_type": "code",
   "execution_count": 7,
   "id": "5ea93b8b",
   "metadata": {},
   "outputs": [
    {
     "name": "stdout",
     "output_type": "stream",
     "text": [
      "[Parameter containing:\n",
      "tensor([[0.4311]], requires_grad=True), Parameter containing:\n",
      "tensor([0.8280], requires_grad=True)]\n"
     ]
    }
   ],
   "source": [
    "print(list(model.parameters()))"
   ]
  },
  {
   "cell_type": "code",
   "execution_count": 8,
   "id": "f1b90b55",
   "metadata": {},
   "outputs": [
    {
     "data": {
      "image/png": "[encoded data removed]",
      "text/plain": [
       "<Figure size 640x480 with 1 Axes>"
      ]
     },
     "metadata": {},
     "output_type": "display_data"
    }
   ],
   "source": [
    "w, b = model.parameters()\n",
    "def get_params():\n",
    "    return w[0][0].item(), b[0].item()\n",
    "\n",
    "def plot_fit(title):\n",
    "    plt.title = title\n",
    "    w1, b1 = get_params()\n",
    "    x1 = np.array([-30, 30])\n",
    "    y1 = w1 * x1 + b1\n",
    "    plt.plot(x1, y1, 'r')\n",
    "    plt.scatter(X, y)\n",
    "    plt.show()\n",
    "    \n",
    "plot_fit('Initial Model')"
   ]
  },
  {
   "cell_type": "markdown",
   "id": "746e8ad9",
   "metadata": {},
   "source": [
    "##### 손실함수와 옵티마이저"
   ]
  },
  {
   "cell_type": "code",
   "execution_count": 9,
   "id": "6c134112",
   "metadata": {},
   "outputs": [],
   "source": [
    "criterion = nn.MSELoss()\n",
    "optimizer = optim.SGD(model.parameters(), lr=0.001)"
   ]
  },
  {
   "cell_type": "markdown",
   "id": "4cc1571f",
   "metadata": {},
   "source": [
    "##### 모델 학습 과정 보기"
   ]
  },
  {
   "cell_type": "code",
   "execution_count": 10,
   "id": "773c06d3",
   "metadata": {},
   "outputs": [
    {
     "name": "stdout",
     "output_type": "stream",
     "text": [
      "[Differential of first weight parameters]\n",
      "weight: None\n",
      "[Differential of first bias parameters]\n",
      "bias: None\n",
      "\n",
      "[First X]\n",
      "tensor([-11.8375])\n",
      "\n",
      "[Predicted y]\n",
      "tensor([-4.2755], grad_fn=<ViewBackward0>)\n",
      "[Real y]\n",
      "tensor([-11.7497])\n",
      "\n",
      "[Loss]\n",
      "55.863285064697266\n",
      "\n",
      "[Before Backward]\n",
      "0.43113183975219727\n",
      "[After Backward]\n",
      "0.6080825328826904\n",
      "\n",
      "[Before running zero_grad()]\n",
      "weight: tensor([[-176.9507]])\n",
      "[Before running zero_grad()]\n",
      "bias: tensor([14.9483])\n",
      "\n",
      "[After running zero_grad()]\n",
      "weight: None\n",
      "[After running zero_grad()]\n",
      "bias: None\n"
     ]
    }
   ],
   "source": [
    "for name, param in model.named_parameters():\n",
    "    print(f\"[Differential of first {name.split('.')[1]} parameters]\\n{name.split('.')[1]}: {param.grad}\")\n",
    "\n",
    "print(f'\\n[First X]\\n{X[0]}\\n')\n",
    "\n",
    "y_pred = model(X[0])\n",
    "print(f'[Predicted y]\\n{y_pred}')\n",
    "print(f'[Real y]\\n{y[0]}\\n')\n",
    "\n",
    "loss = criterion(y_pred, y[0])\n",
    "print(f'[Loss]\\n{loss}\\n')\n",
    "# print(f'[Before Backward]\\n{model.linear.weight[0,0]}\\n')\n",
    "print(f'[Before Backward]\\n{list(model.named_parameters())[0][1][0][0]}')\n",
    "    \n",
    "loss.backward()\n",
    "optimizer.step()\n",
    "# print(f'\\n[After Backward]\\n{model.linear.weight[0,0]}')\n",
    "print(f'[After Backward]\\n{list(model.named_parameters())[0][1][0][0]}\\n')\n",
    "\n",
    "for name, param in model.named_parameters():\n",
    "    print(f\"[Before running zero_grad()]\\n{name.split('.')[1]}: {param.grad}\")\n",
    "print()\n",
    "\n",
    "optimizer.zero_grad()\n",
    "for name, param in model.named_parameters():\n",
    "    print(f\"[After running zero_grad()]\\n{name.split('.')[1]}: {param.grad}\")"
   ]
  },
  {
   "cell_type": "markdown",
   "id": "4c93e7ce",
   "metadata": {},
   "source": [
    "##### 모델 학습"
   ]
  },
  {
   "cell_type": "code",
   "execution_count": 11,
   "id": "faa94c8b",
   "metadata": {},
   "outputs": [
    {
     "name": "stdout",
     "output_type": "stream",
     "text": [
      "Epoch:   1\tloss: 30.3393\n",
      "Epoch:  11\tloss: 8.8979\n",
      "Epoch:  21\tloss: 8.7442\n",
      "Epoch:  31\tloss: 8.7226\n",
      "Epoch:  41\tloss: 8.7026\n",
      "Epoch:  51\tloss: 8.6834\n",
      "Epoch:  61\tloss: 8.6649\n",
      "Epoch:  71\tloss: 8.6471\n",
      "Epoch:  81\tloss: 8.6301\n",
      "Epoch:  91\tloss: 8.6137\n"
     ]
    }
   ],
   "source": [
    "epochs = 100\n",
    "losses = []\n",
    "for epoch in range(epochs):\n",
    "    optimizer.zero_grad()\n",
    "    \n",
    "    y_pred = model(X)\n",
    "    loss = criterion(y_pred, y)\n",
    "    losses.append(loss)\n",
    "    loss.backward()\n",
    "    \n",
    "    optimizer.step()\n",
    "    \n",
    "    if epoch % 10 == 0:\n",
    "        print('Epoch: {:3d}\\tloss: {:.4f}'.format(epoch+1, loss))"
   ]
  },
  {
   "cell_type": "markdown",
   "id": "ede05caf",
   "metadata": {},
   "source": [
    "##### 시각화"
   ]
  },
  {
   "cell_type": "code",
   "execution_count": 13,
   "id": "3e6f36c3",
   "metadata": {},
   "outputs": [
    {
     "data": {
      "image/png": "[encoded data removed]",
      "text/plain": [
       "<Figure size 640x480 with 1 Axes>"
      ]
     },
     "metadata": {},
     "output_type": "display_data"
    }
   ],
   "source": [
    "losses = [loss.detach().numpy() for loss in losses]\n",
    "plt.plot(range(epochs), losses)\n",
    "plt.ylabel('Loss')\n",
    "plt.xlabel('Epoch')\n",
    "plt.show()"
   ]
  },
  {
   "cell_type": "code",
   "execution_count": null,
   "id": "f790261e",
   "metadata": {},
   "outputs": [
    {
     "data": {
      "image/png": "[encoded data removed]",
      "text/plain": [
       "<Figure size 640x480 with 1 Axes>"
      ]
     },
     "metadata": {},
     "output_type": "display_data"
    }
   ],
   "source": [
    "plot_fit('Trained Model')"
   ]
  },
  {
   "cell_type": "code",
   "execution_count": null,
   "id": "5995813e",
   "metadata": {},
   "outputs": [],
   "source": []
  }
 ],
 "metadata": {
  "kernelspec": {
   "display_name": "Study",
   "language": "python",
   "name": "python3"
  },
  "language_info": {
   "codemirror_mode": {
    "name": "ipython",
    "version": 3
   },
   "file_extension": ".py",
   "mimetype": "text/x-python",
   "name": "python",
   "nbconvert_exporter": "python",
   "pygments_lexer": "ipython3",
   "version": "3.9.21"
  }
 },
 "nbformat": 4,
 "nbformat_minor": 5
}
