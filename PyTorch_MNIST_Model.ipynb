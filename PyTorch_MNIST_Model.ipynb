{
 "cells": [
  {
   "cell_type": "markdown",
   "id": "3edd25da",
   "metadata": {},
   "source": [
    "### 파이토치 MNIST 모델"
   ]
  },
  {
   "cell_type": "markdown",
   "id": "6e349e07",
   "metadata": {},
   "source": [
    "##### modules import"
   ]
  },
  {
   "cell_type": "code",
   "execution_count": 35,
   "id": "082c79eb",
   "metadata": {},
   "outputs": [],
   "source": [
    "import torch\n",
    "import torch.nn as nn\n",
    "import torch.nn.functional as F\n",
    "import torch.optim as optim\n",
    "from torch.utils.data import Dataset, DataLoader\n",
    "\n",
    "import torchvision\n",
    "import torchvision.datasets\n",
    "import torchvision.transforms as transforms\n",
    "\n",
    "import numpy as np\n",
    "import matplotlib.pyplot as plt\n",
    "plt.style.use('seaborn-v0_8-white')"
   ]
  },
  {
   "cell_type": "markdown",
   "id": "4976d6a0",
   "metadata": {},
   "source": [
    "##### 전처리 설정\n",
    "- `transform.Compose`"
   ]
  },
  {
   "cell_type": "code",
   "execution_count": 36,
   "id": "511099c4",
   "metadata": {},
   "outputs": [],
   "source": [
    "transform = transforms.Compose([\n",
    "    transforms.ToTensor(),\n",
    "    transforms.Normalize((0.5, ), (0.5, ))\n",
    "])"
   ]
  },
  {
   "cell_type": "markdown",
   "id": "a8a3387b",
   "metadata": {},
   "source": [
    "##### 데이터 로드 및 데이터 확인"
   ]
  },
  {
   "cell_type": "code",
   "execution_count": 37,
   "id": "4d37fb3e",
   "metadata": {},
   "outputs": [],
   "source": [
    "trainset = torchvision.datasets.MNIST(root='./data',\n",
    "                                      train=True,\n",
    "                                      download=True,\n",
    "                                      transform=transform)\n",
    "\n",
    "testset = torchvision.datasets.MNIST(root='./data',\n",
    "                                      train=False,\n",
    "                                      download=True,\n",
    "                                      transform=transform)"
   ]
  },
  {
   "cell_type": "code",
   "execution_count": 38,
   "id": "82e82956",
   "metadata": {},
   "outputs": [],
   "source": [
    "train_loader = DataLoader(trainset,\n",
    "                          batch_size=128,\n",
    "                          shuffle=True,\n",
    "                          num_workers=2)\n",
    "\n",
    "test_loader = DataLoader(testset,\n",
    "                          batch_size=128,\n",
    "                          shuffle=False,\n",
    "                          num_workers=2)"
   ]
  },
  {
   "cell_type": "code",
   "execution_count": 39,
   "id": "3f1ebe81",
   "metadata": {},
   "outputs": [],
   "source": [
    "image, label = next(iter(train_loader))"
   ]
  },
  {
   "cell_type": "code",
   "execution_count": 40,
   "id": "38f840bf",
   "metadata": {},
   "outputs": [
    {
     "data": {
      "text/plain": [
       "(torch.Size([128, 1, 28, 28]), torch.Size([128]))"
      ]
     },
     "execution_count": 40,
     "metadata": {},
     "output_type": "execute_result"
    }
   ],
   "source": [
    "image.shape, label.shape"
   ]
  },
  {
   "cell_type": "code",
   "execution_count": 41,
   "id": "7298b68f",
   "metadata": {},
   "outputs": [],
   "source": [
    "def imshow(img):\n",
    "    img = img / 2 + 0.5\n",
    "    npimg = img.numpy()\n",
    "    fig = plt.figure(figsize=(10, 5))\n",
    "    plt.imshow(np.transpose(npimg, (1, 2, 0)))\n",
    "    plt.show()"
   ]
  },
  {
   "cell_type": "code",
   "execution_count": 42,
   "id": "5493b7d8",
   "metadata": {},
   "outputs": [
    {
     "data": {
      "image/png": "[encoded data removed]",
      "text/plain": [
       "<Figure size 1000x500 with 1 Axes>"
      ]
     },
     "metadata": {},
     "output_type": "display_data"
    }
   ],
   "source": [
    "dataiter = iter(train_loader)\n",
    "images, labels = next(dataiter)\n",
    "imshow(torchvision.utils.make_grid(images[:4]))"
   ]
  },
  {
   "cell_type": "markdown",
   "id": "98821403",
   "metadata": {},
   "source": [
    "##### 신경망 구성"
   ]
  },
  {
   "cell_type": "code",
   "execution_count": 43,
   "id": "c1ad75ab",
   "metadata": {},
   "outputs": [
    {
     "name": "stdout",
     "output_type": "stream",
     "text": [
      "Net(\n",
      "  (conv1): Conv2d(1, 6, kernel_size=(3, 3), stride=(1, 1))\n",
      "  (conv2): Conv2d(6, 16, kernel_size=(3, 3), stride=(1, 1))\n",
      "  (fc1): Linear(in_features=400, out_features=120, bias=True)\n",
      "  (fc2): Linear(in_features=120, out_features=84, bias=True)\n",
      "  (fc3): Linear(in_features=84, out_features=10, bias=True)\n",
      ")\n"
     ]
    }
   ],
   "source": [
    "class Net(nn.Module):\n",
    "    \n",
    "    def __init__(self):\n",
    "        super(Net, self).__init__()\n",
    "        \n",
    "        # image = H, W, C (H : Hight, W : Width, C : Channel)\n",
    "        # image shape = 28 * 28 * 1\n",
    "        self.conv1 = nn.Conv2d(1, 6, 3) # 26 * 26 -> 13 * 13\n",
    "        self.conv2 = nn.Conv2d(6, 16, 3) # 11 * 11 -> 5 * 5\n",
    "        self.fc1 = nn.Linear(16 * 5 * 5, 120)\n",
    "        self.fc2 = nn.Linear(120, 84)\n",
    "        self.fc3 = nn.Linear(84, 10)\n",
    "        \n",
    "    def forward(self, x):\n",
    "        x = F.max_pool2d(F.relu(self.conv1(x)), (2, 2))\n",
    "        x = F.max_pool2d(F.relu(self.conv2(x)), 2)\n",
    "        x = x.view(-1, self.num_flat_features(x))\n",
    "        x = F.relu(self.fc1(x))\n",
    "        x = F.relu(self.fc2(x))\n",
    "        x = self.fc3(x)\n",
    "        \n",
    "        return x\n",
    "    \n",
    "    def num_flat_features(self, x):\n",
    "        size = x.size()[1:]\n",
    "        num_features = 1\n",
    "        for s in size:\n",
    "            num_features *= s\n",
    "            \n",
    "        return num_features\n",
    "    \n",
    "net = Net()\n",
    "print(net)"
   ]
  },
  {
   "cell_type": "markdown",
   "id": "95057d17",
   "metadata": {},
   "source": [
    "- `parameters()`"
   ]
  },
  {
   "cell_type": "code",
   "execution_count": 44,
   "id": "bd732d62",
   "metadata": {},
   "outputs": [
    {
     "name": "stdout",
     "output_type": "stream",
     "text": [
      "10\n",
      "torch.Size([6, 1, 3, 3])\n"
     ]
    }
   ],
   "source": [
    "params = list(net.parameters())\n",
    "print(len(params))\n",
    "print(params[0].size())"
   ]
  },
  {
   "cell_type": "markdown",
   "id": "9376e7a6",
   "metadata": {},
   "source": [
    "임의의 값을 넣어 forward값 확인"
   ]
  },
  {
   "cell_type": "code",
   "execution_count": 45,
   "id": "ff8acebd",
   "metadata": {},
   "outputs": [
    {
     "name": "stdout",
     "output_type": "stream",
     "text": [
      "tensor([[ 0.0382,  0.0140,  0.0064,  0.0029, -0.1189,  0.0945, -0.1197,  0.1197,\n",
      "          0.1024, -0.0254]], grad_fn=<AddmmBackward0>)\n"
     ]
    }
   ],
   "source": [
    "input = torch.randn(1, 1, 28, 28)\n",
    "out = net(input)\n",
    "print(out)"
   ]
  },
  {
   "cell_type": "code",
   "execution_count": 46,
   "id": "8e14f454",
   "metadata": {},
   "outputs": [],
   "source": [
    "criterion = nn.CrossEntropyLoss()\n",
    "optimizer = optim.SGD(net.parameters(), lr=0.001, momentum=0.9)"
   ]
  },
  {
   "cell_type": "markdown",
   "id": "b8677038",
   "metadata": {},
   "source": [
    "##### 모델 학습\n",
    "- `optimer.zero_grad` : 가중치의 그래티언트 초기화\n",
    "- loss 계산\n",
    "- loss.backward()\n",
    "- optimizer.step() : 업데이트"
   ]
  },
  {
   "cell_type": "markdown",
   "id": "1c5b00ec",
   "metadata": {},
   "source": [
    "- 배치 수 확인"
   ]
  },
  {
   "cell_type": "code",
   "execution_count": 47,
   "id": "aa02354d",
   "metadata": {},
   "outputs": [
    {
     "name": "stdout",
     "output_type": "stream",
     "text": [
      "469\n"
     ]
    }
   ],
   "source": [
    "total_batch = len(train_loader)\n",
    "print(total_batch)"
   ]
  },
  {
   "cell_type": "markdown",
   "id": "70fddb4f",
   "metadata": {},
   "source": [
    "- 설명을 위해 `epoch=2`로 지정"
   ]
  },
  {
   "cell_type": "code",
   "execution_count": 48,
   "id": "d8c86a63",
   "metadata": {},
   "outputs": [
    {
     "name": "stdout",
     "output_type": "stream",
     "text": [
      "Epoch: 1, Iter: 100, Loss: 0.01800626153126359\n",
      "Epoch: 1, Iter: 200, Loss: 0.017966814097017048\n",
      "Epoch: 1, Iter: 300, Loss: 0.017936429493129253\n",
      "Epoch: 1, Iter: 400, Loss: 0.01789722254499793\n",
      "Epoch: 2, Iter: 100, Loss: 0.017800715658813714\n",
      "Epoch: 2, Iter: 200, Loss: 0.017701205164194107\n",
      "Epoch: 2, Iter: 300, Loss: 0.017540550101548435\n",
      "Epoch: 2, Iter: 400, Loss: 0.017172845248132944\n"
     ]
    }
   ],
   "source": [
    "# for epoch in range(2):\n",
    "#     running_loss = 0.0\n",
    "#     for i, data in enumerate(train_loader, 0):\n",
    "#         inputs, labels = data\n",
    "        \n",
    "#         optimizer.zero_grad()\n",
    "        \n",
    "#         outputs = net(inputs)\n",
    "#         loss = criterion(outputs, labels)\n",
    "#         loss.backward()\n",
    "#         optimizer.step()\n",
    "        \n",
    "#         running_loss += loss.item()\n",
    "#         if i % 100 == 99:\n",
    "#             avg_loss = running_loss / (100 * 128)\n",
    "#             print(f\"Epoch: {epoch+1}, Iter: {i+1}, Loss: {avg_loss}\")\n",
    "#             running_loss = 0.0"
   ]
  },
  {
   "cell_type": "markdown",
   "id": "7f7b0f05",
   "metadata": {},
   "source": [
    "##### 모델의 저장 및 로드\n",
    "- `torch.save`\n",
    "    - `net.state_dict()`를 저장\n",
    "- `torch.load`\n",
    "    - `load_state_dict`로 모델을 로드"
   ]
  },
  {
   "cell_type": "code",
   "execution_count": 49,
   "id": "444a39ec",
   "metadata": {},
   "outputs": [],
   "source": [
    "PATH = './mnist_net.pth'\n",
    "torch.save(net.state_dict(), PATH)"
   ]
  },
  {
   "cell_type": "code",
   "execution_count": 50,
   "id": "06172505",
   "metadata": {},
   "outputs": [
    {
     "data": {
      "text/plain": [
       "<All keys matched successfully>"
      ]
     },
     "execution_count": 50,
     "metadata": {},
     "output_type": "execute_result"
    }
   ],
   "source": [
    "net = Net()\n",
    "net.load_state_dict(torch.load(PATH))"
   ]
  },
  {
   "cell_type": "code",
   "execution_count": 51,
   "id": "f6a8f164",
   "metadata": {},
   "outputs": [
    {
     "data": {
      "text/plain": [
       "<bound method Module.parameters of Net(\n",
       "  (conv1): Conv2d(1, 6, kernel_size=(3, 3), stride=(1, 1))\n",
       "  (conv2): Conv2d(6, 16, kernel_size=(3, 3), stride=(1, 1))\n",
       "  (fc1): Linear(in_features=400, out_features=120, bias=True)\n",
       "  (fc2): Linear(in_features=120, out_features=84, bias=True)\n",
       "  (fc3): Linear(in_features=84, out_features=10, bias=True)\n",
       ")>"
      ]
     },
     "execution_count": 51,
     "metadata": {},
     "output_type": "execute_result"
    }
   ],
   "source": [
    "net.parameters"
   ]
  },
  {
   "cell_type": "markdown",
   "id": "bed1015b",
   "metadata": {},
   "source": [
    "##### 모델 테스트"
   ]
  },
  {
   "cell_type": "code",
   "execution_count": 52,
   "id": "50f14fbe",
   "metadata": {},
   "outputs": [
    {
     "data": {
      "image/png": "[encoded data removed]",
      "text/plain": [
       "<Figure size 1000x500 with 1 Axes>"
      ]
     },
     "metadata": {},
     "output_type": "display_data"
    }
   ],
   "source": [
    "dataiter = iter(test_loader)\n",
    "images, labels = next(dataiter)\n",
    "\n",
    "imshow(torchvision.utils.make_grid(images[:4]))"
   ]
  },
  {
   "cell_type": "code",
   "execution_count": 53,
   "id": "fa1e3428",
   "metadata": {},
   "outputs": [],
   "source": [
    "outputs = net(images)"
   ]
  },
  {
   "cell_type": "code",
   "execution_count": 54,
   "id": "d97aec02",
   "metadata": {},
   "outputs": [
    {
     "data": {
      "text/plain": [
       "tensor([7, 2, 1, 0, 4, 1, 4, 9, 5, 9, 0, 6, 9, 0, 1, 5, 9, 7, 3, 4, 9, 6, 6, 5,\n",
       "        4, 0, 7, 4, 0, 1, 3, 1, 3, 4, 7, 2, 7, 1, 2, 1, 1, 7, 4, 2, 3, 5, 1, 2,\n",
       "        4, 4, 6, 3, 5, 5, 6, 0, 4, 1, 9, 5, 7, 8, 9, 3, 7, 4, 6, 4, 3, 0, 7, 0,\n",
       "        2, 9, 1, 7, 3, 2, 9, 7, 7, 6, 2, 7, 8, 4, 7, 3, 6, 1, 3, 6, 9, 3, 1, 4,\n",
       "        1, 7, 6, 9, 6, 0, 5, 4, 9, 9, 2, 1, 9, 4, 8, 7, 3, 9, 7, 4, 4, 4, 9, 2,\n",
       "        5, 4, 7, 6, 7, 9, 0, 5])"
      ]
     },
     "execution_count": 54,
     "metadata": {},
     "output_type": "execute_result"
    }
   ],
   "source": [
    "labels"
   ]
  },
  {
   "cell_type": "code",
   "execution_count": 55,
   "id": "5e59d8cf",
   "metadata": {},
   "outputs": [
    {
     "name": "stdout",
     "output_type": "stream",
     "text": [
      "tensor([[-2.8252e-01,  2.5231e-01, -2.3220e-01,  ...,  4.6191e-01,\n",
      "         -3.8197e-01,  2.5922e-01],\n",
      "        [ 1.5934e-01,  3.0761e-02,  3.0118e-01,  ..., -3.9902e-01,\n",
      "          2.4473e-01, -3.8035e-01],\n",
      "        [-4.9620e-01,  7.0726e-01, -2.2509e-02,  ...,  2.7191e-01,\n",
      "         -2.7436e-01,  7.6596e-02],\n",
      "        ...,\n",
      "        [-3.7682e-01,  2.7048e-01, -1.0374e-01,  ...,  2.8892e-01,\n",
      "         -3.3087e-01,  2.1775e-01],\n",
      "        [ 1.7100e-01,  4.4583e-04,  1.4227e-01,  ..., -5.9006e-02,\n",
      "         -3.1767e-02, -2.2393e-01],\n",
      "        [-1.1313e-01,  1.3992e-01, -2.4629e-01,  ...,  1.9310e-01,\n",
      "         -1.6996e-01,  1.3916e-01]])\n",
      "\n",
      "tensor([-0.2825,  0.2523, -0.2322, -0.1059,  0.1508, -0.2210, -0.1422,  0.4619,\n",
      "        -0.3820,  0.2592], grad_fn=<SelectBackward0>)\n",
      "\n",
      "torch.return_types.max(\n",
      "values=tensor([0.4619, 0.4735, 0.7073], grad_fn=<MaxBackward0>),\n",
      "indices=tensor([7, 3, 1]))\n",
      "\n",
      "tensor([0.4619, 0.4735, 0.7073], grad_fn=<MaxBackward0>)\n",
      "tensor([7, 3, 1])\n"
     ]
    }
   ],
   "source": [
    "print(outputs.data)\n",
    "print()\n",
    "print(outputs[0])\n",
    "print()\n",
    "a, b = torch.max(outputs[:3], dim=1)\n",
    "print(torch.max(outputs[:3], dim=1))\n",
    "print()\n",
    "print(a)\n",
    "print(b)"
   ]
  },
  {
   "cell_type": "code",
   "execution_count": 56,
   "id": "44f2d270",
   "metadata": {},
   "outputs": [
    {
     "name": "stdout",
     "output_type": "stream",
     "text": [
      "tensor([7, 3, 1, 0, 7, 1, 7, 7, 6, 7, 3, 3, 7, 3, 1, 3, 7, 7, 3, 7, 7, 3, 1, 1,\n",
      "        7, 0, 7, 7, 3, 1, 3, 1, 3, 6, 1, 3, 7, 1, 3, 1, 1, 7, 7, 1, 1, 3, 1, 1,\n",
      "        9, 7, 6, 3, 7, 3, 1, 3, 7, 1, 7, 1, 7, 8, 1, 1, 7, 1, 7, 7, 3, 0, 7, 0,\n",
      "        3, 1, 1, 7, 3, 7, 1, 7, 7, 6, 2, 7, 7, 9, 7, 3, 7, 1, 3, 1, 1, 3, 1, 7,\n",
      "        1, 1, 6, 7, 1, 0, 7, 4, 7, 7, 3, 1, 7, 7, 3, 1, 1, 7, 1, 1, 7, 7, 7, 7,\n",
      "        3, 7, 7, 6, 7, 7, 3, 7])\n"
     ]
    }
   ],
   "source": [
    "_, predicted = torch.max(outputs, dim=1)\n",
    "print(predicted)"
   ]
  },
  {
   "cell_type": "code",
   "execution_count": 57,
   "id": "2320a16b",
   "metadata": {},
   "outputs": [
    {
     "name": "stdout",
     "output_type": "stream",
     "text": [
      "7\t3\t1\t0\t\n"
     ]
    }
   ],
   "source": [
    "print(''.join(f'{predicted[j].numpy()}\\t' for j in range(4)))"
   ]
  },
  {
   "cell_type": "code",
   "execution_count": 58,
   "id": "34bb04d9",
   "metadata": {},
   "outputs": [
    {
     "name": "stdout",
     "output_type": "stream",
     "text": [
      "43.01\n"
     ]
    }
   ],
   "source": [
    "correct = 0\n",
    "total = 0\n",
    "total = len(test_loader.dataset)\n",
    "\n",
    "with torch.no_grad():\n",
    "    for data in test_loader:\n",
    "        images, labels = data\n",
    "        outputs = net(images)\n",
    "        _, predicted = torch.max(outputs.data, 1)\n",
    "        # print(labels.size(0))\n",
    "        # total += labels.size(0)\n",
    "        correct += (predicted == labels).sum().item()\n",
    "        \n",
    "print(100 * correct / total)"
   ]
  },
  {
   "cell_type": "markdown",
   "id": "0ed5846b",
   "metadata": {},
   "source": [
    "##### GPU 설정 후 학습\n",
    "- 설정 후, 모델과 데이터에 `to`로 GPU를 사용 가능한 혀태로 변환 해줘야 한다.\n",
    "- `.cuda()`로도 가능"
   ]
  },
  {
   "cell_type": "code",
   "execution_count": 59,
   "id": "2ccbcd4c",
   "metadata": {},
   "outputs": [],
   "source": [
    "import torch\n",
    "import torch.nn as nn\n",
    "import torch.nn.functional as F\n",
    "import torch.optim as optim\n",
    "from torch.utils.data import Dataset, DataLoader\n",
    "\n",
    "import torchvision\n",
    "import torchvision.datasets\n",
    "import torchvision.transforms as transforms\n",
    "\n",
    "import numpy as np\n",
    "import matplotlib.pyplot as plt\n",
    "plt.style.use('seaborn-v0_8-white')"
   ]
  },
  {
   "cell_type": "markdown",
   "id": "e9838dba",
   "metadata": {},
   "source": [
    "- 현재 GPU 설정"
   ]
  },
  {
   "cell_type": "code",
   "execution_count": 60,
   "id": "90d70929",
   "metadata": {},
   "outputs": [
    {
     "data": {
      "text/plain": [
       "True"
      ]
     },
     "execution_count": 60,
     "metadata": {},
     "output_type": "execute_result"
    }
   ],
   "source": [
    "torch.cuda.is_available()"
   ]
  },
  {
   "cell_type": "code",
   "execution_count": 61,
   "id": "6c5542bb",
   "metadata": {},
   "outputs": [
    {
     "data": {
      "text/plain": [
       "device(type='cuda')"
      ]
     },
     "execution_count": 61,
     "metadata": {},
     "output_type": "execute_result"
    }
   ],
   "source": [
    "device = torch.device('cuda' if torch.cuda.is_available() else 'cpu')\n",
    "device"
   ]
  },
  {
   "cell_type": "markdown",
   "id": "c73a7b54",
   "metadata": {},
   "source": [
    "- 데이터 로드"
   ]
  },
  {
   "cell_type": "code",
   "execution_count": 62,
   "id": "266d5096",
   "metadata": {},
   "outputs": [],
   "source": [
    "transform = transforms.Compose([\n",
    "    transforms.ToTensor(),\n",
    "    transforms.Normalize((0.5, ), (0.5, ))\n",
    "])"
   ]
  },
  {
   "cell_type": "code",
   "execution_count": 63,
   "id": "e08416aa",
   "metadata": {},
   "outputs": [],
   "source": [
    "trainset = torchvision.datasets.MNIST(root='./data',\n",
    "                                      train=True,\n",
    "                                      download=True,\n",
    "                                      transform=transform)\n",
    "\n",
    "testset = torchvision.datasets.MNIST(root='./data',\n",
    "                                      train=False,\n",
    "                                      download=True,\n",
    "                                      transform=transform)"
   ]
  },
  {
   "cell_type": "code",
   "execution_count": 64,
   "id": "373c09ab",
   "metadata": {},
   "outputs": [],
   "source": [
    "train_loader = DataLoader(trainset,\n",
    "                          batch_size=128,\n",
    "                          shuffle=True,\n",
    "                          num_workers=2)\n",
    "\n",
    "test_loader = DataLoader(testset,\n",
    "                          batch_size=128,\n",
    "                          shuffle=False,\n",
    "                          num_workers=2)"
   ]
  },
  {
   "cell_type": "markdown",
   "id": "b12d2dd3",
   "metadata": {},
   "source": [
    "- 모델 생성"
   ]
  },
  {
   "cell_type": "code",
   "execution_count": 65,
   "id": "f89f7e34",
   "metadata": {},
   "outputs": [
    {
     "name": "stdout",
     "output_type": "stream",
     "text": [
      "Net(\n",
      "  (conv1): Conv2d(1, 6, kernel_size=(3, 3), stride=(1, 1))\n",
      "  (conv2): Conv2d(6, 16, kernel_size=(3, 3), stride=(1, 1))\n",
      "  (fc1): Linear(in_features=400, out_features=120, bias=True)\n",
      "  (fc2): Linear(in_features=120, out_features=84, bias=True)\n",
      "  (fc3): Linear(in_features=84, out_features=10, bias=True)\n",
      ")\n"
     ]
    }
   ],
   "source": [
    "class Net(nn.Module):\n",
    "    \n",
    "    def __init__(self):\n",
    "        super(Net, self).__init__()\n",
    "        \n",
    "        # image = H, W, C (H : Hight, W : Width, C : Channel)\n",
    "        # image shape = 28 * 28 * 1\n",
    "        self.conv1 = nn.Conv2d(1, 6, 3) # 26 * 26 -> 13 * 13\n",
    "        self.conv2 = nn.Conv2d(6, 16, 3) # 11 * 11 -> 5 * 5\n",
    "        self.fc1 = nn.Linear(16 * 5 * 5, 120)\n",
    "        self.fc2 = nn.Linear(120, 84)\n",
    "        self.fc3 = nn.Linear(84, 10)\n",
    "        \n",
    "    def forward(self, x):\n",
    "        x = F.max_pool2d(F.relu(self.conv1(x)), (2, 2))\n",
    "        x = F.max_pool2d(F.relu(self.conv2(x)), 2)\n",
    "        x = x.view(-1, self.num_flat_features(x))\n",
    "        x = F.relu(self.fc1(x))\n",
    "        x = F.relu(self.fc2(x))\n",
    "        x = self.fc3(x)\n",
    "        \n",
    "        return x\n",
    "    \n",
    "    def num_flat_features(self, x):\n",
    "        size = x.size()[1:]\n",
    "        num_features = 1\n",
    "        for s in size:\n",
    "            num_features *= s\n",
    "            \n",
    "        return num_features\n",
    "    \n",
    "net = Net()\n",
    "print(net)"
   ]
  },
  {
   "cell_type": "code",
   "execution_count": 66,
   "id": "861000d8",
   "metadata": {},
   "outputs": [
    {
     "name": "stdout",
     "output_type": "stream",
     "text": [
      "----------------------------------------------------------------\n",
      "        Layer (type)               Output Shape         Param #\n",
      "================================================================\n",
      "            Conv2d-1            [-1, 6, 26, 26]              60\n",
      "            Conv2d-2           [-1, 16, 11, 11]             880\n",
      "            Linear-3                  [-1, 120]          48,120\n",
      "            Linear-4                   [-1, 84]          10,164\n",
      "            Linear-5                   [-1, 10]             850\n",
      "================================================================\n",
      "Total params: 60,074\n",
      "Trainable params: 60,074\n",
      "Non-trainable params: 0\n",
      "----------------------------------------------------------------\n",
      "Input size (MB): 0.00\n",
      "Forward/backward pass size (MB): 0.05\n",
      "Params size (MB): 0.23\n",
      "Estimated Total Size (MB): 0.28\n",
      "----------------------------------------------------------------\n"
     ]
    }
   ],
   "source": [
    "from torchsummary import summary\n",
    "\n",
    "net = Net().to(device)\n",
    "summary(net, (1, 28, 28))"
   ]
  },
  {
   "cell_type": "code",
   "execution_count": 67,
   "id": "09938157",
   "metadata": {},
   "outputs": [],
   "source": [
    "criterion = nn.CrossEntropyLoss()\n",
    "optimizer = optim.SGD(net.parameters(), lr=0.001, momentum=0.9)"
   ]
  },
  {
   "cell_type": "code",
   "execution_count": 68,
   "id": "e81d2b1f",
   "metadata": {},
   "outputs": [
    {
     "name": "stdout",
     "output_type": "stream",
     "text": [
      "Epoch: 1, Iter: 100, Loss: 0.01799313450232148\n",
      "Epoch: 1, Iter: 200, Loss: 0.017931359745562078\n",
      "Epoch: 1, Iter: 300, Loss: 0.01785078626126051\n",
      "Epoch: 1, Iter: 400, Loss: 0.017726589646190404\n",
      "Epoch: 2, Iter: 100, Loss: 0.017287509366869926\n",
      "Epoch: 2, Iter: 200, Loss: 0.016505905454978348\n",
      "Epoch: 2, Iter: 300, Loss: 0.014247912252321838\n",
      "Epoch: 2, Iter: 400, Loss: 0.00938927116803825\n",
      "Epoch: 3, Iter: 100, Loss: 0.004274890660308301\n",
      "Epoch: 3, Iter: 200, Loss: 0.0034847347252070903\n",
      "Epoch: 3, Iter: 300, Loss: 0.002961928655859083\n",
      "Epoch: 3, Iter: 400, Loss: 0.002570789953460917\n",
      "Epoch: 4, Iter: 100, Loss: 0.002359306865837425\n",
      "Epoch: 4, Iter: 200, Loss: 0.002037226550746709\n",
      "Epoch: 4, Iter: 300, Loss: 0.001944543969584629\n",
      "Epoch: 4, Iter: 400, Loss: 0.0018920912087196484\n",
      "Epoch: 5, Iter: 100, Loss: 0.0016716499062022195\n",
      "Epoch: 5, Iter: 200, Loss: 0.0016673927981173619\n",
      "Epoch: 5, Iter: 300, Loss: 0.0015186375874327496\n",
      "Epoch: 5, Iter: 400, Loss: 0.0014853904285700992\n",
      "Epoch: 6, Iter: 100, Loss: 0.0013632944732671604\n",
      "Epoch: 6, Iter: 200, Loss: 0.0013022059731883928\n",
      "Epoch: 6, Iter: 300, Loss: 0.001338584093900863\n",
      "Epoch: 6, Iter: 400, Loss: 0.001229692257475108\n",
      "Epoch: 7, Iter: 100, Loss: 0.0011403498321305961\n",
      "Epoch: 7, Iter: 200, Loss: 0.001186378280981444\n",
      "Epoch: 7, Iter: 300, Loss: 0.0011097426115884445\n",
      "Epoch: 7, Iter: 400, Loss: 0.0010474819102091716\n",
      "Epoch: 8, Iter: 100, Loss: 0.0010120919600012713\n",
      "Epoch: 8, Iter: 200, Loss: 0.0010174734704196454\n",
      "Epoch: 8, Iter: 300, Loss: 0.0009641932952217758\n",
      "Epoch: 8, Iter: 400, Loss: 0.0010070813912898301\n",
      "Epoch: 9, Iter: 100, Loss: 0.0009454003776772879\n",
      "Epoch: 9, Iter: 200, Loss: 0.0009232207882450893\n",
      "Epoch: 9, Iter: 300, Loss: 0.0008798298102919944\n",
      "Epoch: 9, Iter: 400, Loss: 0.0008623522508423775\n",
      "Epoch: 10, Iter: 100, Loss: 0.0008119019518198911\n",
      "Epoch: 10, Iter: 200, Loss: 0.0008739608616451733\n",
      "Epoch: 10, Iter: 300, Loss: 0.0008461785470717586\n",
      "Epoch: 10, Iter: 400, Loss: 0.0007761119559290819\n",
      "Epoch: 11, Iter: 100, Loss: 0.0008019223672454246\n",
      "Epoch: 11, Iter: 200, Loss: 0.0007970616218517534\n",
      "Epoch: 11, Iter: 300, Loss: 0.0007348511254531331\n",
      "Epoch: 11, Iter: 400, Loss: 0.000745072271238314\n",
      "Epoch: 12, Iter: 100, Loss: 0.0007469987955118995\n",
      "Epoch: 12, Iter: 200, Loss: 0.0007161694568640087\n",
      "Epoch: 12, Iter: 300, Loss: 0.0007321006085840054\n",
      "Epoch: 12, Iter: 400, Loss: 0.0007081912444846239\n",
      "Epoch: 13, Iter: 100, Loss: 0.0006784666077874136\n",
      "Epoch: 13, Iter: 200, Loss: 0.0006579724006587639\n",
      "Epoch: 13, Iter: 300, Loss: 0.000664883569261292\n",
      "Epoch: 13, Iter: 400, Loss: 0.000741531210951507\n",
      "Epoch: 14, Iter: 100, Loss: 0.0006697222343063913\n",
      "Epoch: 14, Iter: 200, Loss: 0.0006305999410687945\n",
      "Epoch: 14, Iter: 300, Loss: 0.0006329023085709195\n",
      "Epoch: 14, Iter: 400, Loss: 0.0006150545524724293\n",
      "Epoch: 15, Iter: 100, Loss: 0.0006027860817266628\n",
      "Epoch: 15, Iter: 200, Loss: 0.0006355516004259698\n",
      "Epoch: 15, Iter: 300, Loss: 0.0005735709367581876\n",
      "Epoch: 15, Iter: 400, Loss: 0.0006361725179885979\n",
      "Epoch: 16, Iter: 100, Loss: 0.0005762767214037012\n",
      "Epoch: 16, Iter: 200, Loss: 0.0005877018974570091\n",
      "Epoch: 16, Iter: 300, Loss: 0.0006176479635905708\n",
      "Epoch: 16, Iter: 400, Loss: 0.000563593078404665\n",
      "Epoch: 17, Iter: 100, Loss: 0.0005688344011286973\n",
      "Epoch: 17, Iter: 200, Loss: 0.0005794937604514417\n",
      "Epoch: 17, Iter: 300, Loss: 0.0005660056497436017\n",
      "Epoch: 17, Iter: 400, Loss: 0.0005378680352441734\n",
      "Epoch: 18, Iter: 100, Loss: 0.0005607550635613734\n",
      "Epoch: 18, Iter: 200, Loss: 0.0005659554434532765\n",
      "Epoch: 18, Iter: 300, Loss: 0.0004960308006411651\n",
      "Epoch: 18, Iter: 400, Loss: 0.0004906962446693797\n",
      "Epoch: 19, Iter: 100, Loss: 0.0005097567167831585\n",
      "Epoch: 19, Iter: 200, Loss: 0.0005296493908099365\n",
      "Epoch: 19, Iter: 300, Loss: 0.0004995410687115509\n",
      "Epoch: 19, Iter: 400, Loss: 0.00044286374366492965\n",
      "Epoch: 20, Iter: 100, Loss: 0.00043520971019461285\n",
      "Epoch: 20, Iter: 200, Loss: 0.0005185632914799499\n",
      "Epoch: 20, Iter: 300, Loss: 0.0005282141144198249\n",
      "Epoch: 20, Iter: 400, Loss: 0.00048364831309299916\n",
      "Epoch: 21, Iter: 100, Loss: 0.0005280405253870413\n",
      "Epoch: 21, Iter: 200, Loss: 0.00044625085050938653\n",
      "Epoch: 21, Iter: 300, Loss: 0.00044748104686732405\n",
      "Epoch: 21, Iter: 400, Loss: 0.00046770885011937935\n",
      "Epoch: 22, Iter: 100, Loss: 0.0004354915884323418\n",
      "Epoch: 22, Iter: 200, Loss: 0.0004262341195862973\n",
      "Epoch: 22, Iter: 300, Loss: 0.00045120488546672276\n",
      "Epoch: 22, Iter: 400, Loss: 0.0004861737237297348\n",
      "Epoch: 23, Iter: 100, Loss: 0.0004597124975407496\n",
      "Epoch: 23, Iter: 200, Loss: 0.0004541467894159723\n",
      "Epoch: 23, Iter: 300, Loss: 0.0003882329292900977\n",
      "Epoch: 23, Iter: 400, Loss: 0.0004093662585000857\n",
      "Epoch: 24, Iter: 100, Loss: 0.00043742226713220587\n",
      "Epoch: 24, Iter: 200, Loss: 0.0003903450145298848\n",
      "Epoch: 24, Iter: 300, Loss: 0.00040660802565980705\n",
      "Epoch: 24, Iter: 400, Loss: 0.00045426540767948606\n",
      "Epoch: 25, Iter: 100, Loss: 0.00042204869700071865\n",
      "Epoch: 25, Iter: 200, Loss: 0.00040480655421561097\n",
      "Epoch: 25, Iter: 300, Loss: 0.0003991284396033734\n",
      "Epoch: 25, Iter: 400, Loss: 0.00043279735451505984\n",
      "Epoch: 26, Iter: 100, Loss: 0.0004115694636129774\n",
      "Epoch: 26, Iter: 200, Loss: 0.0003719881978759076\n",
      "Epoch: 26, Iter: 300, Loss: 0.0004093129800821771\n",
      "Epoch: 26, Iter: 400, Loss: 0.00036876839290926\n",
      "Epoch: 27, Iter: 100, Loss: 0.00038292488192382735\n",
      "Epoch: 27, Iter: 200, Loss: 0.00039845198203693145\n",
      "Epoch: 27, Iter: 300, Loss: 0.00039515290372946763\n",
      "Epoch: 27, Iter: 400, Loss: 0.0003491483940888429\n",
      "Epoch: 28, Iter: 100, Loss: 0.00035482611532643203\n",
      "Epoch: 28, Iter: 200, Loss: 0.00033579713992367034\n",
      "Epoch: 28, Iter: 300, Loss: 0.0003956537596968701\n",
      "Epoch: 28, Iter: 400, Loss: 0.0003792375940247439\n",
      "Epoch: 29, Iter: 100, Loss: 0.00033168797057442134\n",
      "Epoch: 29, Iter: 200, Loss: 0.0003655061171230045\n",
      "Epoch: 29, Iter: 300, Loss: 0.00035760537874011787\n",
      "Epoch: 29, Iter: 400, Loss: 0.00036003471737785733\n",
      "Epoch: 30, Iter: 100, Loss: 0.00039263753315026405\n",
      "Epoch: 30, Iter: 200, Loss: 0.0003320097202231409\n",
      "Epoch: 30, Iter: 300, Loss: 0.00033860877691040516\n",
      "Epoch: 30, Iter: 400, Loss: 0.0003556523304359871\n",
      "Epoch: 31, Iter: 100, Loss: 0.0003540245945259812\n",
      "Epoch: 31, Iter: 200, Loss: 0.0003260596067775623\n",
      "Epoch: 31, Iter: 300, Loss: 0.0003706268184032524\n",
      "Epoch: 31, Iter: 400, Loss: 0.0003115409943711711\n",
      "Epoch: 32, Iter: 100, Loss: 0.000293201716740441\n",
      "Epoch: 32, Iter: 200, Loss: 0.0003508086934016319\n",
      "Epoch: 32, Iter: 300, Loss: 0.00034759927635604984\n",
      "Epoch: 32, Iter: 400, Loss: 0.0003152101005980512\n",
      "Epoch: 33, Iter: 100, Loss: 0.0003527975740871625\n",
      "Epoch: 33, Iter: 200, Loss: 0.0003014938241904019\n",
      "Epoch: 33, Iter: 300, Loss: 0.0002994970789950457\n",
      "Epoch: 33, Iter: 400, Loss: 0.0003457312637328869\n",
      "Epoch: 34, Iter: 100, Loss: 0.0003154441705555655\n",
      "Epoch: 34, Iter: 200, Loss: 0.0003224240411509527\n",
      "Epoch: 34, Iter: 300, Loss: 0.00030361490755240086\n",
      "Epoch: 34, Iter: 400, Loss: 0.000329154510400258\n",
      "Epoch: 35, Iter: 100, Loss: 0.0002914268496169825\n",
      "Epoch: 35, Iter: 200, Loss: 0.0003181973722530529\n",
      "Epoch: 35, Iter: 300, Loss: 0.00033457778892625355\n",
      "Epoch: 35, Iter: 400, Loss: 0.0003053316186560551\n",
      "Epoch: 36, Iter: 100, Loss: 0.00025861208679998525\n",
      "Epoch: 36, Iter: 200, Loss: 0.0003173105624227901\n",
      "Epoch: 36, Iter: 300, Loss: 0.00032406139383965636\n",
      "Epoch: 36, Iter: 400, Loss: 0.00031950951164617437\n",
      "Epoch: 37, Iter: 100, Loss: 0.0002707927605115401\n",
      "Epoch: 37, Iter: 200, Loss: 0.0002847801499228808\n",
      "Epoch: 37, Iter: 300, Loss: 0.00029617532214615494\n",
      "Epoch: 37, Iter: 400, Loss: 0.000278867704764707\n",
      "Epoch: 38, Iter: 100, Loss: 0.00029004324600464317\n",
      "Epoch: 38, Iter: 200, Loss: 0.00028068856468962624\n",
      "Epoch: 38, Iter: 300, Loss: 0.0002960071049892576\n",
      "Epoch: 38, Iter: 400, Loss: 0.0002799833450990263\n",
      "Epoch: 39, Iter: 100, Loss: 0.0002806288803549251\n",
      "Epoch: 39, Iter: 200, Loss: 0.0002871928234526422\n",
      "Epoch: 39, Iter: 300, Loss: 0.00027474882954265923\n",
      "Epoch: 39, Iter: 400, Loss: 0.0002803099306038348\n",
      "Epoch: 40, Iter: 100, Loss: 0.00028912189198308623\n",
      "Epoch: 40, Iter: 200, Loss: 0.0002564240305946441\n",
      "Epoch: 40, Iter: 300, Loss: 0.0002741277581662871\n",
      "Epoch: 40, Iter: 400, Loss: 0.00026056893379063697\n",
      "Epoch: 41, Iter: 100, Loss: 0.00026726522763055984\n",
      "Epoch: 41, Iter: 200, Loss: 0.00025729663080710453\n",
      "Epoch: 41, Iter: 300, Loss: 0.00027273251045698997\n",
      "Epoch: 41, Iter: 400, Loss: 0.0002203301879853825\n",
      "Epoch: 42, Iter: 100, Loss: 0.0002337679600896081\n",
      "Epoch: 42, Iter: 200, Loss: 0.0002647536975746334\n",
      "Epoch: 42, Iter: 300, Loss: 0.0002670039868098684\n",
      "Epoch: 42, Iter: 400, Loss: 0.00022853794907859993\n",
      "Epoch: 43, Iter: 100, Loss: 0.0002244260909901641\n",
      "Epoch: 43, Iter: 200, Loss: 0.00023983990071428706\n",
      "Epoch: 43, Iter: 300, Loss: 0.000280545794776117\n",
      "Epoch: 43, Iter: 400, Loss: 0.000243887304677628\n",
      "Epoch: 44, Iter: 100, Loss: 0.000221337470884464\n",
      "Epoch: 44, Iter: 200, Loss: 0.0002411375530755322\n",
      "Epoch: 44, Iter: 300, Loss: 0.00024337656283023533\n",
      "Epoch: 44, Iter: 400, Loss: 0.00024911253678510547\n",
      "Epoch: 45, Iter: 100, Loss: 0.0002156801033015654\n",
      "Epoch: 45, Iter: 200, Loss: 0.0002686885384537163\n",
      "Epoch: 45, Iter: 300, Loss: 0.00022095954827818786\n",
      "Epoch: 45, Iter: 400, Loss: 0.0002453226234683825\n",
      "Epoch: 46, Iter: 100, Loss: 0.00023541497306723614\n",
      "Epoch: 46, Iter: 200, Loss: 0.00021643425798174577\n",
      "Epoch: 46, Iter: 300, Loss: 0.0002419859665496915\n",
      "Epoch: 46, Iter: 400, Loss: 0.0002482646522912546\n",
      "Epoch: 47, Iter: 100, Loss: 0.00019787643388553987\n",
      "Epoch: 47, Iter: 200, Loss: 0.00024169554028048877\n",
      "Epoch: 47, Iter: 300, Loss: 0.00021714535294449887\n",
      "Epoch: 47, Iter: 400, Loss: 0.00023857805377701879\n",
      "Epoch: 48, Iter: 100, Loss: 0.00018838315469110967\n",
      "Epoch: 48, Iter: 200, Loss: 0.0002190096252161311\n",
      "Epoch: 48, Iter: 300, Loss: 0.00025504421108053066\n",
      "Epoch: 48, Iter: 400, Loss: 0.0002336263491815771\n",
      "Epoch: 49, Iter: 100, Loss: 0.0002209971009142464\n",
      "Epoch: 49, Iter: 200, Loss: 0.0002429114303049573\n",
      "Epoch: 49, Iter: 300, Loss: 0.00021241086898953653\n",
      "Epoch: 49, Iter: 400, Loss: 0.00021230718219158006\n",
      "Epoch: 50, Iter: 100, Loss: 0.0002083178563407273\n",
      "Epoch: 50, Iter: 200, Loss: 0.00020664686930103925\n",
      "Epoch: 50, Iter: 300, Loss: 0.00019476665452202723\n",
      "Epoch: 50, Iter: 400, Loss: 0.00021707724901716573\n"
     ]
    }
   ],
   "source": [
    "for epoch in range(50):\n",
    "    running_loss = 0.0\n",
    "    for i, data in enumerate(train_loader, 0):\n",
    "        inputs, labels = data[0].to(device), data[1].to(device)\n",
    "        \n",
    "        optimizer.zero_grad()\n",
    "        \n",
    "        outputs = net(inputs)\n",
    "        loss = criterion(outputs, labels)\n",
    "        loss.backward()\n",
    "        optimizer.step()\n",
    "        \n",
    "        running_loss += loss.item()\n",
    "        if i % 100 == 99:\n",
    "            avg_loss = running_loss / (100 * 128)\n",
    "            print(f\"Epoch: {epoch+1}, Iter: {i+1}, Loss: {avg_loss}\")\n",
    "            running_loss = 0.0"
   ]
  },
  {
   "cell_type": "code",
   "execution_count": 70,
   "id": "9da83bb3",
   "metadata": {},
   "outputs": [
    {
     "name": "stdout",
     "output_type": "stream",
     "text": [
      "98.86\n"
     ]
    }
   ],
   "source": [
    "correct = 0\n",
    "total = 0\n",
    "total = len(test_loader.dataset)\n",
    "\n",
    "with torch.no_grad():\n",
    "    for data in test_loader:\n",
    "        images, labels = data[0].to(device), data[1].to(device)\n",
    "        outputs = net(images)\n",
    "        _, predicted = torch.max(outputs.data, 1)\n",
    "        # print(labels.size(0))\n",
    "        # total += labels.size(0)\n",
    "        correct += (predicted == labels).sum().item()\n",
    "        \n",
    "print(100 * correct / total)"
   ]
  },
  {
   "cell_type": "code",
   "execution_count": null,
   "id": "0bc879ec",
   "metadata": {},
   "outputs": [],
   "source": []
  }
 ],
 "metadata": {
  "kernelspec": {
   "display_name": "Study",
   "language": "python",
   "name": "python3"
  },
  "language_info": {
   "codemirror_mode": {
    "name": "ipython",
    "version": 3
   },
   "file_extension": ".py",
   "mimetype": "text/x-python",
   "name": "python",
   "nbconvert_exporter": "python",
   "pygments_lexer": "ipython3",
   "version": "3.9.21"
  }
 },
 "nbformat": 4,
 "nbformat_minor": 5
}
