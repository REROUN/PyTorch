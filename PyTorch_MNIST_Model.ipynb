{
 "cells": [
  {
   "cell_type": "markdown",
   "id": "3edd25da",
   "metadata": {},
   "source": [
    "### 파이토치 MNIST 모델"
   ]
  },
  {
   "cell_type": "markdown",
   "id": "6e349e07",
   "metadata": {},
   "source": [
    "##### modules import"
   ]
  },
  {
   "cell_type": "code",
   "execution_count": 1,
   "id": "082c79eb",
   "metadata": {},
   "outputs": [],
   "source": [
    "import torch\n",
    "import torch.nn as nn\n",
    "import torch.nn.functional as F\n",
    "import torch.optim as optim\n",
    "from torch.utils.data import Dataset, DataLoader\n",
    "\n",
    "import torchvision\n",
    "import torchvision.datasets\n",
    "import torchvision.transforms as transforms\n",
    "\n",
    "import numpy as np\n",
    "import matplotlib.pyplot as plt\n",
    "plt.style.use('seaborn-v0_8-white')"
   ]
  },
  {
   "cell_type": "markdown",
   "id": "4976d6a0",
   "metadata": {},
   "source": [
    "##### 전처리 설정\n",
    "- `transform.Compose`"
   ]
  },
  {
   "cell_type": "code",
   "execution_count": 2,
   "id": "511099c4",
   "metadata": {},
   "outputs": [],
   "source": [
    "transform = transforms.Compose([\n",
    "    transforms.ToTensor(),\n",
    "    transforms.Normalize((0.5, ), (0.5, ))\n",
    "])"
   ]
  },
  {
   "cell_type": "markdown",
   "id": "a8a3387b",
   "metadata": {},
   "source": [
    "##### 데이터 로드 및 데이터 확인"
   ]
  },
  {
   "cell_type": "code",
   "execution_count": 3,
   "id": "4d37fb3e",
   "metadata": {},
   "outputs": [
    {
     "name": "stderr",
     "output_type": "stream",
     "text": [
      "100%|██████████| 9.91M/9.91M [00:03<00:00, 2.86MB/s]\n",
      "100%|██████████| 28.9k/28.9k [00:00<00:00, 143kB/s]\n",
      "100%|██████████| 1.65M/1.65M [00:01<00:00, 1.25MB/s]\n",
      "100%|██████████| 4.54k/4.54k [00:00<00:00, 2.08MB/s]\n"
     ]
    }
   ],
   "source": [
    "trainset = torchvision.datasets.MNIST(root='./data',\n",
    "                                      train=True,\n",
    "                                      download=True,\n",
    "                                      transform=transform)\n",
    "\n",
    "testset = torchvision.datasets.MNIST(root='./data',\n",
    "                                      train=False,\n",
    "                                      download=True,\n",
    "                                      transform=transform)"
   ]
  },
  {
   "cell_type": "code",
   "execution_count": 4,
   "id": "82e82956",
   "metadata": {},
   "outputs": [],
   "source": [
    "train_loader = DataLoader(trainset,\n",
    "                          batch_size=128,\n",
    "                          shuffle=True,\n",
    "                          num_workers=2)\n",
    "\n",
    "train_loader = DataLoader(testset,\n",
    "                          batch_size=128,\n",
    "                          shuffle=False,\n",
    "                          num_workers=2)"
   ]
  },
  {
   "cell_type": "code",
   "execution_count": 5,
   "id": "3f1ebe81",
   "metadata": {},
   "outputs": [],
   "source": [
    "image, label = next(iter(train_loader))"
   ]
  },
  {
   "cell_type": "code",
   "execution_count": 6,
   "id": "38f840bf",
   "metadata": {},
   "outputs": [
    {
     "data": {
      "text/plain": [
       "(torch.Size([128, 1, 28, 28]), torch.Size([128]))"
      ]
     },
     "execution_count": 6,
     "metadata": {},
     "output_type": "execute_result"
    }
   ],
   "source": [
    "image.shape, label.shape"
   ]
  },
  {
   "cell_type": "code",
   "execution_count": 11,
   "id": "7298b68f",
   "metadata": {},
   "outputs": [],
   "source": [
    "def imshow(img):\n",
    "    img = img / 2 + 0.5\n",
    "    npimg = img.numpy()\n",
    "    fig = plt.figure(figsize=(10, 5))\n",
    "    plt.imshow(np.transpose(npimg, (1, 2, 0)))\n",
    "    plt.show()"
   ]
  },
  {
   "cell_type": "code",
   "execution_count": 13,
   "id": "5493b7d8",
   "metadata": {},
   "outputs": [
    {
     "data": {
      "image/png": "[encoded data removed]",
      "text/plain": [
       "<Figure size 1000x500 with 1 Axes>"
      ]
     },
     "metadata": {},
     "output_type": "display_data"
    }
   ],
   "source": [
    "dataiter = iter(train_loader)\n",
    "images, labels = next(dataiter)\n",
    "imshow(torchvision.utils.make_grid(images[:4]))"
   ]
  },
  {
   "cell_type": "markdown",
   "id": "98821403",
   "metadata": {},
   "source": [
    "##### 신경망 구성"
   ]
  },
  {
   "cell_type": "code",
   "execution_count": 32,
   "id": "c1ad75ab",
   "metadata": {},
   "outputs": [
    {
     "name": "stdout",
     "output_type": "stream",
     "text": [
      "Net(\n",
      "  (conv1): Conv2d(1, 6, kernel_size=(3, 3), stride=(1, 1))\n",
      "  (conv2): Conv2d(6, 16, kernel_size=(3, 3), stride=(1, 1))\n",
      "  (fc1): Linear(in_features=400, out_features=120, bias=True)\n",
      "  (fc2): Linear(in_features=120, out_features=84, bias=True)\n",
      "  (fc3): Linear(in_features=84, out_features=10, bias=True)\n",
      ")\n"
     ]
    }
   ],
   "source": [
    "class Net(nn.Module):\n",
    "    \n",
    "    def __init__(self):\n",
    "        super(Net, self).__init__()\n",
    "        \n",
    "        # image = H, W, C (H : Hight, W : Width, C : Channel)\n",
    "        # image shape = 28 * 28 * 1\n",
    "        self.conv1 = nn.Conv2d(1, 6, 3) # 26 * 26 -> 13 * 13\n",
    "        self.conv2 = nn.Conv2d(6, 16, 3) # 11 * 11 -> 5 * 5\n",
    "        self.fc1 = nn.Linear(16 * 5 * 5, 120)\n",
    "        self.fc2 = nn.Linear(120, 84)\n",
    "        self.fc3 = nn.Linear(84, 10)\n",
    "        \n",
    "    def forward(self, x):\n",
    "        x = F.max_pool2d(F.relu(self.conv1(x)), (2, 2))\n",
    "        x = F.max_pool2d(F.relu(self.conv2(x)), 2)\n",
    "        x = x.view(-1, self.num_flat_features(x))\n",
    "        x = F.relu(self.fc1(x))\n",
    "        x = F.relu(self.fc2(x))\n",
    "        x = self.fc3(x)\n",
    "        \n",
    "        return x\n",
    "    \n",
    "    def num_flat_features(self, x):\n",
    "        size = x.size()[1:]\n",
    "        num_features = 1\n",
    "        for s in size:\n",
    "            num_features *= s\n",
    "            \n",
    "        return num_features\n",
    "    \n",
    "net = Net()\n",
    "print(net)"
   ]
  },
  {
   "cell_type": "markdown",
   "id": "95057d17",
   "metadata": {},
   "source": [
    "- `parameters()`"
   ]
  },
  {
   "cell_type": "code",
   "execution_count": 33,
   "id": "bd732d62",
   "metadata": {},
   "outputs": [
    {
     "name": "stdout",
     "output_type": "stream",
     "text": [
      "10\n",
      "torch.Size([6, 1, 3, 3])\n"
     ]
    }
   ],
   "source": [
    "params = list(net.parameters())\n",
    "print(len(params))\n",
    "print(params[0].size())"
   ]
  },
  {
   "cell_type": "markdown",
   "id": "9376e7a6",
   "metadata": {},
   "source": [
    "임의의 값을 넣어 forward값 확인"
   ]
  },
  {
   "cell_type": "code",
   "execution_count": 34,
   "id": "ff8acebd",
   "metadata": {},
   "outputs": [
    {
     "name": "stdout",
     "output_type": "stream",
     "text": [
      "tensor([[-0.1684, -0.0085, -0.0029, -0.1415, -0.0285,  0.1243, -0.0255, -0.0033,\n",
      "          0.0587, -0.0357]], grad_fn=<AddmmBackward0>)\n"
     ]
    }
   ],
   "source": [
    "input = torch.randn(1, 1, 28, 28)\n",
    "out = net(input)\n",
    "print(out)"
   ]
  },
  {
   "cell_type": "code",
   "execution_count": 35,
   "id": "8e14f454",
   "metadata": {},
   "outputs": [],
   "source": [
    "criterion = nn.CrossEntropyLoss()\n",
    "optimizer = optim.SGD(net.parameters(), lr=0.001, momentum=0.9)"
   ]
  },
  {
   "cell_type": "code",
   "execution_count": null,
   "id": "b8677038",
   "metadata": {},
   "outputs": [],
   "source": []
  }
 ],
 "metadata": {
  "kernelspec": {
   "display_name": "Study",
   "language": "python",
   "name": "python3"
  },
  "language_info": {
   "codemirror_mode": {
    "name": "ipython",
    "version": 3
   },
   "file_extension": ".py",
   "mimetype": "text/x-python",
   "name": "python",
   "nbconvert_exporter": "python",
   "pygments_lexer": "ipython3",
   "version": "3.9.21"
  }
 },
 "nbformat": 4,
 "nbformat_minor": 5
}
